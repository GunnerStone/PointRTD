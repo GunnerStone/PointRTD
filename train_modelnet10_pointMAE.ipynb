{
 "cells": [
  {
   "cell_type": "code",
   "execution_count": 1,
   "metadata": {},
   "outputs": [],
   "source": [
    "# --- 1. Import Libraries ---\n",
    "import torch\n",
    "import torch.optim as optim\n",
    "import torch.nn as nn\n",
    "from torch.utils.data import Dataset, DataLoader\n",
    "from torch.utils.tensorboard import SummaryWriter\n",
    "from pointMAE import PointMAEModel  # Import your PointMAE model\n",
    "import os\n",
    "import random\n",
    "import numpy as np\n",
    "from plyfile import PlyData\n",
    "import trimesh  # For loading .off files as point clouds\n",
    "import time\n",
    "from sklearn.metrics import accuracy_score\n",
    "from tqdm.notebook import tqdm  # tqdm for Jupyter notebooks"
   ]
  },
  {
   "cell_type": "code",
   "execution_count": 2,
   "metadata": {},
   "outputs": [
    {
     "name": "stdout",
     "output_type": "stream",
     "text": [
      "Device:  cuda\n"
     ]
    }
   ],
   "source": [
    "# --- 2. Define Hyperparameters ---\n",
    "BATCH_SIZE = 32\n",
    "EPOCHS = 300\n",
    "LEARNING_RATE = 0.001\n",
    "WEIGHT_DECAY = 0.05\n",
    "DEVICE = torch.device(\"cuda\" if torch.cuda.is_available() else \"cpu\")\n",
    "NUM_CLASSES = 10\n",
    "CHECKPOINT_DIR = \"./checkpoints_modelnet10\"\n",
    "PRETRAINED_CHECKPOINT = \"./checkpoints_pointmae/pointmae_epoch_50.pth\"\n",
    "LOG_DIR = \"./tensorboard_logs_modelnet10\"\n",
    "\n",
    "# Create directories if they don't exist\n",
    "os.makedirs(CHECKPOINT_DIR, exist_ok=True)\n",
    "os.makedirs(LOG_DIR, exist_ok=True)\n",
    "print(\"Device: \", DEVICE)\n",
    "\n",
    "# Initialize TensorBoard writer\n",
    "writer = SummaryWriter(log_dir=LOG_DIR)"
   ]
  },
  {
   "cell_type": "code",
   "execution_count": 3,
   "metadata": {},
   "outputs": [],
   "source": [
    "# --- 3. Define the ModelNet10 Dataset ---\n",
    "class ModelNet10Dataset(Dataset):\n",
    "    def __init__(self, root_dir, split='train', random_split=False, num_points=1024, seed=42, augment=False):\n",
    "        \"\"\"\n",
    "        ModelNet10 dataset class.\n",
    "\n",
    "        Args:\n",
    "            root_dir (str): Root directory containing ModelNet10.\n",
    "            split (str): 'train' or 'test'.\n",
    "            random_split (bool): If True, use random data split instead of the preset split.\n",
    "            num_points (int): Number of points to sample from each point cloud.\n",
    "            seed (int): Random seed for reproducibility.\n",
    "            augment (bool): Apply data augmentation if True.\n",
    "        \"\"\"\n",
    "        self.root_dir = root_dir\n",
    "        self.split = split\n",
    "        self.num_points = num_points\n",
    "        self.augment = augment\n",
    "        self.data = []\n",
    "        \n",
    "        # Set up random split if specified\n",
    "        if random_split:\n",
    "            self.random_seed_split(seed)\n",
    "        else:\n",
    "            self.preset_split()\n",
    "    \n",
    "    def preset_split(self):\n",
    "        \"\"\"Use preset train/test split from ModelNet10.\"\"\"\n",
    "        classes = sorted(os.listdir(self.root_dir))\n",
    "        self.class_to_idx = {cls_name: idx for idx, cls_name in enumerate(classes)}\n",
    "        for cls_name in classes:\n",
    "            class_path = os.path.join(self.root_dir, cls_name, self.split)\n",
    "            for file_name in os.listdir(class_path):\n",
    "                if file_name.endswith('.off'):\n",
    "                    self.data.append((os.path.join(class_path, file_name), self.class_to_idx[cls_name]))\n",
    "    \n",
    "    def random_seed_split(self, seed):\n",
    "        \"\"\"Create a random split by shuffling files.\"\"\"\n",
    "        random.seed(seed)\n",
    "        classes = sorted(os.listdir(self.root_dir))\n",
    "        self.class_to_idx = {cls_name: idx for idx, cls_name in enumerate(classes)}\n",
    "        for cls_name in classes:\n",
    "            class_files = os.listdir(os.path.join(self.root_dir, cls_name))\n",
    "            random.shuffle(class_files)\n",
    "            split_idx = int(len(class_files) * 0.8)\n",
    "            if self.split == 'train':\n",
    "                self.data.extend([(os.path.join(self.root_dir, cls_name, f), self.class_to_idx[cls_name]) for f in class_files[:split_idx]])\n",
    "            else:\n",
    "                self.data.extend([(os.path.join(self.root_dir, cls_name, f), self.class_to_idx[cls_name]) for f in class_files[split_idx:]])\n",
    "\n",
    "    def __len__(self):\n",
    "        return len(self.data)\n",
    "\n",
    "    def __getitem__(self, idx):\n",
    "        file_path, class_idx = self.data[idx]\n",
    "        mesh = trimesh.load(file_path)\n",
    "        points = mesh.sample(self.num_points)\n",
    "        points = np.array(points, dtype=np.float32)\n",
    "        \n",
    "        # Apply augmentation if specified\n",
    "        if self.augment and self.split == 'train':\n",
    "            points = self.apply_augmentations(points)\n",
    "        \n",
    "        return torch.tensor(points, dtype=torch.float32), class_idx\n",
    "\n",
    "    def apply_augmentations(self, points):\n",
    "        \"\"\"Random scaling and translation.\"\"\"\n",
    "        scale = np.random.uniform(0.8, 1.2)\n",
    "        points *= scale\n",
    "        points += np.random.uniform(-0.1, 0.1, size=(1, 3))\n",
    "        return points\n",
    "\n",
    "\n",
    "# --- 4. Initialize Dataloaders ---\n",
    "root_dir = './ModelNet10'\n",
    "train_dataset = ModelNet10Dataset(root_dir, split='train', random_split=False, augment=True)\n",
    "test_dataset = ModelNet10Dataset(root_dir, split='test', random_split=False, augment=False)\n",
    "\n",
    "train_loader = DataLoader(train_dataset, batch_size=BATCH_SIZE, shuffle=True)\n",
    "test_loader = DataLoader(test_dataset, batch_size=BATCH_SIZE, shuffle=False)"
   ]
  },
  {
   "cell_type": "code",
   "execution_count": null,
   "metadata": {},
   "outputs": [],
   "source": [
    "# --- 5. Load Pretrained Model and Set Up Classifier ---\n",
    "# Load pretrained PointMAE model\n",
    "token_dim = 256\n",
    "num_heads = 8\n",
    "num_layers = 6\n",
    "num_patches = 64\n",
    "num_pts_per_patch = 32\n",
    "num_channels = 3\n",
    "mask_ratio = 0.65\n",
    "\n",
    "# Initialize PointMAE Model\n",
    "pointmae_model = PointMAEModel(\n",
    "    input_dim=num_channels,\n",
    "    token_dim=token_dim,\n",
    "    num_heads=num_heads,\n",
    "    num_layers=num_layers,\n",
    "    mask_ratio=mask_ratio,\n",
    "    num_patches=num_patches,\n",
    "    num_pts_per_patch=num_pts_per_patch,\n",
    "    finetune=True, # Disable masking \n",
    ").to(DEVICE)\n",
    "pointmae_model.load_state_dict(torch.load(PRETRAINED_CHECKPOINT, weights_only=True))\n",
    "encoder = pointmae_model.encoder\n",
    "\n",
    "class EncoderWithClassifier(nn.Module):\n",
    "    def __init__(self, encoder, num_classes):\n",
    "        super().__init__()\n",
    "        self.encoder = encoder\n",
    "        self.classifier = nn.Linear(token_dim * 3, num_classes, bias=False)  # token_dim * 3 due to concatenation\n",
    "\n",
    "    def forward(self, x):\n",
    "        # Encode the input to get tokens\n",
    "        encoded_tokens, *_ = self.encoder(x)  # Shape: (B, num_patches, token_dim)\n",
    "        \n",
    "        # Extract CLS token (first token)\n",
    "        cls_token = encoded_tokens[:, 0, :]  # Shape: (B, token_dim)\n",
    "\n",
    "        # Mean pooling across all tokens\n",
    "        mean_pooled = encoded_tokens.mean(dim=1)  # Shape: (B, token_dim)\n",
    "\n",
    "        # Max pooling across all tokens\n",
    "        max_pooled, _ = encoded_tokens.max(dim=1)  # Shape: (B, token_dim)\n",
    "\n",
    "        # Concatenate CLS token, mean-pooled, and max-pooled features\n",
    "        combined_features = torch.cat([cls_token, mean_pooled, max_pooled], dim=-1)  # Shape: (B, token_dim * 3)\n",
    "\n",
    "        # Pass through the classifier head\n",
    "        logits = self.classifier(combined_features)  # Shape: (B, num_classes)\n",
    "        return logits\n",
    "\n",
    "classification_model = EncoderWithClassifier(encoder, NUM_CLASSES).to(DEVICE)"
   ]
  },
  {
   "cell_type": "code",
   "execution_count": null,
   "metadata": {},
   "outputs": [],
   "source": [
    "# --- Calculate class distribution for cross entropy class weights\n",
    "# --- MAY TAKE A WHILE\n",
    "# from collections import Counter\n",
    "# import torch\n",
    "\n",
    "# # Step 1: Initialize a counter\n",
    "# class_counts = Counter()\n",
    "\n",
    "# # Step 2: Count the occurrences of each class in the training dataset\n",
    "# for _, label in train_dataset:\n",
    "#     class_counts[label] += 1\n",
    "\n",
    "# # Step 3: Convert counts to a list\n",
    "# num_classes = len(class_counts)\n",
    "# class_count_list = [class_counts[i] for i in range(num_classes)]\n",
    "class_count_list = [106, 515, 889, 200, 200, 465, 200, 680, 392, 344] # Precomputed \n",
    "\n",
    "# Step 4: Compute class weights (optional, for use in CrossEntropyLoss)\n",
    "total_samples = sum(class_count_list)\n",
    "class_weights = [total_samples / count for count in class_count_list]\n",
    "class_weights_tensor = torch.tensor(class_weights, dtype=torch.float32, device=DEVICE)\n",
    "\n",
    "print(\"Class Counts:\", class_count_list)\n",
    "print(\"Class Weights:\", class_weights)\n"
   ]
  },
  {
   "cell_type": "code",
   "execution_count": 5,
   "metadata": {},
   "outputs": [],
   "source": [
    "# --- 6. Define Optimizer and Scheduler ---\n",
    "optimizer = optim.AdamW(classification_model.parameters(), lr=LEARNING_RATE, weight_decay=WEIGHT_DECAY)\n",
    "scheduler = optim.lr_scheduler.CosineAnnealingLR(optimizer, T_max=EPOCHS, eta_min=0)"
   ]
  },
  {
   "cell_type": "code",
   "execution_count": null,
   "metadata": {},
   "outputs": [],
   "source": [
    "# --- 7. Define Training Loop with tqdm ---\n",
    "def train_one_epoch(model, loader, optimizer, epoch):\n",
    "    model.train()\n",
    "    running_loss = 0.0\n",
    "    correct = 0\n",
    "    total = 0\n",
    "    progress_bar = tqdm(enumerate(loader), total=len(loader), desc=f\"Epoch [{epoch+1}/{EPOCHS}]\")\n",
    "\n",
    "    # Initialize CrossEntropy loss\n",
    "    criterion = nn.CrossEntropyLoss(weight=class_weights_tensor)\n",
    "    \n",
    "    for batch_idx, (points, labels) in progress_bar:\n",
    "        points, labels = points.to(DEVICE), labels.to(DEVICE)\n",
    "\n",
    "        # Forward pass\n",
    "        optimizer.zero_grad()\n",
    "        outputs = model(points)\n",
    "        loss = criterion(outputs, labels)\n",
    "\n",
    "        # Backward pass\n",
    "        loss.backward()\n",
    "        optimizer.step()\n",
    "\n",
    "        # Update metrics\n",
    "        running_loss += loss.item()\n",
    "        _, predicted = outputs.max(1)\n",
    "        total += labels.size(0)\n",
    "        correct += predicted.eq(labels).sum().item()\n",
    "        \n",
    "        # Update tqdm progress bar\n",
    "        progress_bar.set_postfix(Batch=f\"{batch_idx+1}/{len(loader)}\", Loss=f\"{loss.item():.4f}\")\n",
    "\n",
    "    avg_loss = running_loss / len(loader)\n",
    "    accuracy = correct / total\n",
    "    return avg_loss, accuracy\n",
    "\n",
    "\n",
    "def validate_one_epoch(model, loader, epoch):\n",
    "    model.eval()\n",
    "    running_loss = 0.0\n",
    "    correct = 0\n",
    "    total = 0\n",
    "\n",
    "    # Initialize CrossEntropy loss\n",
    "    criterion = nn.CrossEntropyLoss(weight=class_weights_tensor)\n",
    "\n",
    "    with torch.no_grad():\n",
    "        progress_bar = tqdm(enumerate(loader), total=len(loader), desc=f\"Validation Epoch [{epoch+1}/{EPOCHS}]\")\n",
    "        for batch_idx, (points, labels) in progress_bar:\n",
    "            points, labels = points.to(DEVICE), labels.to(DEVICE)\n",
    "            outputs = model(points)\n",
    "            loss = criterion(outputs, labels)\n",
    "            \n",
    "            running_loss += loss.item()\n",
    "            _, predicted = outputs.max(1)\n",
    "            total += labels.size(0)\n",
    "            correct += predicted.eq(labels).sum().item()\n",
    "\n",
    "            # Update tqdm progress bar\n",
    "            progress_bar.set_postfix(Batch=f\"{batch_idx+1}/{len(loader)}\", Loss=f\"{loss.item():.4f}\")\n",
    "\n",
    "    avg_loss = running_loss / len(loader)\n",
    "    accuracy = correct / total\n",
    "    return avg_loss, accuracy"
   ]
  },
  {
   "cell_type": "code",
   "execution_count": null,
   "metadata": {},
   "outputs": [
    {
     "data": {
      "application/vnd.jupyter.widget-view+json": {
       "model_id": "f1aeb4f290ec4b82ac5768d339491f3e",
       "version_major": 2,
       "version_minor": 0
      },
      "text/plain": [
       "Epoch [1/300]:   0%|          | 0/125 [00:00<?, ?it/s]"
      ]
     },
     "metadata": {},
     "output_type": "display_data"
    },
    {
     "data": {
      "application/vnd.jupyter.widget-view+json": {
       "model_id": "f92e01c4bec349eb928a164972a42ec5",
       "version_major": 2,
       "version_minor": 0
      },
      "text/plain": [
       "Validation Epoch [1/300]:   0%|          | 0/29 [00:00<?, ?it/s]"
      ]
     },
     "metadata": {},
     "output_type": "display_data"
    },
    {
     "name": "stdout",
     "output_type": "stream",
     "text": [
      "Epoch [1/300] - Train Loss: 2.0523, Train Acc: 0.3287, Val Loss: 4.1535, Val Acc: 0.1443\n"
     ]
    },
    {
     "data": {
      "application/vnd.jupyter.widget-view+json": {
       "model_id": "891087922ece4faeb5892649f7d87937",
       "version_major": 2,
       "version_minor": 0
      },
      "text/plain": [
       "Epoch [2/300]:   0%|          | 0/125 [00:00<?, ?it/s]"
      ]
     },
     "metadata": {},
     "output_type": "display_data"
    },
    {
     "data": {
      "application/vnd.jupyter.widget-view+json": {
       "model_id": "9e6d4b4b6e4b4bf18bb6c49f538bfbc2",
       "version_major": 2,
       "version_minor": 0
      },
      "text/plain": [
       "Validation Epoch [2/300]:   0%|          | 0/29 [00:00<?, ?it/s]"
      ]
     },
     "metadata": {},
     "output_type": "display_data"
    },
    {
     "name": "stdout",
     "output_type": "stream",
     "text": [
      "Epoch [2/300] - Train Loss: 1.4912, Train Acc: 0.5164, Val Loss: 3.4874, Val Acc: 0.1839\n"
     ]
    },
    {
     "data": {
      "application/vnd.jupyter.widget-view+json": {
       "model_id": "1b7f672ddf9d498cb11fa882b4ca251f",
       "version_major": 2,
       "version_minor": 0
      },
      "text/plain": [
       "Epoch [3/300]:   0%|          | 0/125 [00:00<?, ?it/s]"
      ]
     },
     "metadata": {},
     "output_type": "display_data"
    },
    {
     "data": {
      "application/vnd.jupyter.widget-view+json": {
       "model_id": "7147bd1a1a194627b550924023074001",
       "version_major": 2,
       "version_minor": 0
      },
      "text/plain": [
       "Validation Epoch [3/300]:   0%|          | 0/29 [00:00<?, ?it/s]"
      ]
     },
     "metadata": {},
     "output_type": "display_data"
    },
    {
     "name": "stdout",
     "output_type": "stream",
     "text": [
      "Epoch [3/300] - Train Loss: 1.1470, Train Acc: 0.6337, Val Loss: 4.0317, Val Acc: 0.1894\n"
     ]
    },
    {
     "data": {
      "application/vnd.jupyter.widget-view+json": {
       "model_id": "68d193263963437bb37979844ee895ba",
       "version_major": 2,
       "version_minor": 0
      },
      "text/plain": [
       "Epoch [4/300]:   0%|          | 0/125 [00:00<?, ?it/s]"
      ]
     },
     "metadata": {},
     "output_type": "display_data"
    },
    {
     "data": {
      "application/vnd.jupyter.widget-view+json": {
       "model_id": "bb677da17bf34763a629cb7e0e2cadbb",
       "version_major": 2,
       "version_minor": 0
      },
      "text/plain": [
       "Validation Epoch [4/300]:   0%|          | 0/29 [00:00<?, ?it/s]"
      ]
     },
     "metadata": {},
     "output_type": "display_data"
    },
    {
     "name": "stdout",
     "output_type": "stream",
     "text": [
      "Epoch [4/300] - Train Loss: 1.0839, Train Acc: 0.6547, Val Loss: 4.2468, Val Acc: 0.1641\n"
     ]
    },
    {
     "data": {
      "application/vnd.jupyter.widget-view+json": {
       "model_id": "05713ce1a14642ea9e313f549d884f4a",
       "version_major": 2,
       "version_minor": 0
      },
      "text/plain": [
       "Epoch [5/300]:   0%|          | 0/125 [00:00<?, ?it/s]"
      ]
     },
     "metadata": {},
     "output_type": "display_data"
    },
    {
     "data": {
      "application/vnd.jupyter.widget-view+json": {
       "model_id": "64218f9d13934c468d5674993041309a",
       "version_major": 2,
       "version_minor": 0
      },
      "text/plain": [
       "Validation Epoch [5/300]:   0%|          | 0/29 [00:00<?, ?it/s]"
      ]
     },
     "metadata": {},
     "output_type": "display_data"
    },
    {
     "name": "stdout",
     "output_type": "stream",
     "text": [
      "Epoch [5/300] - Train Loss: 0.9719, Train Acc: 0.6885, Val Loss: 4.8172, Val Acc: 0.1355\n"
     ]
    },
    {
     "data": {
      "application/vnd.jupyter.widget-view+json": {
       "model_id": "403d0a1d9f4c4099ba97d311cfc748c0",
       "version_major": 2,
       "version_minor": 0
      },
      "text/plain": [
       "Epoch [6/300]:   0%|          | 0/125 [00:00<?, ?it/s]"
      ]
     },
     "metadata": {},
     "output_type": "display_data"
    },
    {
     "data": {
      "application/vnd.jupyter.widget-view+json": {
       "model_id": "ab777e0d8fca4d4a9032a52708cf0040",
       "version_major": 2,
       "version_minor": 0
      },
      "text/plain": [
       "Validation Epoch [6/300]:   0%|          | 0/29 [00:00<?, ?it/s]"
      ]
     },
     "metadata": {},
     "output_type": "display_data"
    },
    {
     "name": "stdout",
     "output_type": "stream",
     "text": [
      "Epoch [6/300] - Train Loss: 0.9281, Train Acc: 0.7134, Val Loss: 4.7177, Val Acc: 0.1531\n"
     ]
    },
    {
     "data": {
      "application/vnd.jupyter.widget-view+json": {
       "model_id": "df30507d84be499c99daf0e12e4a4cbf",
       "version_major": 2,
       "version_minor": 0
      },
      "text/plain": [
       "Epoch [7/300]:   0%|          | 0/125 [00:00<?, ?it/s]"
      ]
     },
     "metadata": {},
     "output_type": "display_data"
    },
    {
     "data": {
      "application/vnd.jupyter.widget-view+json": {
       "model_id": "4db281a1ccf446ecb1ed87a34289ef12",
       "version_major": 2,
       "version_minor": 0
      },
      "text/plain": [
       "Validation Epoch [7/300]:   0%|          | 0/29 [00:00<?, ?it/s]"
      ]
     },
     "metadata": {},
     "output_type": "display_data"
    },
    {
     "name": "stdout",
     "output_type": "stream",
     "text": [
      "Epoch [7/300] - Train Loss: 0.8670, Train Acc: 0.7241, Val Loss: 5.4932, Val Acc: 0.1575\n"
     ]
    },
    {
     "data": {
      "application/vnd.jupyter.widget-view+json": {
       "model_id": "ee7fa59a114e439991d5317b398c6ff7",
       "version_major": 2,
       "version_minor": 0
      },
      "text/plain": [
       "Epoch [8/300]:   0%|          | 0/125 [00:00<?, ?it/s]"
      ]
     },
     "metadata": {},
     "output_type": "display_data"
    },
    {
     "data": {
      "application/vnd.jupyter.widget-view+json": {
       "model_id": "68f6c6f583af4a71b4df5b8c26b12db8",
       "version_major": 2,
       "version_minor": 0
      },
      "text/plain": [
       "Validation Epoch [8/300]:   0%|          | 0/29 [00:00<?, ?it/s]"
      ]
     },
     "metadata": {},
     "output_type": "display_data"
    },
    {
     "name": "stdout",
     "output_type": "stream",
     "text": [
      "Epoch [8/300] - Train Loss: 0.7512, Train Acc: 0.7645, Val Loss: 4.6011, Val Acc: 0.1608\n"
     ]
    },
    {
     "data": {
      "application/vnd.jupyter.widget-view+json": {
       "model_id": "7f2ff097298944cbabb1cac6fc2f788e",
       "version_major": 2,
       "version_minor": 0
      },
      "text/plain": [
       "Epoch [9/300]:   0%|          | 0/125 [00:00<?, ?it/s]"
      ]
     },
     "metadata": {},
     "output_type": "display_data"
    },
    {
     "data": {
      "application/vnd.jupyter.widget-view+json": {
       "model_id": "22536bc16ed444069dae14edc5b93de4",
       "version_major": 2,
       "version_minor": 0
      },
      "text/plain": [
       "Validation Epoch [9/300]:   0%|          | 0/29 [00:00<?, ?it/s]"
      ]
     },
     "metadata": {},
     "output_type": "display_data"
    },
    {
     "name": "stdout",
     "output_type": "stream",
     "text": [
      "Epoch [9/300] - Train Loss: 0.6994, Train Acc: 0.7788, Val Loss: 6.6824, Val Acc: 0.1289\n"
     ]
    },
    {
     "data": {
      "application/vnd.jupyter.widget-view+json": {
       "model_id": "58d7a6e45086476e9daf902ecc994402",
       "version_major": 2,
       "version_minor": 0
      },
      "text/plain": [
       "Epoch [10/300]:   0%|          | 0/125 [00:00<?, ?it/s]"
      ]
     },
     "metadata": {},
     "output_type": "display_data"
    },
    {
     "data": {
      "application/vnd.jupyter.widget-view+json": {
       "model_id": "1f85ce35e7c54a2c92ecd21639d5aaa3",
       "version_major": 2,
       "version_minor": 0
      },
      "text/plain": [
       "Validation Epoch [10/300]:   0%|          | 0/29 [00:00<?, ?it/s]"
      ]
     },
     "metadata": {},
     "output_type": "display_data"
    },
    {
     "name": "stdout",
     "output_type": "stream",
     "text": [
      "Epoch [10/300] - Train Loss: 0.6928, Train Acc: 0.7793, Val Loss: 5.8869, Val Acc: 0.1707\n",
      "Checkpoint saved at ./checkpoints_modelnet10/classification_epoch_10.pth\n"
     ]
    },
    {
     "data": {
      "application/vnd.jupyter.widget-view+json": {
       "model_id": "11dbe05194ef4b358d27dfe2979cac2d",
       "version_major": 2,
       "version_minor": 0
      },
      "text/plain": [
       "Epoch [11/300]:   0%|          | 0/125 [00:00<?, ?it/s]"
      ]
     },
     "metadata": {},
     "output_type": "display_data"
    },
    {
     "data": {
      "application/vnd.jupyter.widget-view+json": {
       "model_id": "4f69f4db709b441cad32481545334c56",
       "version_major": 2,
       "version_minor": 0
      },
      "text/plain": [
       "Validation Epoch [11/300]:   0%|          | 0/29 [00:00<?, ?it/s]"
      ]
     },
     "metadata": {},
     "output_type": "display_data"
    },
    {
     "name": "stdout",
     "output_type": "stream",
     "text": [
      "Epoch [11/300] - Train Loss: 0.6154, Train Acc: 0.8053, Val Loss: 5.5873, Val Acc: 0.1740\n"
     ]
    },
    {
     "data": {
      "application/vnd.jupyter.widget-view+json": {
       "model_id": "0405b120815d4b8f873853a25010d9d6",
       "version_major": 2,
       "version_minor": 0
      },
      "text/plain": [
       "Epoch [12/300]:   0%|          | 0/125 [00:00<?, ?it/s]"
      ]
     },
     "metadata": {},
     "output_type": "display_data"
    },
    {
     "data": {
      "application/vnd.jupyter.widget-view+json": {
       "model_id": "5a51f19d40d94f188cba918ba3dff7b2",
       "version_major": 2,
       "version_minor": 0
      },
      "text/plain": [
       "Validation Epoch [12/300]:   0%|          | 0/29 [00:00<?, ?it/s]"
      ]
     },
     "metadata": {},
     "output_type": "display_data"
    },
    {
     "name": "stdout",
     "output_type": "stream",
     "text": [
      "Epoch [12/300] - Train Loss: 0.6370, Train Acc: 0.8086, Val Loss: 4.5040, Val Acc: 0.1740\n"
     ]
    },
    {
     "data": {
      "application/vnd.jupyter.widget-view+json": {
       "model_id": "917313b316344e6f853d68a02bf64214",
       "version_major": 2,
       "version_minor": 0
      },
      "text/plain": [
       "Epoch [13/300]:   0%|          | 0/125 [00:00<?, ?it/s]"
      ]
     },
     "metadata": {},
     "output_type": "display_data"
    },
    {
     "data": {
      "application/vnd.jupyter.widget-view+json": {
       "model_id": "7ba51077c8b04b36a10db91186b046e7",
       "version_major": 2,
       "version_minor": 0
      },
      "text/plain": [
       "Validation Epoch [13/300]:   0%|          | 0/29 [00:00<?, ?it/s]"
      ]
     },
     "metadata": {},
     "output_type": "display_data"
    },
    {
     "name": "stdout",
     "output_type": "stream",
     "text": [
      "Epoch [13/300] - Train Loss: 0.5311, Train Acc: 0.8279, Val Loss: 5.1433, Val Acc: 0.1520\n"
     ]
    },
    {
     "data": {
      "application/vnd.jupyter.widget-view+json": {
       "model_id": "4b7033a4b7e24b8781a5ac018366dd59",
       "version_major": 2,
       "version_minor": 0
      },
      "text/plain": [
       "Epoch [14/300]:   0%|          | 0/125 [00:00<?, ?it/s]"
      ]
     },
     "metadata": {},
     "output_type": "display_data"
    },
    {
     "data": {
      "application/vnd.jupyter.widget-view+json": {
       "model_id": "53b5459940394dfd845dbea8eb7e8cdc",
       "version_major": 2,
       "version_minor": 0
      },
      "text/plain": [
       "Validation Epoch [14/300]:   0%|          | 0/29 [00:00<?, ?it/s]"
      ]
     },
     "metadata": {},
     "output_type": "display_data"
    },
    {
     "name": "stdout",
     "output_type": "stream",
     "text": [
      "Epoch [14/300] - Train Loss: 0.5909, Train Acc: 0.8136, Val Loss: 4.2923, Val Acc: 0.2379\n"
     ]
    },
    {
     "data": {
      "application/vnd.jupyter.widget-view+json": {
       "model_id": "617aefc29d394bea99dc9c1139f5d2d6",
       "version_major": 2,
       "version_minor": 0
      },
      "text/plain": [
       "Epoch [15/300]:   0%|          | 0/125 [00:00<?, ?it/s]"
      ]
     },
     "metadata": {},
     "output_type": "display_data"
    },
    {
     "data": {
      "application/vnd.jupyter.widget-view+json": {
       "model_id": "29a5093106f94a6f87e67c37e818686b",
       "version_major": 2,
       "version_minor": 0
      },
      "text/plain": [
       "Validation Epoch [15/300]:   0%|          | 0/29 [00:00<?, ?it/s]"
      ]
     },
     "metadata": {},
     "output_type": "display_data"
    },
    {
     "name": "stdout",
     "output_type": "stream",
     "text": [
      "Epoch [15/300] - Train Loss: 0.5192, Train Acc: 0.8316, Val Loss: 4.6509, Val Acc: 0.2445\n"
     ]
    },
    {
     "data": {
      "application/vnd.jupyter.widget-view+json": {
       "model_id": "ae916b3802b447f99c075c225598581e",
       "version_major": 2,
       "version_minor": 0
      },
      "text/plain": [
       "Epoch [16/300]:   0%|          | 0/125 [00:00<?, ?it/s]"
      ]
     },
     "metadata": {},
     "output_type": "display_data"
    },
    {
     "data": {
      "application/vnd.jupyter.widget-view+json": {
       "model_id": "8d6e71b5ebce46c4bc3a44919d120414",
       "version_major": 2,
       "version_minor": 0
      },
      "text/plain": [
       "Validation Epoch [16/300]:   0%|          | 0/29 [00:00<?, ?it/s]"
      ]
     },
     "metadata": {},
     "output_type": "display_data"
    },
    {
     "name": "stdout",
     "output_type": "stream",
     "text": [
      "Epoch [16/300] - Train Loss: 0.5857, Train Acc: 0.8116, Val Loss: 3.5174, Val Acc: 0.1795\n"
     ]
    },
    {
     "data": {
      "application/vnd.jupyter.widget-view+json": {
       "model_id": "9d16806d9ac94c59ba07d041807542b5",
       "version_major": 2,
       "version_minor": 0
      },
      "text/plain": [
       "Epoch [17/300]:   0%|          | 0/125 [00:00<?, ?it/s]"
      ]
     },
     "metadata": {},
     "output_type": "display_data"
    },
    {
     "data": {
      "application/vnd.jupyter.widget-view+json": {
       "model_id": "799725cea7c14fc08c07a2f9e18188e9",
       "version_major": 2,
       "version_minor": 0
      },
      "text/plain": [
       "Validation Epoch [17/300]:   0%|          | 0/29 [00:00<?, ?it/s]"
      ]
     },
     "metadata": {},
     "output_type": "display_data"
    },
    {
     "name": "stdout",
     "output_type": "stream",
     "text": [
      "Epoch [17/300] - Train Loss: 0.4608, Train Acc: 0.8469, Val Loss: 4.6144, Val Acc: 0.1718\n"
     ]
    },
    {
     "data": {
      "application/vnd.jupyter.widget-view+json": {
       "model_id": "810323ff202d490eb75b594f41f557c6",
       "version_major": 2,
       "version_minor": 0
      },
      "text/plain": [
       "Epoch [18/300]:   0%|          | 0/125 [00:00<?, ?it/s]"
      ]
     },
     "metadata": {},
     "output_type": "display_data"
    },
    {
     "data": {
      "application/vnd.jupyter.widget-view+json": {
       "model_id": "faeb5f35ed92402ea4e000929844ecff",
       "version_major": 2,
       "version_minor": 0
      },
      "text/plain": [
       "Validation Epoch [18/300]:   0%|          | 0/29 [00:00<?, ?it/s]"
      ]
     },
     "metadata": {},
     "output_type": "display_data"
    },
    {
     "name": "stdout",
     "output_type": "stream",
     "text": [
      "Epoch [18/300] - Train Loss: 0.4574, Train Acc: 0.8524, Val Loss: 5.0224, Val Acc: 0.1773\n"
     ]
    },
    {
     "data": {
      "application/vnd.jupyter.widget-view+json": {
       "model_id": "0fcc890bd1e5485cb2804bf135f5a7bb",
       "version_major": 2,
       "version_minor": 0
      },
      "text/plain": [
       "Epoch [19/300]:   0%|          | 0/125 [00:00<?, ?it/s]"
      ]
     },
     "metadata": {},
     "output_type": "display_data"
    },
    {
     "data": {
      "application/vnd.jupyter.widget-view+json": {
       "model_id": "b64a192a617e4f389ba43949043146b7",
       "version_major": 2,
       "version_minor": 0
      },
      "text/plain": [
       "Validation Epoch [19/300]:   0%|          | 0/29 [00:00<?, ?it/s]"
      ]
     },
     "metadata": {},
     "output_type": "display_data"
    },
    {
     "name": "stdout",
     "output_type": "stream",
     "text": [
      "Epoch [19/300] - Train Loss: 0.4305, Train Acc: 0.8587, Val Loss: 3.5562, Val Acc: 0.1652\n"
     ]
    },
    {
     "data": {
      "application/vnd.jupyter.widget-view+json": {
       "model_id": "35d7c0a71c0940d3a377d58f0e65ce18",
       "version_major": 2,
       "version_minor": 0
      },
      "text/plain": [
       "Epoch [20/300]:   0%|          | 0/125 [00:00<?, ?it/s]"
      ]
     },
     "metadata": {},
     "output_type": "display_data"
    },
    {
     "data": {
      "application/vnd.jupyter.widget-view+json": {
       "model_id": "ad91b892d0c748c1a6669e72e89b5b01",
       "version_major": 2,
       "version_minor": 0
      },
      "text/plain": [
       "Validation Epoch [20/300]:   0%|          | 0/29 [00:00<?, ?it/s]"
      ]
     },
     "metadata": {},
     "output_type": "display_data"
    },
    {
     "name": "stdout",
     "output_type": "stream",
     "text": [
      "Epoch [20/300] - Train Loss: 0.4769, Train Acc: 0.8406, Val Loss: 2.8718, Val Acc: 0.2236\n",
      "Checkpoint saved at ./checkpoints_modelnet10/classification_epoch_20.pth\n"
     ]
    },
    {
     "data": {
      "application/vnd.jupyter.widget-view+json": {
       "model_id": "b6af4bc94b1d43a190e3477cf197a3ef",
       "version_major": 2,
       "version_minor": 0
      },
      "text/plain": [
       "Epoch [21/300]:   0%|          | 0/125 [00:00<?, ?it/s]"
      ]
     },
     "metadata": {},
     "output_type": "display_data"
    },
    {
     "data": {
      "application/vnd.jupyter.widget-view+json": {
       "model_id": "16161a836db844e58972e0ba3f3591a0",
       "version_major": 2,
       "version_minor": 0
      },
      "text/plain": [
       "Validation Epoch [21/300]:   0%|          | 0/29 [00:00<?, ?it/s]"
      ]
     },
     "metadata": {},
     "output_type": "display_data"
    },
    {
     "name": "stdout",
     "output_type": "stream",
     "text": [
      "Epoch [21/300] - Train Loss: 0.5343, Train Acc: 0.8351, Val Loss: 2.9485, Val Acc: 0.2621\n"
     ]
    },
    {
     "data": {
      "application/vnd.jupyter.widget-view+json": {
       "model_id": "9d23762083e84b59b65cbd1f779229cf",
       "version_major": 2,
       "version_minor": 0
      },
      "text/plain": [
       "Epoch [22/300]:   0%|          | 0/125 [00:00<?, ?it/s]"
      ]
     },
     "metadata": {},
     "output_type": "display_data"
    },
    {
     "data": {
      "application/vnd.jupyter.widget-view+json": {
       "model_id": "1219aa489e3b48bea96afc63cf4028d8",
       "version_major": 2,
       "version_minor": 0
      },
      "text/plain": [
       "Validation Epoch [22/300]:   0%|          | 0/29 [00:00<?, ?it/s]"
      ]
     },
     "metadata": {},
     "output_type": "display_data"
    },
    {
     "name": "stdout",
     "output_type": "stream",
     "text": [
      "Epoch [22/300] - Train Loss: 0.3926, Train Acc: 0.8717, Val Loss: 2.2673, Val Acc: 0.3304\n"
     ]
    },
    {
     "data": {
      "application/vnd.jupyter.widget-view+json": {
       "model_id": "4551f9a6a94d49578b2baf523ae78da7",
       "version_major": 2,
       "version_minor": 0
      },
      "text/plain": [
       "Epoch [23/300]:   0%|          | 0/125 [00:00<?, ?it/s]"
      ]
     },
     "metadata": {},
     "output_type": "display_data"
    },
    {
     "data": {
      "application/vnd.jupyter.widget-view+json": {
       "model_id": "e3eefac35d9b49a295e8de03eaba8154",
       "version_major": 2,
       "version_minor": 0
      },
      "text/plain": [
       "Validation Epoch [23/300]:   0%|          | 0/29 [00:00<?, ?it/s]"
      ]
     },
     "metadata": {},
     "output_type": "display_data"
    },
    {
     "name": "stdout",
     "output_type": "stream",
     "text": [
      "Epoch [23/300] - Train Loss: 0.4343, Train Acc: 0.8582, Val Loss: 4.0579, Val Acc: 0.2753\n"
     ]
    },
    {
     "data": {
      "application/vnd.jupyter.widget-view+json": {
       "model_id": "a7438ca8d05f4944bf17a3578f7b7554",
       "version_major": 2,
       "version_minor": 0
      },
      "text/plain": [
       "Epoch [24/300]:   0%|          | 0/125 [00:00<?, ?it/s]"
      ]
     },
     "metadata": {},
     "output_type": "display_data"
    },
    {
     "data": {
      "application/vnd.jupyter.widget-view+json": {
       "model_id": "00e2435dab2243d4a20bd8a97dd28a8e",
       "version_major": 2,
       "version_minor": 0
      },
      "text/plain": [
       "Validation Epoch [24/300]:   0%|          | 0/29 [00:00<?, ?it/s]"
      ]
     },
     "metadata": {},
     "output_type": "display_data"
    },
    {
     "name": "stdout",
     "output_type": "stream",
     "text": [
      "Epoch [24/300] - Train Loss: 0.4265, Train Acc: 0.8564, Val Loss: 2.3976, Val Acc: 0.4097\n"
     ]
    },
    {
     "data": {
      "application/vnd.jupyter.widget-view+json": {
       "model_id": "8a8ca6f01b1c47f48b90d5b6e4049caf",
       "version_major": 2,
       "version_minor": 0
      },
      "text/plain": [
       "Epoch [25/300]:   0%|          | 0/125 [00:00<?, ?it/s]"
      ]
     },
     "metadata": {},
     "output_type": "display_data"
    },
    {
     "data": {
      "application/vnd.jupyter.widget-view+json": {
       "model_id": "591d05a238b9471294d3c06bb00f6f82",
       "version_major": 2,
       "version_minor": 0
      },
      "text/plain": [
       "Validation Epoch [25/300]:   0%|          | 0/29 [00:00<?, ?it/s]"
      ]
     },
     "metadata": {},
     "output_type": "display_data"
    },
    {
     "name": "stdout",
     "output_type": "stream",
     "text": [
      "Epoch [25/300] - Train Loss: 0.3418, Train Acc: 0.8875, Val Loss: 2.3415, Val Acc: 0.3844\n"
     ]
    },
    {
     "data": {
      "application/vnd.jupyter.widget-view+json": {
       "model_id": "9a657ee8433449c5ba5c9077cde429b3",
       "version_major": 2,
       "version_minor": 0
      },
      "text/plain": [
       "Epoch [26/300]:   0%|          | 0/125 [00:00<?, ?it/s]"
      ]
     },
     "metadata": {},
     "output_type": "display_data"
    },
    {
     "data": {
      "application/vnd.jupyter.widget-view+json": {
       "model_id": "dce2ac0661a64a96aa30fdbc64fa9e22",
       "version_major": 2,
       "version_minor": 0
      },
      "text/plain": [
       "Validation Epoch [26/300]:   0%|          | 0/29 [00:00<?, ?it/s]"
      ]
     },
     "metadata": {},
     "output_type": "display_data"
    },
    {
     "name": "stdout",
     "output_type": "stream",
     "text": [
      "Epoch [26/300] - Train Loss: 0.3308, Train Acc: 0.8955, Val Loss: 3.8077, Val Acc: 0.1597\n"
     ]
    },
    {
     "data": {
      "application/vnd.jupyter.widget-view+json": {
       "model_id": "d97e537305184c1b9a7c458e515511ea",
       "version_major": 2,
       "version_minor": 0
      },
      "text/plain": [
       "Epoch [27/300]:   0%|          | 0/125 [00:00<?, ?it/s]"
      ]
     },
     "metadata": {},
     "output_type": "display_data"
    },
    {
     "data": {
      "application/vnd.jupyter.widget-view+json": {
       "model_id": "2328479cdd8a44e78d325807354e2618",
       "version_major": 2,
       "version_minor": 0
      },
      "text/plain": [
       "Validation Epoch [27/300]:   0%|          | 0/29 [00:00<?, ?it/s]"
      ]
     },
     "metadata": {},
     "output_type": "display_data"
    },
    {
     "name": "stdout",
     "output_type": "stream",
     "text": [
      "Epoch [27/300] - Train Loss: 0.4271, Train Acc: 0.8664, Val Loss: 0.9155, Val Acc: 0.6663\n"
     ]
    },
    {
     "data": {
      "application/vnd.jupyter.widget-view+json": {
       "model_id": "056e9d0538c2415ab002871dd1b59239",
       "version_major": 2,
       "version_minor": 0
      },
      "text/plain": [
       "Epoch [28/300]:   0%|          | 0/125 [00:00<?, ?it/s]"
      ]
     },
     "metadata": {},
     "output_type": "display_data"
    },
    {
     "data": {
      "application/vnd.jupyter.widget-view+json": {
       "model_id": "6d4d1d597e3d487bbc5965275bc7d81a",
       "version_major": 2,
       "version_minor": 0
      },
      "text/plain": [
       "Validation Epoch [28/300]:   0%|          | 0/29 [00:00<?, ?it/s]"
      ]
     },
     "metadata": {},
     "output_type": "display_data"
    },
    {
     "name": "stdout",
     "output_type": "stream",
     "text": [
      "Epoch [28/300] - Train Loss: 0.3845, Train Acc: 0.8710, Val Loss: 4.4712, Val Acc: 0.1696\n"
     ]
    },
    {
     "data": {
      "application/vnd.jupyter.widget-view+json": {
       "model_id": "aa7914332ea14879b6cfecff2f87fa43",
       "version_major": 2,
       "version_minor": 0
      },
      "text/plain": [
       "Epoch [29/300]:   0%|          | 0/125 [00:00<?, ?it/s]"
      ]
     },
     "metadata": {},
     "output_type": "display_data"
    },
    {
     "data": {
      "application/vnd.jupyter.widget-view+json": {
       "model_id": "f3185bc45cb84934a8e587b9f05940cc",
       "version_major": 2,
       "version_minor": 0
      },
      "text/plain": [
       "Validation Epoch [29/300]:   0%|          | 0/29 [00:00<?, ?it/s]"
      ]
     },
     "metadata": {},
     "output_type": "display_data"
    },
    {
     "name": "stdout",
     "output_type": "stream",
     "text": [
      "Epoch [29/300] - Train Loss: 0.4314, Train Acc: 0.8567, Val Loss: 3.3867, Val Acc: 0.2280\n"
     ]
    },
    {
     "data": {
      "application/vnd.jupyter.widget-view+json": {
       "model_id": "d9840fc9349244638429d232b7e83915",
       "version_major": 2,
       "version_minor": 0
      },
      "text/plain": [
       "Epoch [30/300]:   0%|          | 0/125 [00:00<?, ?it/s]"
      ]
     },
     "metadata": {},
     "output_type": "display_data"
    },
    {
     "data": {
      "application/vnd.jupyter.widget-view+json": {
       "model_id": "565709dcc32441f59156012adada4823",
       "version_major": 2,
       "version_minor": 0
      },
      "text/plain": [
       "Validation Epoch [30/300]:   0%|          | 0/29 [00:00<?, ?it/s]"
      ]
     },
     "metadata": {},
     "output_type": "display_data"
    },
    {
     "name": "stdout",
     "output_type": "stream",
     "text": [
      "Epoch [30/300] - Train Loss: 0.3615, Train Acc: 0.8855, Val Loss: 2.9174, Val Acc: 0.1960\n",
      "Checkpoint saved at ./checkpoints_modelnet10/classification_epoch_30.pth\n"
     ]
    },
    {
     "data": {
      "application/vnd.jupyter.widget-view+json": {
       "model_id": "585709a81e7b4b948b041022f9a2fecf",
       "version_major": 2,
       "version_minor": 0
      },
      "text/plain": [
       "Epoch [31/300]:   0%|          | 0/125 [00:00<?, ?it/s]"
      ]
     },
     "metadata": {},
     "output_type": "display_data"
    },
    {
     "data": {
      "application/vnd.jupyter.widget-view+json": {
       "model_id": "a6c9d56efa0344249117d09030353b7c",
       "version_major": 2,
       "version_minor": 0
      },
      "text/plain": [
       "Validation Epoch [31/300]:   0%|          | 0/29 [00:00<?, ?it/s]"
      ]
     },
     "metadata": {},
     "output_type": "display_data"
    },
    {
     "name": "stdout",
     "output_type": "stream",
     "text": [
      "Epoch [31/300] - Train Loss: 0.3471, Train Acc: 0.8857, Val Loss: 3.4855, Val Acc: 0.1817\n"
     ]
    },
    {
     "data": {
      "application/vnd.jupyter.widget-view+json": {
       "model_id": "839e12798ff74fd4ac2e303e08aca4a8",
       "version_major": 2,
       "version_minor": 0
      },
      "text/plain": [
       "Epoch [32/300]:   0%|          | 0/125 [00:00<?, ?it/s]"
      ]
     },
     "metadata": {},
     "output_type": "display_data"
    },
    {
     "data": {
      "application/vnd.jupyter.widget-view+json": {
       "model_id": "72e0bbb6e1494383b3edabd1277c1afb",
       "version_major": 2,
       "version_minor": 0
      },
      "text/plain": [
       "Validation Epoch [32/300]:   0%|          | 0/29 [00:00<?, ?it/s]"
      ]
     },
     "metadata": {},
     "output_type": "display_data"
    },
    {
     "name": "stdout",
     "output_type": "stream",
     "text": [
      "Epoch [32/300] - Train Loss: 0.3645, Train Acc: 0.8840, Val Loss: 2.5193, Val Acc: 0.3976\n"
     ]
    },
    {
     "data": {
      "application/vnd.jupyter.widget-view+json": {
       "model_id": "a0a6f07a5780459c84383bc18e3e5722",
       "version_major": 2,
       "version_minor": 0
      },
      "text/plain": [
       "Epoch [33/300]:   0%|          | 0/125 [00:00<?, ?it/s]"
      ]
     },
     "metadata": {},
     "output_type": "display_data"
    },
    {
     "data": {
      "application/vnd.jupyter.widget-view+json": {
       "model_id": "cc89f6e0a9f749b98694b00fc08c30a4",
       "version_major": 2,
       "version_minor": 0
      },
      "text/plain": [
       "Validation Epoch [33/300]:   0%|          | 0/29 [00:00<?, ?it/s]"
      ]
     },
     "metadata": {},
     "output_type": "display_data"
    },
    {
     "name": "stdout",
     "output_type": "stream",
     "text": [
      "Epoch [33/300] - Train Loss: 0.3677, Train Acc: 0.8802, Val Loss: 2.7226, Val Acc: 0.3425\n"
     ]
    },
    {
     "data": {
      "application/vnd.jupyter.widget-view+json": {
       "model_id": "f7f750e456f141e395407702730d7984",
       "version_major": 2,
       "version_minor": 0
      },
      "text/plain": [
       "Epoch [34/300]:   0%|          | 0/125 [00:00<?, ?it/s]"
      ]
     },
     "metadata": {},
     "output_type": "display_data"
    },
    {
     "data": {
      "application/vnd.jupyter.widget-view+json": {
       "model_id": "faf35ebd7cbb4bcdbd26be2f8baf537f",
       "version_major": 2,
       "version_minor": 0
      },
      "text/plain": [
       "Validation Epoch [34/300]:   0%|          | 0/29 [00:00<?, ?it/s]"
      ]
     },
     "metadata": {},
     "output_type": "display_data"
    },
    {
     "name": "stdout",
     "output_type": "stream",
     "text": [
      "Epoch [34/300] - Train Loss: 0.3672, Train Acc: 0.8830, Val Loss: 2.7093, Val Acc: 0.1762\n"
     ]
    },
    {
     "data": {
      "application/vnd.jupyter.widget-view+json": {
       "model_id": "45046240921a4da19269a6c73e76c144",
       "version_major": 2,
       "version_minor": 0
      },
      "text/plain": [
       "Epoch [35/300]:   0%|          | 0/125 [00:00<?, ?it/s]"
      ]
     },
     "metadata": {},
     "output_type": "display_data"
    },
    {
     "data": {
      "application/vnd.jupyter.widget-view+json": {
       "model_id": "6d006063a6274b1dbef3c1e7feb71ccb",
       "version_major": 2,
       "version_minor": 0
      },
      "text/plain": [
       "Validation Epoch [35/300]:   0%|          | 0/29 [00:00<?, ?it/s]"
      ]
     },
     "metadata": {},
     "output_type": "display_data"
    },
    {
     "name": "stdout",
     "output_type": "stream",
     "text": [
      "Epoch [35/300] - Train Loss: 0.3471, Train Acc: 0.8857, Val Loss: 2.3829, Val Acc: 0.4273\n"
     ]
    },
    {
     "data": {
      "application/vnd.jupyter.widget-view+json": {
       "model_id": "7b1dbef5d8a2482f9fb7ad46fa8b8eb1",
       "version_major": 2,
       "version_minor": 0
      },
      "text/plain": [
       "Epoch [36/300]:   0%|          | 0/125 [00:00<?, ?it/s]"
      ]
     },
     "metadata": {},
     "output_type": "display_data"
    },
    {
     "data": {
      "application/vnd.jupyter.widget-view+json": {
       "model_id": "4aceecc364c64966805318242f6a67aa",
       "version_major": 2,
       "version_minor": 0
      },
      "text/plain": [
       "Validation Epoch [36/300]:   0%|          | 0/29 [00:00<?, ?it/s]"
      ]
     },
     "metadata": {},
     "output_type": "display_data"
    },
    {
     "name": "stdout",
     "output_type": "stream",
     "text": [
      "Epoch [36/300] - Train Loss: 0.3273, Train Acc: 0.8928, Val Loss: 3.1947, Val Acc: 0.2181\n"
     ]
    },
    {
     "data": {
      "application/vnd.jupyter.widget-view+json": {
       "model_id": "6aa3110e8ee141bc9a107189239a7283",
       "version_major": 2,
       "version_minor": 0
      },
      "text/plain": [
       "Epoch [37/300]:   0%|          | 0/125 [00:00<?, ?it/s]"
      ]
     },
     "metadata": {},
     "output_type": "display_data"
    },
    {
     "data": {
      "application/vnd.jupyter.widget-view+json": {
       "model_id": "cefa8680a8b646e8bf6b2d7678dd6dbf",
       "version_major": 2,
       "version_minor": 0
      },
      "text/plain": [
       "Validation Epoch [37/300]:   0%|          | 0/29 [00:00<?, ?it/s]"
      ]
     },
     "metadata": {},
     "output_type": "display_data"
    },
    {
     "name": "stdout",
     "output_type": "stream",
     "text": [
      "Epoch [37/300] - Train Loss: 0.4488, Train Acc: 0.8532, Val Loss: 2.8905, Val Acc: 0.2070\n"
     ]
    },
    {
     "data": {
      "application/vnd.jupyter.widget-view+json": {
       "model_id": "bef19d028121491e850bb93dd04d819b",
       "version_major": 2,
       "version_minor": 0
      },
      "text/plain": [
       "Epoch [38/300]:   0%|          | 0/125 [00:00<?, ?it/s]"
      ]
     },
     "metadata": {},
     "output_type": "display_data"
    },
    {
     "data": {
      "application/vnd.jupyter.widget-view+json": {
       "model_id": "e7e24c9634804da48837a3fa048c6a56",
       "version_major": 2,
       "version_minor": 0
      },
      "text/plain": [
       "Validation Epoch [38/300]:   0%|          | 0/29 [00:00<?, ?it/s]"
      ]
     },
     "metadata": {},
     "output_type": "display_data"
    },
    {
     "name": "stdout",
     "output_type": "stream",
     "text": [
      "Epoch [38/300] - Train Loss: 0.3474, Train Acc: 0.8835, Val Loss: 2.5878, Val Acc: 0.3954\n"
     ]
    },
    {
     "data": {
      "application/vnd.jupyter.widget-view+json": {
       "model_id": "595f5879ad88457ba4cba1dba198301a",
       "version_major": 2,
       "version_minor": 0
      },
      "text/plain": [
       "Epoch [39/300]:   0%|          | 0/125 [00:00<?, ?it/s]"
      ]
     },
     "metadata": {},
     "output_type": "display_data"
    },
    {
     "data": {
      "application/vnd.jupyter.widget-view+json": {
       "model_id": "cd9ca2b5131341ce9d4fbc83ca34b312",
       "version_major": 2,
       "version_minor": 0
      },
      "text/plain": [
       "Validation Epoch [39/300]:   0%|          | 0/29 [00:00<?, ?it/s]"
      ]
     },
     "metadata": {},
     "output_type": "display_data"
    },
    {
     "name": "stdout",
     "output_type": "stream",
     "text": [
      "Epoch [39/300] - Train Loss: 0.3436, Train Acc: 0.8910, Val Loss: 3.4428, Val Acc: 0.1322\n"
     ]
    },
    {
     "data": {
      "application/vnd.jupyter.widget-view+json": {
       "model_id": "0dd0383f3eee4627b8fb06285544bdcf",
       "version_major": 2,
       "version_minor": 0
      },
      "text/plain": [
       "Epoch [40/300]:   0%|          | 0/125 [00:00<?, ?it/s]"
      ]
     },
     "metadata": {},
     "output_type": "display_data"
    },
    {
     "data": {
      "application/vnd.jupyter.widget-view+json": {
       "model_id": "b3e22d85317d45ddab5ebf6e34b8361d",
       "version_major": 2,
       "version_minor": 0
      },
      "text/plain": [
       "Validation Epoch [40/300]:   0%|          | 0/29 [00:00<?, ?it/s]"
      ]
     },
     "metadata": {},
     "output_type": "display_data"
    },
    {
     "name": "stdout",
     "output_type": "stream",
     "text": [
      "Epoch [40/300] - Train Loss: 0.4896, Train Acc: 0.8444, Val Loss: 0.7913, Val Acc: 0.7291\n",
      "Checkpoint saved at ./checkpoints_modelnet10/classification_epoch_40.pth\n"
     ]
    },
    {
     "data": {
      "application/vnd.jupyter.widget-view+json": {
       "model_id": "0103110fdc4a43d59d60d4bd3db2f09d",
       "version_major": 2,
       "version_minor": 0
      },
      "text/plain": [
       "Epoch [41/300]:   0%|          | 0/125 [00:00<?, ?it/s]"
      ]
     },
     "metadata": {},
     "output_type": "display_data"
    },
    {
     "data": {
      "application/vnd.jupyter.widget-view+json": {
       "model_id": "cefb41b86a014021969b9b8ccba8ef78",
       "version_major": 2,
       "version_minor": 0
      },
      "text/plain": [
       "Validation Epoch [41/300]:   0%|          | 0/29 [00:00<?, ?it/s]"
      ]
     },
     "metadata": {},
     "output_type": "display_data"
    },
    {
     "name": "stdout",
     "output_type": "stream",
     "text": [
      "Epoch [41/300] - Train Loss: 0.3482, Train Acc: 0.8807, Val Loss: 0.9184, Val Acc: 0.6982\n"
     ]
    },
    {
     "data": {
      "application/vnd.jupyter.widget-view+json": {
       "model_id": "0ee22021ebbb41609f661b7af703ebb6",
       "version_major": 2,
       "version_minor": 0
      },
      "text/plain": [
       "Epoch [42/300]:   0%|          | 0/125 [00:00<?, ?it/s]"
      ]
     },
     "metadata": {},
     "output_type": "display_data"
    },
    {
     "data": {
      "application/vnd.jupyter.widget-view+json": {
       "model_id": "fb62cca172404d47b6b7ee380b094eb9",
       "version_major": 2,
       "version_minor": 0
      },
      "text/plain": [
       "Validation Epoch [42/300]:   0%|          | 0/29 [00:00<?, ?it/s]"
      ]
     },
     "metadata": {},
     "output_type": "display_data"
    },
    {
     "name": "stdout",
     "output_type": "stream",
     "text": [
      "Epoch [42/300] - Train Loss: 0.3275, Train Acc: 0.8905, Val Loss: 4.9027, Val Acc: 0.1399\n"
     ]
    },
    {
     "data": {
      "application/vnd.jupyter.widget-view+json": {
       "model_id": "3f8c6a50dcc7435e962f6221f0b97c48",
       "version_major": 2,
       "version_minor": 0
      },
      "text/plain": [
       "Epoch [43/300]:   0%|          | 0/125 [00:00<?, ?it/s]"
      ]
     },
     "metadata": {},
     "output_type": "display_data"
    },
    {
     "data": {
      "application/vnd.jupyter.widget-view+json": {
       "model_id": "396a056348d24d899638321f8ea09f9c",
       "version_major": 2,
       "version_minor": 0
      },
      "text/plain": [
       "Validation Epoch [43/300]:   0%|          | 0/29 [00:00<?, ?it/s]"
      ]
     },
     "metadata": {},
     "output_type": "display_data"
    },
    {
     "name": "stdout",
     "output_type": "stream",
     "text": [
      "Epoch [43/300] - Train Loss: 0.2899, Train Acc: 0.9043, Val Loss: 1.8359, Val Acc: 0.3888\n"
     ]
    },
    {
     "data": {
      "application/vnd.jupyter.widget-view+json": {
       "model_id": "0131894304f243f78854429bc18105ee",
       "version_major": 2,
       "version_minor": 0
      },
      "text/plain": [
       "Epoch [44/300]:   0%|          | 0/125 [00:00<?, ?it/s]"
      ]
     },
     "metadata": {},
     "output_type": "display_data"
    },
    {
     "data": {
      "application/vnd.jupyter.widget-view+json": {
       "model_id": "24504194c280439fa191e69858b1f72c",
       "version_major": 2,
       "version_minor": 0
      },
      "text/plain": [
       "Validation Epoch [44/300]:   0%|          | 0/29 [00:00<?, ?it/s]"
      ]
     },
     "metadata": {},
     "output_type": "display_data"
    },
    {
     "name": "stdout",
     "output_type": "stream",
     "text": [
      "Epoch [44/300] - Train Loss: 0.2918, Train Acc: 0.9003, Val Loss: 3.0807, Val Acc: 0.2280\n"
     ]
    },
    {
     "data": {
      "application/vnd.jupyter.widget-view+json": {
       "model_id": "6ad5630b01f14a3bb731a18651ad774d",
       "version_major": 2,
       "version_minor": 0
      },
      "text/plain": [
       "Epoch [45/300]:   0%|          | 0/125 [00:00<?, ?it/s]"
      ]
     },
     "metadata": {},
     "output_type": "display_data"
    },
    {
     "data": {
      "application/vnd.jupyter.widget-view+json": {
       "model_id": "7212e5822cd74b5fac739ee5f65d50db",
       "version_major": 2,
       "version_minor": 0
      },
      "text/plain": [
       "Validation Epoch [45/300]:   0%|          | 0/29 [00:00<?, ?it/s]"
      ]
     },
     "metadata": {},
     "output_type": "display_data"
    },
    {
     "name": "stdout",
     "output_type": "stream",
     "text": [
      "Epoch [45/300] - Train Loss: 0.3215, Train Acc: 0.8960, Val Loss: 1.9978, Val Acc: 0.3678\n"
     ]
    },
    {
     "data": {
      "application/vnd.jupyter.widget-view+json": {
       "model_id": "ed7c64d372624113abad768f9119b003",
       "version_major": 2,
       "version_minor": 0
      },
      "text/plain": [
       "Epoch [46/300]:   0%|          | 0/125 [00:00<?, ?it/s]"
      ]
     },
     "metadata": {},
     "output_type": "display_data"
    },
    {
     "data": {
      "application/vnd.jupyter.widget-view+json": {
       "model_id": "aebbd39f51d04f4b844e78d2004ca579",
       "version_major": 2,
       "version_minor": 0
      },
      "text/plain": [
       "Validation Epoch [46/300]:   0%|          | 0/29 [00:00<?, ?it/s]"
      ]
     },
     "metadata": {},
     "output_type": "display_data"
    },
    {
     "name": "stdout",
     "output_type": "stream",
     "text": [
      "Epoch [46/300] - Train Loss: 0.2974, Train Acc: 0.9013, Val Loss: 0.9549, Val Acc: 0.6531\n"
     ]
    },
    {
     "data": {
      "application/vnd.jupyter.widget-view+json": {
       "model_id": "ee43b3cd236a4f249ee259ecbd2d3b92",
       "version_major": 2,
       "version_minor": 0
      },
      "text/plain": [
       "Epoch [47/300]:   0%|          | 0/125 [00:00<?, ?it/s]"
      ]
     },
     "metadata": {},
     "output_type": "display_data"
    },
    {
     "data": {
      "application/vnd.jupyter.widget-view+json": {
       "model_id": "1510e09d9e84470aa3a4793cc10bf2d0",
       "version_major": 2,
       "version_minor": 0
      },
      "text/plain": [
       "Validation Epoch [47/300]:   0%|          | 0/29 [00:00<?, ?it/s]"
      ]
     },
     "metadata": {},
     "output_type": "display_data"
    },
    {
     "name": "stdout",
     "output_type": "stream",
     "text": [
      "Epoch [47/300] - Train Loss: 0.3090, Train Acc: 0.8960, Val Loss: 1.2552, Val Acc: 0.5551\n"
     ]
    },
    {
     "data": {
      "application/vnd.jupyter.widget-view+json": {
       "model_id": "39c51b3c3ffb494f8eb7313a46fc52a5",
       "version_major": 2,
       "version_minor": 0
      },
      "text/plain": [
       "Epoch [48/300]:   0%|          | 0/125 [00:00<?, ?it/s]"
      ]
     },
     "metadata": {},
     "output_type": "display_data"
    },
    {
     "data": {
      "application/vnd.jupyter.widget-view+json": {
       "model_id": "2da8e1a690a94f98a926f7fc05a9b783",
       "version_major": 2,
       "version_minor": 0
      },
      "text/plain": [
       "Validation Epoch [48/300]:   0%|          | 0/29 [00:00<?, ?it/s]"
      ]
     },
     "metadata": {},
     "output_type": "display_data"
    },
    {
     "name": "stdout",
     "output_type": "stream",
     "text": [
      "Epoch [48/300] - Train Loss: 0.3121, Train Acc: 0.8963, Val Loss: 2.9055, Val Acc: 0.1487\n"
     ]
    },
    {
     "data": {
      "application/vnd.jupyter.widget-view+json": {
       "model_id": "d65c41ef8b4147329e829174cb4e2af1",
       "version_major": 2,
       "version_minor": 0
      },
      "text/plain": [
       "Epoch [49/300]:   0%|          | 0/125 [00:00<?, ?it/s]"
      ]
     },
     "metadata": {},
     "output_type": "display_data"
    },
    {
     "data": {
      "application/vnd.jupyter.widget-view+json": {
       "model_id": "03423d8779c247978d930e0466d43df2",
       "version_major": 2,
       "version_minor": 0
      },
      "text/plain": [
       "Validation Epoch [49/300]:   0%|          | 0/29 [00:00<?, ?it/s]"
      ]
     },
     "metadata": {},
     "output_type": "display_data"
    },
    {
     "name": "stdout",
     "output_type": "stream",
     "text": [
      "Epoch [49/300] - Train Loss: 0.4319, Train Acc: 0.8594, Val Loss: 2.2725, Val Acc: 0.3172\n"
     ]
    },
    {
     "data": {
      "application/vnd.jupyter.widget-view+json": {
       "model_id": "11a3e009b7a64646a0a7b66d89c783c5",
       "version_major": 2,
       "version_minor": 0
      },
      "text/plain": [
       "Epoch [50/300]:   0%|          | 0/125 [00:00<?, ?it/s]"
      ]
     },
     "metadata": {},
     "output_type": "display_data"
    },
    {
     "data": {
      "application/vnd.jupyter.widget-view+json": {
       "model_id": "5ab6c2315e5246eebd144efcf655a9d7",
       "version_major": 2,
       "version_minor": 0
      },
      "text/plain": [
       "Validation Epoch [50/300]:   0%|          | 0/29 [00:00<?, ?it/s]"
      ]
     },
     "metadata": {},
     "output_type": "display_data"
    },
    {
     "name": "stdout",
     "output_type": "stream",
     "text": [
      "Epoch [50/300] - Train Loss: 0.2811, Train Acc: 0.9083, Val Loss: 3.6323, Val Acc: 0.1399\n",
      "Checkpoint saved at ./checkpoints_modelnet10/classification_epoch_50.pth\n"
     ]
    },
    {
     "data": {
      "application/vnd.jupyter.widget-view+json": {
       "model_id": "87f9176818f04a29a95f10b80c5b81a8",
       "version_major": 2,
       "version_minor": 0
      },
      "text/plain": [
       "Epoch [51/300]:   0%|          | 0/125 [00:00<?, ?it/s]"
      ]
     },
     "metadata": {},
     "output_type": "display_data"
    },
    {
     "data": {
      "application/vnd.jupyter.widget-view+json": {
       "model_id": "b3c3c4393c3148658d0455369dee6443",
       "version_major": 2,
       "version_minor": 0
      },
      "text/plain": [
       "Validation Epoch [51/300]:   0%|          | 0/29 [00:00<?, ?it/s]"
      ]
     },
     "metadata": {},
     "output_type": "display_data"
    },
    {
     "name": "stdout",
     "output_type": "stream",
     "text": [
      "Epoch [51/300] - Train Loss: 0.2731, Train Acc: 0.9078, Val Loss: 3.3930, Val Acc: 0.2753\n"
     ]
    },
    {
     "data": {
      "application/vnd.jupyter.widget-view+json": {
       "model_id": "404d7c6ae4404df58dd7f97d0ed9aca9",
       "version_major": 2,
       "version_minor": 0
      },
      "text/plain": [
       "Epoch [52/300]:   0%|          | 0/125 [00:00<?, ?it/s]"
      ]
     },
     "metadata": {},
     "output_type": "display_data"
    },
    {
     "data": {
      "application/vnd.jupyter.widget-view+json": {
       "model_id": "90e2647c1e0d460bbb2a7f49a7ba7d71",
       "version_major": 2,
       "version_minor": 0
      },
      "text/plain": [
       "Validation Epoch [52/300]:   0%|          | 0/29 [00:00<?, ?it/s]"
      ]
     },
     "metadata": {},
     "output_type": "display_data"
    },
    {
     "name": "stdout",
     "output_type": "stream",
     "text": [
      "Epoch [52/300] - Train Loss: 0.3040, Train Acc: 0.8980, Val Loss: 1.9223, Val Acc: 0.4967\n"
     ]
    },
    {
     "data": {
      "application/vnd.jupyter.widget-view+json": {
       "model_id": "9d40443b94a04379a9ae23b4c3a51bde",
       "version_major": 2,
       "version_minor": 0
      },
      "text/plain": [
       "Epoch [53/300]:   0%|          | 0/125 [00:00<?, ?it/s]"
      ]
     },
     "metadata": {},
     "output_type": "display_data"
    },
    {
     "data": {
      "application/vnd.jupyter.widget-view+json": {
       "model_id": "1d29675531e54639b1a6ed38486ca052",
       "version_major": 2,
       "version_minor": 0
      },
      "text/plain": [
       "Validation Epoch [53/300]:   0%|          | 0/29 [00:00<?, ?it/s]"
      ]
     },
     "metadata": {},
     "output_type": "display_data"
    },
    {
     "name": "stdout",
     "output_type": "stream",
     "text": [
      "Epoch [53/300] - Train Loss: 0.2781, Train Acc: 0.9055, Val Loss: 4.3580, Val Acc: 0.1608\n"
     ]
    },
    {
     "data": {
      "application/vnd.jupyter.widget-view+json": {
       "model_id": "72efbd2f1cf040e3b6e89e872709d352",
       "version_major": 2,
       "version_minor": 0
      },
      "text/plain": [
       "Epoch [54/300]:   0%|          | 0/125 [00:00<?, ?it/s]"
      ]
     },
     "metadata": {},
     "output_type": "display_data"
    },
    {
     "data": {
      "application/vnd.jupyter.widget-view+json": {
       "model_id": "1ebb34ca084b4a55a30838f310b5d15d",
       "version_major": 2,
       "version_minor": 0
      },
      "text/plain": [
       "Validation Epoch [54/300]:   0%|          | 0/29 [00:00<?, ?it/s]"
      ]
     },
     "metadata": {},
     "output_type": "display_data"
    },
    {
     "name": "stdout",
     "output_type": "stream",
     "text": [
      "Epoch [54/300] - Train Loss: 0.3284, Train Acc: 0.8893, Val Loss: 0.7966, Val Acc: 0.7324\n"
     ]
    },
    {
     "data": {
      "application/vnd.jupyter.widget-view+json": {
       "model_id": "dc900466e0ec4318b48010c41859e5d6",
       "version_major": 2,
       "version_minor": 0
      },
      "text/plain": [
       "Epoch [55/300]:   0%|          | 0/125 [00:00<?, ?it/s]"
      ]
     },
     "metadata": {},
     "output_type": "display_data"
    },
    {
     "data": {
      "application/vnd.jupyter.widget-view+json": {
       "model_id": "b48c157c6892455ca79e9af958bcc4a9",
       "version_major": 2,
       "version_minor": 0
      },
      "text/plain": [
       "Validation Epoch [55/300]:   0%|          | 0/29 [00:00<?, ?it/s]"
      ]
     },
     "metadata": {},
     "output_type": "display_data"
    },
    {
     "name": "stdout",
     "output_type": "stream",
     "text": [
      "Epoch [55/300] - Train Loss: 0.2805, Train Acc: 0.9050, Val Loss: 1.4934, Val Acc: 0.5540\n"
     ]
    },
    {
     "data": {
      "application/vnd.jupyter.widget-view+json": {
       "model_id": "37e692073da24261afd61746a9f19c28",
       "version_major": 2,
       "version_minor": 0
      },
      "text/plain": [
       "Epoch [56/300]:   0%|          | 0/125 [00:00<?, ?it/s]"
      ]
     },
     "metadata": {},
     "output_type": "display_data"
    },
    {
     "data": {
      "application/vnd.jupyter.widget-view+json": {
       "model_id": "e64a02e872bf4c6781b9b82343a63bfd",
       "version_major": 2,
       "version_minor": 0
      },
      "text/plain": [
       "Validation Epoch [56/300]:   0%|          | 0/29 [00:00<?, ?it/s]"
      ]
     },
     "metadata": {},
     "output_type": "display_data"
    },
    {
     "name": "stdout",
     "output_type": "stream",
     "text": [
      "Epoch [56/300] - Train Loss: 0.2613, Train Acc: 0.9108, Val Loss: 2.8534, Val Acc: 0.3029\n"
     ]
    },
    {
     "data": {
      "application/vnd.jupyter.widget-view+json": {
       "model_id": "a12d6c3873a14793b94f96b1871c23fc",
       "version_major": 2,
       "version_minor": 0
      },
      "text/plain": [
       "Epoch [57/300]:   0%|          | 0/125 [00:00<?, ?it/s]"
      ]
     },
     "metadata": {},
     "output_type": "display_data"
    },
    {
     "data": {
      "application/vnd.jupyter.widget-view+json": {
       "model_id": "02634195b82d4a2c8cf8d1395774e9fd",
       "version_major": 2,
       "version_minor": 0
      },
      "text/plain": [
       "Validation Epoch [57/300]:   0%|          | 0/29 [00:00<?, ?it/s]"
      ]
     },
     "metadata": {},
     "output_type": "display_data"
    },
    {
     "name": "stdout",
     "output_type": "stream",
     "text": [
      "Epoch [57/300] - Train Loss: 0.3010, Train Acc: 0.8990, Val Loss: 0.6213, Val Acc: 0.7819\n"
     ]
    },
    {
     "data": {
      "application/vnd.jupyter.widget-view+json": {
       "model_id": "acd4f86dea3f45dd95737db21769bd92",
       "version_major": 2,
       "version_minor": 0
      },
      "text/plain": [
       "Epoch [58/300]:   0%|          | 0/125 [00:00<?, ?it/s]"
      ]
     },
     "metadata": {},
     "output_type": "display_data"
    },
    {
     "data": {
      "application/vnd.jupyter.widget-view+json": {
       "model_id": "46e8d4012ee0481ab41c64e3775fd5b3",
       "version_major": 2,
       "version_minor": 0
      },
      "text/plain": [
       "Validation Epoch [58/300]:   0%|          | 0/29 [00:00<?, ?it/s]"
      ]
     },
     "metadata": {},
     "output_type": "display_data"
    },
    {
     "name": "stdout",
     "output_type": "stream",
     "text": [
      "Epoch [58/300] - Train Loss: 0.2525, Train Acc: 0.9181, Val Loss: 2.5743, Val Acc: 0.2280\n"
     ]
    },
    {
     "data": {
      "application/vnd.jupyter.widget-view+json": {
       "model_id": "4ab7d82ee2dc4662972b2d2c6d2c25b9",
       "version_major": 2,
       "version_minor": 0
      },
      "text/plain": [
       "Epoch [59/300]:   0%|          | 0/125 [00:00<?, ?it/s]"
      ]
     },
     "metadata": {},
     "output_type": "display_data"
    },
    {
     "data": {
      "application/vnd.jupyter.widget-view+json": {
       "model_id": "4e24835e728f4272ab3671f66fcf463c",
       "version_major": 2,
       "version_minor": 0
      },
      "text/plain": [
       "Validation Epoch [59/300]:   0%|          | 0/29 [00:00<?, ?it/s]"
      ]
     },
     "metadata": {},
     "output_type": "display_data"
    },
    {
     "name": "stdout",
     "output_type": "stream",
     "text": [
      "Epoch [59/300] - Train Loss: 0.2388, Train Acc: 0.9171, Val Loss: 0.8166, Val Acc: 0.7610\n"
     ]
    },
    {
     "data": {
      "application/vnd.jupyter.widget-view+json": {
       "model_id": "970f6bf8e1f64fd080c6cc79ceac3137",
       "version_major": 2,
       "version_minor": 0
      },
      "text/plain": [
       "Epoch [60/300]:   0%|          | 0/125 [00:00<?, ?it/s]"
      ]
     },
     "metadata": {},
     "output_type": "display_data"
    },
    {
     "data": {
      "application/vnd.jupyter.widget-view+json": {
       "model_id": "1250608f4a55410b847ec37739f68cc8",
       "version_major": 2,
       "version_minor": 0
      },
      "text/plain": [
       "Validation Epoch [60/300]:   0%|          | 0/29 [00:00<?, ?it/s]"
      ]
     },
     "metadata": {},
     "output_type": "display_data"
    },
    {
     "name": "stdout",
     "output_type": "stream",
     "text": [
      "Epoch [60/300] - Train Loss: 0.3496, Train Acc: 0.8895, Val Loss: 2.6299, Val Acc: 0.2919\n",
      "Checkpoint saved at ./checkpoints_modelnet10/classification_epoch_60.pth\n"
     ]
    },
    {
     "data": {
      "application/vnd.jupyter.widget-view+json": {
       "model_id": "41d18547d01b40cc8c4c96780e1e9f01",
       "version_major": 2,
       "version_minor": 0
      },
      "text/plain": [
       "Epoch [61/300]:   0%|          | 0/125 [00:00<?, ?it/s]"
      ]
     },
     "metadata": {},
     "output_type": "display_data"
    },
    {
     "data": {
      "application/vnd.jupyter.widget-view+json": {
       "model_id": "7b4c79fbbd5542e6b4f19012f568b094",
       "version_major": 2,
       "version_minor": 0
      },
      "text/plain": [
       "Validation Epoch [61/300]:   0%|          | 0/29 [00:00<?, ?it/s]"
      ]
     },
     "metadata": {},
     "output_type": "display_data"
    },
    {
     "name": "stdout",
     "output_type": "stream",
     "text": [
      "Epoch [61/300] - Train Loss: 0.2953, Train Acc: 0.9065, Val Loss: 1.1357, Val Acc: 0.5727\n"
     ]
    },
    {
     "data": {
      "application/vnd.jupyter.widget-view+json": {
       "model_id": "551c16f352494c578929fef4cef5fb40",
       "version_major": 2,
       "version_minor": 0
      },
      "text/plain": [
       "Epoch [62/300]:   0%|          | 0/125 [00:00<?, ?it/s]"
      ]
     },
     "metadata": {},
     "output_type": "display_data"
    },
    {
     "data": {
      "application/vnd.jupyter.widget-view+json": {
       "model_id": "14eb85d9993a4f0ab503c909564572f9",
       "version_major": 2,
       "version_minor": 0
      },
      "text/plain": [
       "Validation Epoch [62/300]:   0%|          | 0/29 [00:00<?, ?it/s]"
      ]
     },
     "metadata": {},
     "output_type": "display_data"
    },
    {
     "name": "stdout",
     "output_type": "stream",
     "text": [
      "Epoch [62/300] - Train Loss: 0.2461, Train Acc: 0.9188, Val Loss: 3.8795, Val Acc: 0.2269\n"
     ]
    },
    {
     "data": {
      "application/vnd.jupyter.widget-view+json": {
       "model_id": "a4870aa3035c49c6b0721a1d0dbfddac",
       "version_major": 2,
       "version_minor": 0
      },
      "text/plain": [
       "Epoch [63/300]:   0%|          | 0/125 [00:00<?, ?it/s]"
      ]
     },
     "metadata": {},
     "output_type": "display_data"
    },
    {
     "data": {
      "application/vnd.jupyter.widget-view+json": {
       "model_id": "3af5d9885c74455e942863605526edcc",
       "version_major": 2,
       "version_minor": 0
      },
      "text/plain": [
       "Validation Epoch [63/300]:   0%|          | 0/29 [00:00<?, ?it/s]"
      ]
     },
     "metadata": {},
     "output_type": "display_data"
    },
    {
     "name": "stdout",
     "output_type": "stream",
     "text": [
      "Epoch [63/300] - Train Loss: 0.3338, Train Acc: 0.8948, Val Loss: 2.9261, Val Acc: 0.3216\n"
     ]
    },
    {
     "data": {
      "application/vnd.jupyter.widget-view+json": {
       "model_id": "abe05bcf92d24b0ab9b666581115e24f",
       "version_major": 2,
       "version_minor": 0
      },
      "text/plain": [
       "Epoch [64/300]:   0%|          | 0/125 [00:00<?, ?it/s]"
      ]
     },
     "metadata": {},
     "output_type": "display_data"
    },
    {
     "data": {
      "application/vnd.jupyter.widget-view+json": {
       "model_id": "04640c06b75a4db7be20af3fdc3542b6",
       "version_major": 2,
       "version_minor": 0
      },
      "text/plain": [
       "Validation Epoch [64/300]:   0%|          | 0/29 [00:00<?, ?it/s]"
      ]
     },
     "metadata": {},
     "output_type": "display_data"
    },
    {
     "name": "stdout",
     "output_type": "stream",
     "text": [
      "Epoch [64/300] - Train Loss: 0.2384, Train Acc: 0.9213, Val Loss: 4.2562, Val Acc: 0.2456\n"
     ]
    },
    {
     "data": {
      "application/vnd.jupyter.widget-view+json": {
       "model_id": "3dc8ec4dfcd84bada91ae983b30250c8",
       "version_major": 2,
       "version_minor": 0
      },
      "text/plain": [
       "Epoch [65/300]:   0%|          | 0/125 [00:00<?, ?it/s]"
      ]
     },
     "metadata": {},
     "output_type": "display_data"
    },
    {
     "data": {
      "application/vnd.jupyter.widget-view+json": {
       "model_id": "544b651f33154367ab48fbfa9f8bb2fa",
       "version_major": 2,
       "version_minor": 0
      },
      "text/plain": [
       "Validation Epoch [65/300]:   0%|          | 0/29 [00:00<?, ?it/s]"
      ]
     },
     "metadata": {},
     "output_type": "display_data"
    },
    {
     "name": "stdout",
     "output_type": "stream",
     "text": [
      "Epoch [65/300] - Train Loss: 0.2203, Train Acc: 0.9223, Val Loss: 2.6300, Val Acc: 0.4196\n"
     ]
    },
    {
     "data": {
      "application/vnd.jupyter.widget-view+json": {
       "model_id": "a09dbfdc3561461b94014baabde685f0",
       "version_major": 2,
       "version_minor": 0
      },
      "text/plain": [
       "Epoch [66/300]:   0%|          | 0/125 [00:00<?, ?it/s]"
      ]
     },
     "metadata": {},
     "output_type": "display_data"
    },
    {
     "data": {
      "application/vnd.jupyter.widget-view+json": {
       "model_id": "e7b7d91ed25b41929ada924a00e49808",
       "version_major": 2,
       "version_minor": 0
      },
      "text/plain": [
       "Validation Epoch [66/300]:   0%|          | 0/29 [00:00<?, ?it/s]"
      ]
     },
     "metadata": {},
     "output_type": "display_data"
    },
    {
     "name": "stdout",
     "output_type": "stream",
     "text": [
      "Epoch [66/300] - Train Loss: 0.3273, Train Acc: 0.8918, Val Loss: 2.2708, Val Acc: 0.3866\n"
     ]
    },
    {
     "data": {
      "application/vnd.jupyter.widget-view+json": {
       "model_id": "bd9156e343c34b0aba47dfbb97f7fffb",
       "version_major": 2,
       "version_minor": 0
      },
      "text/plain": [
       "Epoch [67/300]:   0%|          | 0/125 [00:00<?, ?it/s]"
      ]
     },
     "metadata": {},
     "output_type": "display_data"
    },
    {
     "data": {
      "application/vnd.jupyter.widget-view+json": {
       "model_id": "6a5eebde4d414487b695de603ca741a4",
       "version_major": 2,
       "version_minor": 0
      },
      "text/plain": [
       "Validation Epoch [67/300]:   0%|          | 0/29 [00:00<?, ?it/s]"
      ]
     },
     "metadata": {},
     "output_type": "display_data"
    },
    {
     "name": "stdout",
     "output_type": "stream",
     "text": [
      "Epoch [67/300] - Train Loss: 0.2480, Train Acc: 0.9143, Val Loss: 0.3989, Val Acc: 0.8656\n"
     ]
    },
    {
     "data": {
      "application/vnd.jupyter.widget-view+json": {
       "model_id": "86f9df1cc90c41dd99eb314d70059736",
       "version_major": 2,
       "version_minor": 0
      },
      "text/plain": [
       "Epoch [68/300]:   0%|          | 0/125 [00:00<?, ?it/s]"
      ]
     },
     "metadata": {},
     "output_type": "display_data"
    },
    {
     "data": {
      "application/vnd.jupyter.widget-view+json": {
       "model_id": "7885f254265e41a69f58f209b383a1f2",
       "version_major": 2,
       "version_minor": 0
      },
      "text/plain": [
       "Validation Epoch [68/300]:   0%|          | 0/29 [00:00<?, ?it/s]"
      ]
     },
     "metadata": {},
     "output_type": "display_data"
    },
    {
     "name": "stdout",
     "output_type": "stream",
     "text": [
      "Epoch [68/300] - Train Loss: 0.2472, Train Acc: 0.9126, Val Loss: 2.8067, Val Acc: 0.3425\n"
     ]
    },
    {
     "data": {
      "application/vnd.jupyter.widget-view+json": {
       "model_id": "115bc5573b8545e8b1c20c82b780c06f",
       "version_major": 2,
       "version_minor": 0
      },
      "text/plain": [
       "Epoch [69/300]:   0%|          | 0/125 [00:00<?, ?it/s]"
      ]
     },
     "metadata": {},
     "output_type": "display_data"
    },
    {
     "data": {
      "application/vnd.jupyter.widget-view+json": {
       "model_id": "011f4e911986481dbc210082c6fe0a4e",
       "version_major": 2,
       "version_minor": 0
      },
      "text/plain": [
       "Validation Epoch [69/300]:   0%|          | 0/29 [00:00<?, ?it/s]"
      ]
     },
     "metadata": {},
     "output_type": "display_data"
    },
    {
     "name": "stdout",
     "output_type": "stream",
     "text": [
      "Epoch [69/300] - Train Loss: 0.2174, Train Acc: 0.9261, Val Loss: 2.1255, Val Acc: 0.4009\n"
     ]
    },
    {
     "data": {
      "application/vnd.jupyter.widget-view+json": {
       "model_id": "61e1a424f08442c8b719b739ba250178",
       "version_major": 2,
       "version_minor": 0
      },
      "text/plain": [
       "Epoch [70/300]:   0%|          | 0/125 [00:00<?, ?it/s]"
      ]
     },
     "metadata": {},
     "output_type": "display_data"
    },
    {
     "data": {
      "application/vnd.jupyter.widget-view+json": {
       "model_id": "60112aac84a049b192c77f2921f54321",
       "version_major": 2,
       "version_minor": 0
      },
      "text/plain": [
       "Validation Epoch [70/300]:   0%|          | 0/29 [00:00<?, ?it/s]"
      ]
     },
     "metadata": {},
     "output_type": "display_data"
    },
    {
     "name": "stdout",
     "output_type": "stream",
     "text": [
      "Epoch [70/300] - Train Loss: 0.2362, Train Acc: 0.9156, Val Loss: 5.0944, Val Acc: 0.1839\n",
      "Checkpoint saved at ./checkpoints_modelnet10/classification_epoch_70.pth\n"
     ]
    },
    {
     "data": {
      "application/vnd.jupyter.widget-view+json": {
       "model_id": "1f9d3f1709604094bbfbeab1b34afe37",
       "version_major": 2,
       "version_minor": 0
      },
      "text/plain": [
       "Epoch [71/300]:   0%|          | 0/125 [00:00<?, ?it/s]"
      ]
     },
     "metadata": {},
     "output_type": "display_data"
    },
    {
     "data": {
      "application/vnd.jupyter.widget-view+json": {
       "model_id": "9a23292a24a74b61a208cdf44c37a2f7",
       "version_major": 2,
       "version_minor": 0
      },
      "text/plain": [
       "Validation Epoch [71/300]:   0%|          | 0/29 [00:00<?, ?it/s]"
      ]
     },
     "metadata": {},
     "output_type": "display_data"
    },
    {
     "name": "stdout",
     "output_type": "stream",
     "text": [
      "Epoch [71/300] - Train Loss: 0.2628, Train Acc: 0.9108, Val Loss: 1.0031, Val Acc: 0.6641\n"
     ]
    },
    {
     "data": {
      "application/vnd.jupyter.widget-view+json": {
       "model_id": "ef6ffb98b61d4cdabe2a3cf9770bc1bb",
       "version_major": 2,
       "version_minor": 0
      },
      "text/plain": [
       "Epoch [72/300]:   0%|          | 0/125 [00:00<?, ?it/s]"
      ]
     },
     "metadata": {},
     "output_type": "display_data"
    },
    {
     "data": {
      "application/vnd.jupyter.widget-view+json": {
       "model_id": "848a9d5ee11d4730a2dfbdf2f9b4b7a4",
       "version_major": 2,
       "version_minor": 0
      },
      "text/plain": [
       "Validation Epoch [72/300]:   0%|          | 0/29 [00:00<?, ?it/s]"
      ]
     },
     "metadata": {},
     "output_type": "display_data"
    },
    {
     "name": "stdout",
     "output_type": "stream",
     "text": [
      "Epoch [72/300] - Train Loss: 0.2572, Train Acc: 0.9143, Val Loss: 2.2672, Val Acc: 0.4020\n"
     ]
    },
    {
     "data": {
      "application/vnd.jupyter.widget-view+json": {
       "model_id": "52687318cfab4d738b9a60c46f425389",
       "version_major": 2,
       "version_minor": 0
      },
      "text/plain": [
       "Epoch [73/300]:   0%|          | 0/125 [00:00<?, ?it/s]"
      ]
     },
     "metadata": {},
     "output_type": "display_data"
    },
    {
     "data": {
      "application/vnd.jupyter.widget-view+json": {
       "model_id": "3b867db6df2f4f2fbc598aa8f40751f0",
       "version_major": 2,
       "version_minor": 0
      },
      "text/plain": [
       "Validation Epoch [73/300]:   0%|          | 0/29 [00:00<?, ?it/s]"
      ]
     },
     "metadata": {},
     "output_type": "display_data"
    },
    {
     "name": "stdout",
     "output_type": "stream",
     "text": [
      "Epoch [73/300] - Train Loss: 0.2308, Train Acc: 0.9238, Val Loss: 1.0417, Val Acc: 0.6410\n"
     ]
    },
    {
     "data": {
      "application/vnd.jupyter.widget-view+json": {
       "model_id": "d5e1e1d3c8b6416b8037ba027baa5bb7",
       "version_major": 2,
       "version_minor": 0
      },
      "text/plain": [
       "Epoch [74/300]:   0%|          | 0/125 [00:00<?, ?it/s]"
      ]
     },
     "metadata": {},
     "output_type": "display_data"
    },
    {
     "data": {
      "application/vnd.jupyter.widget-view+json": {
       "model_id": "cb91b0f9b8ad40df8d1120155727fd2e",
       "version_major": 2,
       "version_minor": 0
      },
      "text/plain": [
       "Validation Epoch [74/300]:   0%|          | 0/29 [00:00<?, ?it/s]"
      ]
     },
     "metadata": {},
     "output_type": "display_data"
    },
    {
     "name": "stdout",
     "output_type": "stream",
     "text": [
      "Epoch [74/300] - Train Loss: 0.2100, Train Acc: 0.9321, Val Loss: 3.0775, Val Acc: 0.3183\n"
     ]
    },
    {
     "data": {
      "application/vnd.jupyter.widget-view+json": {
       "model_id": "a8bb00e5e17a4dd59cfcc53364527f5f",
       "version_major": 2,
       "version_minor": 0
      },
      "text/plain": [
       "Epoch [75/300]:   0%|          | 0/125 [00:00<?, ?it/s]"
      ]
     },
     "metadata": {},
     "output_type": "display_data"
    },
    {
     "data": {
      "application/vnd.jupyter.widget-view+json": {
       "model_id": "e8da8e2e4ef94d3f95e8ce2ee36c7007",
       "version_major": 2,
       "version_minor": 0
      },
      "text/plain": [
       "Validation Epoch [75/300]:   0%|          | 0/29 [00:00<?, ?it/s]"
      ]
     },
     "metadata": {},
     "output_type": "display_data"
    },
    {
     "name": "stdout",
     "output_type": "stream",
     "text": [
      "Epoch [75/300] - Train Loss: 0.2521, Train Acc: 0.9126, Val Loss: 1.9668, Val Acc: 0.4427\n"
     ]
    },
    {
     "data": {
      "application/vnd.jupyter.widget-view+json": {
       "model_id": "c04cfd69e9f545b297f3d8703e858634",
       "version_major": 2,
       "version_minor": 0
      },
      "text/plain": [
       "Epoch [76/300]:   0%|          | 0/125 [00:00<?, ?it/s]"
      ]
     },
     "metadata": {},
     "output_type": "display_data"
    },
    {
     "data": {
      "application/vnd.jupyter.widget-view+json": {
       "model_id": "08547e8dadd0492db43cb75b9a519e95",
       "version_major": 2,
       "version_minor": 0
      },
      "text/plain": [
       "Validation Epoch [76/300]:   0%|          | 0/29 [00:00<?, ?it/s]"
      ]
     },
     "metadata": {},
     "output_type": "display_data"
    },
    {
     "name": "stdout",
     "output_type": "stream",
     "text": [
      "Epoch [76/300] - Train Loss: 0.2079, Train Acc: 0.9303, Val Loss: 2.4670, Val Acc: 0.4449\n"
     ]
    },
    {
     "data": {
      "application/vnd.jupyter.widget-view+json": {
       "model_id": "60416ed208234ad29c426385c1f84b65",
       "version_major": 2,
       "version_minor": 0
      },
      "text/plain": [
       "Epoch [77/300]:   0%|          | 0/125 [00:00<?, ?it/s]"
      ]
     },
     "metadata": {},
     "output_type": "display_data"
    },
    {
     "data": {
      "application/vnd.jupyter.widget-view+json": {
       "model_id": "e016100527904ce28d8f82be738c3052",
       "version_major": 2,
       "version_minor": 0
      },
      "text/plain": [
       "Validation Epoch [77/300]:   0%|          | 0/29 [00:00<?, ?it/s]"
      ]
     },
     "metadata": {},
     "output_type": "display_data"
    },
    {
     "name": "stdout",
     "output_type": "stream",
     "text": [
      "Epoch [77/300] - Train Loss: 0.1972, Train Acc: 0.9326, Val Loss: 0.5751, Val Acc: 0.8018\n"
     ]
    },
    {
     "data": {
      "application/vnd.jupyter.widget-view+json": {
       "model_id": "c9418bdfbca0457fbf977bbd47b17ba2",
       "version_major": 2,
       "version_minor": 0
      },
      "text/plain": [
       "Epoch [78/300]:   0%|          | 0/125 [00:00<?, ?it/s]"
      ]
     },
     "metadata": {},
     "output_type": "display_data"
    },
    {
     "data": {
      "application/vnd.jupyter.widget-view+json": {
       "model_id": "61b90c3d4be34ea0bfea75d744e585ec",
       "version_major": 2,
       "version_minor": 0
      },
      "text/plain": [
       "Validation Epoch [78/300]:   0%|          | 0/29 [00:00<?, ?it/s]"
      ]
     },
     "metadata": {},
     "output_type": "display_data"
    },
    {
     "name": "stdout",
     "output_type": "stream",
     "text": [
      "Epoch [78/300] - Train Loss: 0.2071, Train Acc: 0.9296, Val Loss: 1.8137, Val Acc: 0.3546\n"
     ]
    },
    {
     "data": {
      "application/vnd.jupyter.widget-view+json": {
       "model_id": "1cbaf8f10e2a483283226d9307faf6b9",
       "version_major": 2,
       "version_minor": 0
      },
      "text/plain": [
       "Epoch [79/300]:   0%|          | 0/125 [00:00<?, ?it/s]"
      ]
     },
     "metadata": {},
     "output_type": "display_data"
    },
    {
     "data": {
      "application/vnd.jupyter.widget-view+json": {
       "model_id": "d23342422f65444e8dcb09481c7f465b",
       "version_major": 2,
       "version_minor": 0
      },
      "text/plain": [
       "Validation Epoch [79/300]:   0%|          | 0/29 [00:00<?, ?it/s]"
      ]
     },
     "metadata": {},
     "output_type": "display_data"
    },
    {
     "name": "stdout",
     "output_type": "stream",
     "text": [
      "Epoch [79/300] - Train Loss: 0.2455, Train Acc: 0.9131, Val Loss: 2.5383, Val Acc: 0.3348\n"
     ]
    },
    {
     "data": {
      "application/vnd.jupyter.widget-view+json": {
       "model_id": "e64d2dfcc048488086ed15f01be9cf0a",
       "version_major": 2,
       "version_minor": 0
      },
      "text/plain": [
       "Epoch [80/300]:   0%|          | 0/125 [00:00<?, ?it/s]"
      ]
     },
     "metadata": {},
     "output_type": "display_data"
    },
    {
     "data": {
      "application/vnd.jupyter.widget-view+json": {
       "model_id": "ccec5b5abdfe4886bc3389d97357d1a9",
       "version_major": 2,
       "version_minor": 0
      },
      "text/plain": [
       "Validation Epoch [80/300]:   0%|          | 0/29 [00:00<?, ?it/s]"
      ]
     },
     "metadata": {},
     "output_type": "display_data"
    },
    {
     "name": "stdout",
     "output_type": "stream",
     "text": [
      "Epoch [80/300] - Train Loss: 0.2394, Train Acc: 0.9168, Val Loss: 2.2440, Val Acc: 0.4681\n",
      "Checkpoint saved at ./checkpoints_modelnet10/classification_epoch_80.pth\n"
     ]
    },
    {
     "data": {
      "application/vnd.jupyter.widget-view+json": {
       "model_id": "ddd5876877f2484f89c108169b9255a7",
       "version_major": 2,
       "version_minor": 0
      },
      "text/plain": [
       "Epoch [81/300]:   0%|          | 0/125 [00:00<?, ?it/s]"
      ]
     },
     "metadata": {},
     "output_type": "display_data"
    },
    {
     "data": {
      "application/vnd.jupyter.widget-view+json": {
       "model_id": "212bf6873b7d436f8b86b8ce3f594183",
       "version_major": 2,
       "version_minor": 0
      },
      "text/plain": [
       "Validation Epoch [81/300]:   0%|          | 0/29 [00:00<?, ?it/s]"
      ]
     },
     "metadata": {},
     "output_type": "display_data"
    },
    {
     "name": "stdout",
     "output_type": "stream",
     "text": [
      "Epoch [81/300] - Train Loss: 0.2217, Train Acc: 0.9218, Val Loss: 1.5844, Val Acc: 0.4692\n"
     ]
    },
    {
     "data": {
      "application/vnd.jupyter.widget-view+json": {
       "model_id": "e39aa661890f40e5be616d109d48123d",
       "version_major": 2,
       "version_minor": 0
      },
      "text/plain": [
       "Epoch [82/300]:   0%|          | 0/125 [00:00<?, ?it/s]"
      ]
     },
     "metadata": {},
     "output_type": "display_data"
    },
    {
     "data": {
      "application/vnd.jupyter.widget-view+json": {
       "model_id": "a00e986ea49c4db5a17f1f906e6134ec",
       "version_major": 2,
       "version_minor": 0
      },
      "text/plain": [
       "Validation Epoch [82/300]:   0%|          | 0/29 [00:00<?, ?it/s]"
      ]
     },
     "metadata": {},
     "output_type": "display_data"
    },
    {
     "name": "stdout",
     "output_type": "stream",
     "text": [
      "Epoch [82/300] - Train Loss: 0.2328, Train Acc: 0.9171, Val Loss: 1.5152, Val Acc: 0.5826\n"
     ]
    },
    {
     "data": {
      "application/vnd.jupyter.widget-view+json": {
       "model_id": "faac7fa74d22454eb818587612d0b35a",
       "version_major": 2,
       "version_minor": 0
      },
      "text/plain": [
       "Epoch [83/300]:   0%|          | 0/125 [00:00<?, ?it/s]"
      ]
     },
     "metadata": {},
     "output_type": "display_data"
    },
    {
     "data": {
      "application/vnd.jupyter.widget-view+json": {
       "model_id": "b0cb8dbcf0fd4bd4b6da6efa65479efe",
       "version_major": 2,
       "version_minor": 0
      },
      "text/plain": [
       "Validation Epoch [83/300]:   0%|          | 0/29 [00:00<?, ?it/s]"
      ]
     },
     "metadata": {},
     "output_type": "display_data"
    },
    {
     "name": "stdout",
     "output_type": "stream",
     "text": [
      "Epoch [83/300] - Train Loss: 0.3039, Train Acc: 0.8983, Val Loss: 5.0879, Val Acc: 0.3128\n"
     ]
    },
    {
     "data": {
      "application/vnd.jupyter.widget-view+json": {
       "model_id": "2df3c037331d4196a68cf5decb3ccd7e",
       "version_major": 2,
       "version_minor": 0
      },
      "text/plain": [
       "Epoch [84/300]:   0%|          | 0/125 [00:00<?, ?it/s]"
      ]
     },
     "metadata": {},
     "output_type": "display_data"
    },
    {
     "data": {
      "application/vnd.jupyter.widget-view+json": {
       "model_id": "0e74ebc8f01e474ea7f6da85644dbf65",
       "version_major": 2,
       "version_minor": 0
      },
      "text/plain": [
       "Validation Epoch [84/300]:   0%|          | 0/29 [00:00<?, ?it/s]"
      ]
     },
     "metadata": {},
     "output_type": "display_data"
    },
    {
     "name": "stdout",
     "output_type": "stream",
     "text": [
      "Epoch [84/300] - Train Loss: 0.2256, Train Acc: 0.9258, Val Loss: 3.0724, Val Acc: 0.3425\n"
     ]
    },
    {
     "data": {
      "application/vnd.jupyter.widget-view+json": {
       "model_id": "337777bb1beb4a4482f6403c496433b8",
       "version_major": 2,
       "version_minor": 0
      },
      "text/plain": [
       "Epoch [85/300]:   0%|          | 0/125 [00:00<?, ?it/s]"
      ]
     },
     "metadata": {},
     "output_type": "display_data"
    },
    {
     "data": {
      "application/vnd.jupyter.widget-view+json": {
       "model_id": "ca66f552a57349e686d3e4336f6bfea1",
       "version_major": 2,
       "version_minor": 0
      },
      "text/plain": [
       "Validation Epoch [85/300]:   0%|          | 0/29 [00:00<?, ?it/s]"
      ]
     },
     "metadata": {},
     "output_type": "display_data"
    },
    {
     "name": "stdout",
     "output_type": "stream",
     "text": [
      "Epoch [85/300] - Train Loss: 0.2047, Train Acc: 0.9296, Val Loss: 2.1993, Val Acc: 0.4548\n"
     ]
    },
    {
     "data": {
      "application/vnd.jupyter.widget-view+json": {
       "model_id": "7953639e7e4c4f3fa01106616bc80723",
       "version_major": 2,
       "version_minor": 0
      },
      "text/plain": [
       "Epoch [86/300]:   0%|          | 0/125 [00:00<?, ?it/s]"
      ]
     },
     "metadata": {},
     "output_type": "display_data"
    },
    {
     "data": {
      "application/vnd.jupyter.widget-view+json": {
       "model_id": "7322e52d51d54800bbb1c61a51122d55",
       "version_major": 2,
       "version_minor": 0
      },
      "text/plain": [
       "Validation Epoch [86/300]:   0%|          | 0/29 [00:00<?, ?it/s]"
      ]
     },
     "metadata": {},
     "output_type": "display_data"
    },
    {
     "name": "stdout",
     "output_type": "stream",
     "text": [
      "Epoch [86/300] - Train Loss: 0.2076, Train Acc: 0.9321, Val Loss: 3.3263, Val Acc: 0.3976\n"
     ]
    },
    {
     "data": {
      "application/vnd.jupyter.widget-view+json": {
       "model_id": "6e9bef224ed54d968db4f95b0780ab38",
       "version_major": 2,
       "version_minor": 0
      },
      "text/plain": [
       "Epoch [87/300]:   0%|          | 0/125 [00:00<?, ?it/s]"
      ]
     },
     "metadata": {},
     "output_type": "display_data"
    },
    {
     "data": {
      "application/vnd.jupyter.widget-view+json": {
       "model_id": "b246ece5b37d4ddbad0e6c60008fcc98",
       "version_major": 2,
       "version_minor": 0
      },
      "text/plain": [
       "Validation Epoch [87/300]:   0%|          | 0/29 [00:00<?, ?it/s]"
      ]
     },
     "metadata": {},
     "output_type": "display_data"
    },
    {
     "name": "stdout",
     "output_type": "stream",
     "text": [
      "Epoch [87/300] - Train Loss: 0.1912, Train Acc: 0.9288, Val Loss: 3.5261, Val Acc: 0.3601\n"
     ]
    },
    {
     "data": {
      "application/vnd.jupyter.widget-view+json": {
       "model_id": "a07d885e6bd44da084dd69cb6ac1586f",
       "version_major": 2,
       "version_minor": 0
      },
      "text/plain": [
       "Epoch [88/300]:   0%|          | 0/125 [00:00<?, ?it/s]"
      ]
     },
     "metadata": {},
     "output_type": "display_data"
    },
    {
     "data": {
      "application/vnd.jupyter.widget-view+json": {
       "model_id": "a6779f0019da43178a01b6c3bdf5ee0d",
       "version_major": 2,
       "version_minor": 0
      },
      "text/plain": [
       "Validation Epoch [88/300]:   0%|          | 0/29 [00:00<?, ?it/s]"
      ]
     },
     "metadata": {},
     "output_type": "display_data"
    },
    {
     "name": "stdout",
     "output_type": "stream",
     "text": [
      "Epoch [88/300] - Train Loss: 0.2147, Train Acc: 0.9256, Val Loss: 1.1777, Val Acc: 0.6553\n"
     ]
    },
    {
     "data": {
      "application/vnd.jupyter.widget-view+json": {
       "model_id": "c48791c6c37b43728ac776a5b8f45912",
       "version_major": 2,
       "version_minor": 0
      },
      "text/plain": [
       "Epoch [89/300]:   0%|          | 0/125 [00:00<?, ?it/s]"
      ]
     },
     "metadata": {},
     "output_type": "display_data"
    },
    {
     "data": {
      "application/vnd.jupyter.widget-view+json": {
       "model_id": "a65cfa4b07034e1caf61acf6f8de0995",
       "version_major": 2,
       "version_minor": 0
      },
      "text/plain": [
       "Validation Epoch [89/300]:   0%|          | 0/29 [00:00<?, ?it/s]"
      ]
     },
     "metadata": {},
     "output_type": "display_data"
    },
    {
     "name": "stdout",
     "output_type": "stream",
     "text": [
      "Epoch [89/300] - Train Loss: 0.2206, Train Acc: 0.9228, Val Loss: 1.1512, Val Acc: 0.7434\n"
     ]
    },
    {
     "data": {
      "application/vnd.jupyter.widget-view+json": {
       "model_id": "64447607c312445a9557b39e9f3c5f50",
       "version_major": 2,
       "version_minor": 0
      },
      "text/plain": [
       "Epoch [90/300]:   0%|          | 0/125 [00:00<?, ?it/s]"
      ]
     },
     "metadata": {},
     "output_type": "display_data"
    },
    {
     "data": {
      "application/vnd.jupyter.widget-view+json": {
       "model_id": "7b0454786fa04fcc94f4dce7bf9f6e7c",
       "version_major": 2,
       "version_minor": 0
      },
      "text/plain": [
       "Validation Epoch [90/300]:   0%|          | 0/29 [00:00<?, ?it/s]"
      ]
     },
     "metadata": {},
     "output_type": "display_data"
    },
    {
     "name": "stdout",
     "output_type": "stream",
     "text": [
      "Epoch [90/300] - Train Loss: 0.1815, Train Acc: 0.9384, Val Loss: 1.0039, Val Acc: 0.6729\n",
      "Checkpoint saved at ./checkpoints_modelnet10/classification_epoch_90.pth\n"
     ]
    },
    {
     "data": {
      "application/vnd.jupyter.widget-view+json": {
       "model_id": "6cfdb92dff914465b1ba12092848ddf7",
       "version_major": 2,
       "version_minor": 0
      },
      "text/plain": [
       "Epoch [91/300]:   0%|          | 0/125 [00:00<?, ?it/s]"
      ]
     },
     "metadata": {},
     "output_type": "display_data"
    },
    {
     "data": {
      "application/vnd.jupyter.widget-view+json": {
       "model_id": "2bfc1744411544f09ba8e1ba9d1c6009",
       "version_major": 2,
       "version_minor": 0
      },
      "text/plain": [
       "Validation Epoch [91/300]:   0%|          | 0/29 [00:00<?, ?it/s]"
      ]
     },
     "metadata": {},
     "output_type": "display_data"
    },
    {
     "name": "stdout",
     "output_type": "stream",
     "text": [
      "Epoch [91/300] - Train Loss: 0.1983, Train Acc: 0.9326, Val Loss: 3.9850, Val Acc: 0.1828\n"
     ]
    },
    {
     "data": {
      "application/vnd.jupyter.widget-view+json": {
       "model_id": "95d05e058e4e40d9a1e10af538f4f876",
       "version_major": 2,
       "version_minor": 0
      },
      "text/plain": [
       "Epoch [92/300]:   0%|          | 0/125 [00:00<?, ?it/s]"
      ]
     },
     "metadata": {},
     "output_type": "display_data"
    },
    {
     "data": {
      "application/vnd.jupyter.widget-view+json": {
       "model_id": "251f0e92c897497ba65caef551eca943",
       "version_major": 2,
       "version_minor": 0
      },
      "text/plain": [
       "Validation Epoch [92/300]:   0%|          | 0/29 [00:00<?, ?it/s]"
      ]
     },
     "metadata": {},
     "output_type": "display_data"
    },
    {
     "name": "stdout",
     "output_type": "stream",
     "text": [
      "Epoch [92/300] - Train Loss: 0.2844, Train Acc: 0.9000, Val Loss: 1.4995, Val Acc: 0.5385\n"
     ]
    },
    {
     "data": {
      "application/vnd.jupyter.widget-view+json": {
       "model_id": "b73b98c9cb004af8858d4d776fc0803b",
       "version_major": 2,
       "version_minor": 0
      },
      "text/plain": [
       "Epoch [93/300]:   0%|          | 0/125 [00:00<?, ?it/s]"
      ]
     },
     "metadata": {},
     "output_type": "display_data"
    },
    {
     "data": {
      "application/vnd.jupyter.widget-view+json": {
       "model_id": "5217317be6f44fd1b0cd1272a6a396f5",
       "version_major": 2,
       "version_minor": 0
      },
      "text/plain": [
       "Validation Epoch [93/300]:   0%|          | 0/29 [00:00<?, ?it/s]"
      ]
     },
     "metadata": {},
     "output_type": "display_data"
    },
    {
     "name": "stdout",
     "output_type": "stream",
     "text": [
      "Epoch [93/300] - Train Loss: 0.2166, Train Acc: 0.9246, Val Loss: 2.9827, Val Acc: 0.2004\n"
     ]
    },
    {
     "data": {
      "application/vnd.jupyter.widget-view+json": {
       "model_id": "0cf16e0670a345bba4dd86d0cd5ef8fe",
       "version_major": 2,
       "version_minor": 0
      },
      "text/plain": [
       "Epoch [94/300]:   0%|          | 0/125 [00:00<?, ?it/s]"
      ]
     },
     "metadata": {},
     "output_type": "display_data"
    },
    {
     "data": {
      "application/vnd.jupyter.widget-view+json": {
       "model_id": "d47e9d74ed2147b891a983b01f45c3e2",
       "version_major": 2,
       "version_minor": 0
      },
      "text/plain": [
       "Validation Epoch [94/300]:   0%|          | 0/29 [00:00<?, ?it/s]"
      ]
     },
     "metadata": {},
     "output_type": "display_data"
    },
    {
     "name": "stdout",
     "output_type": "stream",
     "text": [
      "Epoch [94/300] - Train Loss: 0.2000, Train Acc: 0.9286, Val Loss: 3.4117, Val Acc: 0.2379\n"
     ]
    },
    {
     "data": {
      "application/vnd.jupyter.widget-view+json": {
       "model_id": "6e921fb84fe04c288b46b517768cb7fd",
       "version_major": 2,
       "version_minor": 0
      },
      "text/plain": [
       "Epoch [95/300]:   0%|          | 0/125 [00:00<?, ?it/s]"
      ]
     },
     "metadata": {},
     "output_type": "display_data"
    },
    {
     "data": {
      "application/vnd.jupyter.widget-view+json": {
       "model_id": "cc11e814041a4e8e8416cdd395b2602e",
       "version_major": 2,
       "version_minor": 0
      },
      "text/plain": [
       "Validation Epoch [95/300]:   0%|          | 0/29 [00:00<?, ?it/s]"
      ]
     },
     "metadata": {},
     "output_type": "display_data"
    },
    {
     "name": "stdout",
     "output_type": "stream",
     "text": [
      "Epoch [95/300] - Train Loss: 0.2123, Train Acc: 0.9256, Val Loss: 1.1599, Val Acc: 0.6894\n"
     ]
    },
    {
     "data": {
      "application/vnd.jupyter.widget-view+json": {
       "model_id": "fcd5f7defc6d4e22988a34340cd2b386",
       "version_major": 2,
       "version_minor": 0
      },
      "text/plain": [
       "Epoch [96/300]:   0%|          | 0/125 [00:00<?, ?it/s]"
      ]
     },
     "metadata": {},
     "output_type": "display_data"
    },
    {
     "data": {
      "application/vnd.jupyter.widget-view+json": {
       "model_id": "7b5328f41c334eaaa3ff8c7f7f56134e",
       "version_major": 2,
       "version_minor": 0
      },
      "text/plain": [
       "Validation Epoch [96/300]:   0%|          | 0/29 [00:00<?, ?it/s]"
      ]
     },
     "metadata": {},
     "output_type": "display_data"
    },
    {
     "name": "stdout",
     "output_type": "stream",
     "text": [
      "Epoch [96/300] - Train Loss: 0.1686, Train Acc: 0.9379, Val Loss: 3.4170, Val Acc: 0.2478\n"
     ]
    },
    {
     "data": {
      "application/vnd.jupyter.widget-view+json": {
       "model_id": "4eeaed18d5d243c68154451b4a959920",
       "version_major": 2,
       "version_minor": 0
      },
      "text/plain": [
       "Epoch [97/300]:   0%|          | 0/125 [00:00<?, ?it/s]"
      ]
     },
     "metadata": {},
     "output_type": "display_data"
    },
    {
     "data": {
      "application/vnd.jupyter.widget-view+json": {
       "model_id": "bf14f6eaa8f8413bbb654a8094e8550f",
       "version_major": 2,
       "version_minor": 0
      },
      "text/plain": [
       "Validation Epoch [97/300]:   0%|          | 0/29 [00:00<?, ?it/s]"
      ]
     },
     "metadata": {},
     "output_type": "display_data"
    },
    {
     "name": "stdout",
     "output_type": "stream",
     "text": [
      "Epoch [97/300] - Train Loss: 0.3176, Train Acc: 0.8970, Val Loss: 2.4397, Val Acc: 0.3271\n"
     ]
    },
    {
     "data": {
      "application/vnd.jupyter.widget-view+json": {
       "model_id": "a99c2c57c06f4616a501e26d38dfa225",
       "version_major": 2,
       "version_minor": 0
      },
      "text/plain": [
       "Epoch [98/300]:   0%|          | 0/125 [00:00<?, ?it/s]"
      ]
     },
     "metadata": {},
     "output_type": "display_data"
    },
    {
     "data": {
      "application/vnd.jupyter.widget-view+json": {
       "model_id": "febb2c8037484f29b57ceca1a2aee672",
       "version_major": 2,
       "version_minor": 0
      },
      "text/plain": [
       "Validation Epoch [98/300]:   0%|          | 0/29 [00:00<?, ?it/s]"
      ]
     },
     "metadata": {},
     "output_type": "display_data"
    },
    {
     "name": "stdout",
     "output_type": "stream",
     "text": [
      "Epoch [98/300] - Train Loss: 0.2750, Train Acc: 0.9078, Val Loss: 1.8720, Val Acc: 0.4758\n"
     ]
    },
    {
     "data": {
      "application/vnd.jupyter.widget-view+json": {
       "model_id": "664b7ce23bc14679a4fedf9b2707906c",
       "version_major": 2,
       "version_minor": 0
      },
      "text/plain": [
       "Epoch [99/300]:   0%|          | 0/125 [00:00<?, ?it/s]"
      ]
     },
     "metadata": {},
     "output_type": "display_data"
    },
    {
     "data": {
      "application/vnd.jupyter.widget-view+json": {
       "model_id": "620b67afca3d4d4b9fdee3c605fdfc0e",
       "version_major": 2,
       "version_minor": 0
      },
      "text/plain": [
       "Validation Epoch [99/300]:   0%|          | 0/29 [00:00<?, ?it/s]"
      ]
     },
     "metadata": {},
     "output_type": "display_data"
    },
    {
     "name": "stdout",
     "output_type": "stream",
     "text": [
      "Epoch [99/300] - Train Loss: 0.1953, Train Acc: 0.9334, Val Loss: 1.0426, Val Acc: 0.6509\n"
     ]
    },
    {
     "data": {
      "application/vnd.jupyter.widget-view+json": {
       "model_id": "8a4c48f0c9a14ca1bd211f4fe11c5014",
       "version_major": 2,
       "version_minor": 0
      },
      "text/plain": [
       "Epoch [100/300]:   0%|          | 0/125 [00:00<?, ?it/s]"
      ]
     },
     "metadata": {},
     "output_type": "display_data"
    },
    {
     "data": {
      "application/vnd.jupyter.widget-view+json": {
       "model_id": "d668790189d14e3f8c11505cf86681d2",
       "version_major": 2,
       "version_minor": 0
      },
      "text/plain": [
       "Validation Epoch [100/300]:   0%|          | 0/29 [00:00<?, ?it/s]"
      ]
     },
     "metadata": {},
     "output_type": "display_data"
    },
    {
     "name": "stdout",
     "output_type": "stream",
     "text": [
      "Epoch [100/300] - Train Loss: 0.1985, Train Acc: 0.9356, Val Loss: 1.1910, Val Acc: 0.6454\n",
      "Checkpoint saved at ./checkpoints_modelnet10/classification_epoch_100.pth\n"
     ]
    },
    {
     "data": {
      "application/vnd.jupyter.widget-view+json": {
       "model_id": "baafe670cd8e4ad0af16dec7c0edf3b3",
       "version_major": 2,
       "version_minor": 0
      },
      "text/plain": [
       "Epoch [101/300]:   0%|          | 0/125 [00:00<?, ?it/s]"
      ]
     },
     "metadata": {},
     "output_type": "display_data"
    },
    {
     "data": {
      "application/vnd.jupyter.widget-view+json": {
       "model_id": "176146486b1b42029da32cb34994f7a3",
       "version_major": 2,
       "version_minor": 0
      },
      "text/plain": [
       "Validation Epoch [101/300]:   0%|          | 0/29 [00:00<?, ?it/s]"
      ]
     },
     "metadata": {},
     "output_type": "display_data"
    },
    {
     "name": "stdout",
     "output_type": "stream",
     "text": [
      "Epoch [101/300] - Train Loss: 0.2107, Train Acc: 0.9276, Val Loss: 2.8743, Val Acc: 0.2390\n"
     ]
    },
    {
     "data": {
      "application/vnd.jupyter.widget-view+json": {
       "model_id": "ad60a4810f2d46cf99d0d4c271523395",
       "version_major": 2,
       "version_minor": 0
      },
      "text/plain": [
       "Epoch [102/300]:   0%|          | 0/125 [00:00<?, ?it/s]"
      ]
     },
     "metadata": {},
     "output_type": "display_data"
    },
    {
     "data": {
      "application/vnd.jupyter.widget-view+json": {
       "model_id": "edaa3d38e38b4f6e8c9f451470b8d430",
       "version_major": 2,
       "version_minor": 0
      },
      "text/plain": [
       "Validation Epoch [102/300]:   0%|          | 0/29 [00:00<?, ?it/s]"
      ]
     },
     "metadata": {},
     "output_type": "display_data"
    },
    {
     "name": "stdout",
     "output_type": "stream",
     "text": [
      "Epoch [102/300] - Train Loss: 0.2429, Train Acc: 0.9208, Val Loss: 0.3928, Val Acc: 0.8689\n"
     ]
    },
    {
     "data": {
      "application/vnd.jupyter.widget-view+json": {
       "model_id": "e4e44c7110a94de882fef288a297641a",
       "version_major": 2,
       "version_minor": 0
      },
      "text/plain": [
       "Epoch [103/300]:   0%|          | 0/125 [00:00<?, ?it/s]"
      ]
     },
     "metadata": {},
     "output_type": "display_data"
    },
    {
     "data": {
      "application/vnd.jupyter.widget-view+json": {
       "model_id": "25fa1555d2ed472ca175e595486c91e7",
       "version_major": 2,
       "version_minor": 0
      },
      "text/plain": [
       "Validation Epoch [103/300]:   0%|          | 0/29 [00:00<?, ?it/s]"
      ]
     },
     "metadata": {},
     "output_type": "display_data"
    },
    {
     "name": "stdout",
     "output_type": "stream",
     "text": [
      "Epoch [103/300] - Train Loss: 0.1941, Train Acc: 0.9341, Val Loss: 1.8793, Val Acc: 0.3822\n"
     ]
    },
    {
     "data": {
      "application/vnd.jupyter.widget-view+json": {
       "model_id": "9aa6630b398941a39b659b4d348e8419",
       "version_major": 2,
       "version_minor": 0
      },
      "text/plain": [
       "Epoch [104/300]:   0%|          | 0/125 [00:00<?, ?it/s]"
      ]
     },
     "metadata": {},
     "output_type": "display_data"
    },
    {
     "data": {
      "application/vnd.jupyter.widget-view+json": {
       "model_id": "dbc6f74f320c4e49981a3fc740ab698d",
       "version_major": 2,
       "version_minor": 0
      },
      "text/plain": [
       "Validation Epoch [104/300]:   0%|          | 0/29 [00:00<?, ?it/s]"
      ]
     },
     "metadata": {},
     "output_type": "display_data"
    },
    {
     "name": "stdout",
     "output_type": "stream",
     "text": [
      "Epoch [104/300] - Train Loss: 0.1751, Train Acc: 0.9384, Val Loss: 1.9159, Val Acc: 0.4857\n"
     ]
    },
    {
     "data": {
      "application/vnd.jupyter.widget-view+json": {
       "model_id": "76d94763440a4bc7b9804bcb3755f7f1",
       "version_major": 2,
       "version_minor": 0
      },
      "text/plain": [
       "Epoch [105/300]:   0%|          | 0/125 [00:00<?, ?it/s]"
      ]
     },
     "metadata": {},
     "output_type": "display_data"
    },
    {
     "data": {
      "application/vnd.jupyter.widget-view+json": {
       "model_id": "c05d6deb6cb9409695fcebda2a043e4a",
       "version_major": 2,
       "version_minor": 0
      },
      "text/plain": [
       "Validation Epoch [105/300]:   0%|          | 0/29 [00:00<?, ?it/s]"
      ]
     },
     "metadata": {},
     "output_type": "display_data"
    },
    {
     "name": "stdout",
     "output_type": "stream",
     "text": [
      "Epoch [105/300] - Train Loss: 0.1673, Train Acc: 0.9399, Val Loss: 2.3460, Val Acc: 0.2742\n"
     ]
    },
    {
     "data": {
      "application/vnd.jupyter.widget-view+json": {
       "model_id": "c1b27987e51f4f3fbd395bc693971e89",
       "version_major": 2,
       "version_minor": 0
      },
      "text/plain": [
       "Epoch [106/300]:   0%|          | 0/125 [00:00<?, ?it/s]"
      ]
     },
     "metadata": {},
     "output_type": "display_data"
    },
    {
     "data": {
      "application/vnd.jupyter.widget-view+json": {
       "model_id": "365bf3be8c894ff3a32c12a8169b1e77",
       "version_major": 2,
       "version_minor": 0
      },
      "text/plain": [
       "Validation Epoch [106/300]:   0%|          | 0/29 [00:00<?, ?it/s]"
      ]
     },
     "metadata": {},
     "output_type": "display_data"
    },
    {
     "name": "stdout",
     "output_type": "stream",
     "text": [
      "Epoch [106/300] - Train Loss: 0.1581, Train Acc: 0.9444, Val Loss: 1.3385, Val Acc: 0.5870\n"
     ]
    },
    {
     "data": {
      "application/vnd.jupyter.widget-view+json": {
       "model_id": "a4869aa48e9a46f59366e9f1fff053f1",
       "version_major": 2,
       "version_minor": 0
      },
      "text/plain": [
       "Epoch [107/300]:   0%|          | 0/125 [00:00<?, ?it/s]"
      ]
     },
     "metadata": {},
     "output_type": "display_data"
    },
    {
     "data": {
      "application/vnd.jupyter.widget-view+json": {
       "model_id": "968b2b8857af4b688a114f038b23c146",
       "version_major": 2,
       "version_minor": 0
      },
      "text/plain": [
       "Validation Epoch [107/300]:   0%|          | 0/29 [00:00<?, ?it/s]"
      ]
     },
     "metadata": {},
     "output_type": "display_data"
    },
    {
     "name": "stdout",
     "output_type": "stream",
     "text": [
      "Epoch [107/300] - Train Loss: 0.1687, Train Acc: 0.9411, Val Loss: 1.2498, Val Acc: 0.5617\n"
     ]
    },
    {
     "data": {
      "application/vnd.jupyter.widget-view+json": {
       "model_id": "709d202c87f6401394e4ff22776113c0",
       "version_major": 2,
       "version_minor": 0
      },
      "text/plain": [
       "Epoch [108/300]:   0%|          | 0/125 [00:00<?, ?it/s]"
      ]
     },
     "metadata": {},
     "output_type": "display_data"
    },
    {
     "data": {
      "application/vnd.jupyter.widget-view+json": {
       "model_id": "1d4431d70ece4e3fa7084994c0cbbe85",
       "version_major": 2,
       "version_minor": 0
      },
      "text/plain": [
       "Validation Epoch [108/300]:   0%|          | 0/29 [00:00<?, ?it/s]"
      ]
     },
     "metadata": {},
     "output_type": "display_data"
    },
    {
     "name": "stdout",
     "output_type": "stream",
     "text": [
      "Epoch [108/300] - Train Loss: 0.1779, Train Acc: 0.9376, Val Loss: 1.3888, Val Acc: 0.5793\n"
     ]
    },
    {
     "data": {
      "application/vnd.jupyter.widget-view+json": {
       "model_id": "43f5292f2f0a40ad9e46edbdaf007b1f",
       "version_major": 2,
       "version_minor": 0
      },
      "text/plain": [
       "Epoch [109/300]:   0%|          | 0/125 [00:00<?, ?it/s]"
      ]
     },
     "metadata": {},
     "output_type": "display_data"
    },
    {
     "data": {
      "application/vnd.jupyter.widget-view+json": {
       "model_id": "02689106514e423dbedb1d2b154345e6",
       "version_major": 2,
       "version_minor": 0
      },
      "text/plain": [
       "Validation Epoch [109/300]:   0%|          | 0/29 [00:00<?, ?it/s]"
      ]
     },
     "metadata": {},
     "output_type": "display_data"
    },
    {
     "name": "stdout",
     "output_type": "stream",
     "text": [
      "Epoch [109/300] - Train Loss: 0.1547, Train Acc: 0.9461, Val Loss: 2.4531, Val Acc: 0.4978\n"
     ]
    },
    {
     "data": {
      "application/vnd.jupyter.widget-view+json": {
       "model_id": "4fc214eedddf40b9abc296270471d2f1",
       "version_major": 2,
       "version_minor": 0
      },
      "text/plain": [
       "Epoch [110/300]:   0%|          | 0/125 [00:00<?, ?it/s]"
      ]
     },
     "metadata": {},
     "output_type": "display_data"
    },
    {
     "data": {
      "application/vnd.jupyter.widget-view+json": {
       "model_id": "e08efdbb191e451ab03f381680f47b0d",
       "version_major": 2,
       "version_minor": 0
      },
      "text/plain": [
       "Validation Epoch [110/300]:   0%|          | 0/29 [00:00<?, ?it/s]"
      ]
     },
     "metadata": {},
     "output_type": "display_data"
    },
    {
     "name": "stdout",
     "output_type": "stream",
     "text": [
      "Epoch [110/300] - Train Loss: 0.2188, Train Acc: 0.9253, Val Loss: 4.9156, Val Acc: 0.2269\n",
      "Checkpoint saved at ./checkpoints_modelnet10/classification_epoch_110.pth\n"
     ]
    },
    {
     "data": {
      "application/vnd.jupyter.widget-view+json": {
       "model_id": "9e7dae7d385d4642a560b4bd4d6309a0",
       "version_major": 2,
       "version_minor": 0
      },
      "text/plain": [
       "Epoch [111/300]:   0%|          | 0/125 [00:00<?, ?it/s]"
      ]
     },
     "metadata": {},
     "output_type": "display_data"
    },
    {
     "data": {
      "application/vnd.jupyter.widget-view+json": {
       "model_id": "a14856239afa42e8940ebff61b67ce94",
       "version_major": 2,
       "version_minor": 0
      },
      "text/plain": [
       "Validation Epoch [111/300]:   0%|          | 0/29 [00:00<?, ?it/s]"
      ]
     },
     "metadata": {},
     "output_type": "display_data"
    },
    {
     "name": "stdout",
     "output_type": "stream",
     "text": [
      "Epoch [111/300] - Train Loss: 0.1907, Train Acc: 0.9331, Val Loss: 0.3769, Val Acc: 0.8844\n"
     ]
    },
    {
     "data": {
      "application/vnd.jupyter.widget-view+json": {
       "model_id": "bda7da622dcb48c7b1bc35d04c33f815",
       "version_major": 2,
       "version_minor": 0
      },
      "text/plain": [
       "Epoch [112/300]:   0%|          | 0/125 [00:00<?, ?it/s]"
      ]
     },
     "metadata": {},
     "output_type": "display_data"
    },
    {
     "data": {
      "application/vnd.jupyter.widget-view+json": {
       "model_id": "2b7294b8897244f5b34a0ec86e118df0",
       "version_major": 2,
       "version_minor": 0
      },
      "text/plain": [
       "Validation Epoch [112/300]:   0%|          | 0/29 [00:00<?, ?it/s]"
      ]
     },
     "metadata": {},
     "output_type": "display_data"
    },
    {
     "name": "stdout",
     "output_type": "stream",
     "text": [
      "Epoch [112/300] - Train Loss: 0.1759, Train Acc: 0.9386, Val Loss: 3.2089, Val Acc: 0.1850\n"
     ]
    },
    {
     "data": {
      "application/vnd.jupyter.widget-view+json": {
       "model_id": "3dde8411906246c2af0e76bc94e354ad",
       "version_major": 2,
       "version_minor": 0
      },
      "text/plain": [
       "Epoch [113/300]:   0%|          | 0/125 [00:00<?, ?it/s]"
      ]
     },
     "metadata": {},
     "output_type": "display_data"
    },
    {
     "data": {
      "application/vnd.jupyter.widget-view+json": {
       "model_id": "21d3fba3d5b3460cbdbd6e02a6918cce",
       "version_major": 2,
       "version_minor": 0
      },
      "text/plain": [
       "Validation Epoch [113/300]:   0%|          | 0/29 [00:00<?, ?it/s]"
      ]
     },
     "metadata": {},
     "output_type": "display_data"
    },
    {
     "name": "stdout",
     "output_type": "stream",
     "text": [
      "Epoch [113/300] - Train Loss: 0.1978, Train Acc: 0.9298, Val Loss: 2.6430, Val Acc: 0.3403\n"
     ]
    },
    {
     "data": {
      "application/vnd.jupyter.widget-view+json": {
       "model_id": "33183026f210432285ef9dc0ee9e875f",
       "version_major": 2,
       "version_minor": 0
      },
      "text/plain": [
       "Epoch [114/300]:   0%|          | 0/125 [00:00<?, ?it/s]"
      ]
     },
     "metadata": {},
     "output_type": "display_data"
    },
    {
     "data": {
      "application/vnd.jupyter.widget-view+json": {
       "model_id": "a3629456de7f4f189198b14cc3da0a9b",
       "version_major": 2,
       "version_minor": 0
      },
      "text/plain": [
       "Validation Epoch [114/300]:   0%|          | 0/29 [00:00<?, ?it/s]"
      ]
     },
     "metadata": {},
     "output_type": "display_data"
    },
    {
     "name": "stdout",
     "output_type": "stream",
     "text": [
      "Epoch [114/300] - Train Loss: 0.1921, Train Acc: 0.9346, Val Loss: 1.2075, Val Acc: 0.5363\n"
     ]
    },
    {
     "data": {
      "application/vnd.jupyter.widget-view+json": {
       "model_id": "d0d3a9b6d03847a19a6b8363693a4ddb",
       "version_major": 2,
       "version_minor": 0
      },
      "text/plain": [
       "Epoch [115/300]:   0%|          | 0/125 [00:00<?, ?it/s]"
      ]
     },
     "metadata": {},
     "output_type": "display_data"
    },
    {
     "data": {
      "application/vnd.jupyter.widget-view+json": {
       "model_id": "6cf41d7bc72b45f592fc86f4a0a1a279",
       "version_major": 2,
       "version_minor": 0
      },
      "text/plain": [
       "Validation Epoch [115/300]:   0%|          | 0/29 [00:00<?, ?it/s]"
      ]
     },
     "metadata": {},
     "output_type": "display_data"
    },
    {
     "name": "stdout",
     "output_type": "stream",
     "text": [
      "Epoch [115/300] - Train Loss: 0.1782, Train Acc: 0.9384, Val Loss: 2.5278, Val Acc: 0.4240\n"
     ]
    },
    {
     "data": {
      "application/vnd.jupyter.widget-view+json": {
       "model_id": "766cdb41ccc74d0ebc3aeefa6b649f2b",
       "version_major": 2,
       "version_minor": 0
      },
      "text/plain": [
       "Epoch [116/300]:   0%|          | 0/125 [00:00<?, ?it/s]"
      ]
     },
     "metadata": {},
     "output_type": "display_data"
    },
    {
     "data": {
      "application/vnd.jupyter.widget-view+json": {
       "model_id": "b292eaf803404a1197bda4706c6294ac",
       "version_major": 2,
       "version_minor": 0
      },
      "text/plain": [
       "Validation Epoch [116/300]:   0%|          | 0/29 [00:00<?, ?it/s]"
      ]
     },
     "metadata": {},
     "output_type": "display_data"
    },
    {
     "name": "stdout",
     "output_type": "stream",
     "text": [
      "Epoch [116/300] - Train Loss: 0.1562, Train Acc: 0.9469, Val Loss: 1.1402, Val Acc: 0.6079\n"
     ]
    },
    {
     "data": {
      "application/vnd.jupyter.widget-view+json": {
       "model_id": "d422cb599f924ab28104c0573652ee5e",
       "version_major": 2,
       "version_minor": 0
      },
      "text/plain": [
       "Epoch [117/300]:   0%|          | 0/125 [00:00<?, ?it/s]"
      ]
     },
     "metadata": {},
     "output_type": "display_data"
    },
    {
     "data": {
      "application/vnd.jupyter.widget-view+json": {
       "model_id": "6fe6537db112446b9e5d80fdbe447657",
       "version_major": 2,
       "version_minor": 0
      },
      "text/plain": [
       "Validation Epoch [117/300]:   0%|          | 0/29 [00:00<?, ?it/s]"
      ]
     },
     "metadata": {},
     "output_type": "display_data"
    },
    {
     "name": "stdout",
     "output_type": "stream",
     "text": [
      "Epoch [117/300] - Train Loss: 0.1653, Train Acc: 0.9379, Val Loss: 1.4231, Val Acc: 0.5738\n"
     ]
    },
    {
     "data": {
      "application/vnd.jupyter.widget-view+json": {
       "model_id": "5e086645c96d4d24a7342e77cf26c0a9",
       "version_major": 2,
       "version_minor": 0
      },
      "text/plain": [
       "Epoch [118/300]:   0%|          | 0/125 [00:00<?, ?it/s]"
      ]
     },
     "metadata": {},
     "output_type": "display_data"
    },
    {
     "data": {
      "application/vnd.jupyter.widget-view+json": {
       "model_id": "af6244f3093b4c9aa3f51592dab47c3e",
       "version_major": 2,
       "version_minor": 0
      },
      "text/plain": [
       "Validation Epoch [118/300]:   0%|          | 0/29 [00:00<?, ?it/s]"
      ]
     },
     "metadata": {},
     "output_type": "display_data"
    },
    {
     "name": "stdout",
     "output_type": "stream",
     "text": [
      "Epoch [118/300] - Train Loss: 0.1906, Train Acc: 0.9346, Val Loss: 0.9696, Val Acc: 0.6982\n"
     ]
    },
    {
     "data": {
      "application/vnd.jupyter.widget-view+json": {
       "model_id": "8758504ce4844ab89a9d912ace2cc761",
       "version_major": 2,
       "version_minor": 0
      },
      "text/plain": [
       "Epoch [119/300]:   0%|          | 0/125 [00:00<?, ?it/s]"
      ]
     },
     "metadata": {},
     "output_type": "display_data"
    },
    {
     "data": {
      "application/vnd.jupyter.widget-view+json": {
       "model_id": "d70925bcb6a843a596391b99967c91f5",
       "version_major": 2,
       "version_minor": 0
      },
      "text/plain": [
       "Validation Epoch [119/300]:   0%|          | 0/29 [00:00<?, ?it/s]"
      ]
     },
     "metadata": {},
     "output_type": "display_data"
    },
    {
     "name": "stdout",
     "output_type": "stream",
     "text": [
      "Epoch [119/300] - Train Loss: 0.1587, Train Acc: 0.9454, Val Loss: 1.5011, Val Acc: 0.6024\n"
     ]
    },
    {
     "data": {
      "application/vnd.jupyter.widget-view+json": {
       "model_id": "414dd2491fdf4eca8e78e417d7a72fc6",
       "version_major": 2,
       "version_minor": 0
      },
      "text/plain": [
       "Epoch [120/300]:   0%|          | 0/125 [00:00<?, ?it/s]"
      ]
     },
     "metadata": {},
     "output_type": "display_data"
    },
    {
     "data": {
      "application/vnd.jupyter.widget-view+json": {
       "model_id": "a87ee92573cc4644a34df7f61ba44cd2",
       "version_major": 2,
       "version_minor": 0
      },
      "text/plain": [
       "Validation Epoch [120/300]:   0%|          | 0/29 [00:00<?, ?it/s]"
      ]
     },
     "metadata": {},
     "output_type": "display_data"
    },
    {
     "name": "stdout",
     "output_type": "stream",
     "text": [
      "Epoch [120/300] - Train Loss: 0.1937, Train Acc: 0.9344, Val Loss: 2.1793, Val Acc: 0.3833\n",
      "Checkpoint saved at ./checkpoints_modelnet10/classification_epoch_120.pth\n"
     ]
    },
    {
     "data": {
      "application/vnd.jupyter.widget-view+json": {
       "model_id": "05b58f8405a2464ebad6e27c9d3393f1",
       "version_major": 2,
       "version_minor": 0
      },
      "text/plain": [
       "Epoch [121/300]:   0%|          | 0/125 [00:00<?, ?it/s]"
      ]
     },
     "metadata": {},
     "output_type": "display_data"
    },
    {
     "data": {
      "application/vnd.jupyter.widget-view+json": {
       "model_id": "b73c79de857b4eec8cdd2e401289af8b",
       "version_major": 2,
       "version_minor": 0
      },
      "text/plain": [
       "Validation Epoch [121/300]:   0%|          | 0/29 [00:00<?, ?it/s]"
      ]
     },
     "metadata": {},
     "output_type": "display_data"
    },
    {
     "name": "stdout",
     "output_type": "stream",
     "text": [
      "Epoch [121/300] - Train Loss: 0.2175, Train Acc: 0.9276, Val Loss: 1.9496, Val Acc: 0.4548\n"
     ]
    },
    {
     "data": {
      "application/vnd.jupyter.widget-view+json": {
       "model_id": "2c4c03c2992b440c82c907c37b25c8cc",
       "version_major": 2,
       "version_minor": 0
      },
      "text/plain": [
       "Epoch [122/300]:   0%|          | 0/125 [00:00<?, ?it/s]"
      ]
     },
     "metadata": {},
     "output_type": "display_data"
    },
    {
     "data": {
      "application/vnd.jupyter.widget-view+json": {
       "model_id": "0bfc573f0acb4b0592f3393860672c35",
       "version_major": 2,
       "version_minor": 0
      },
      "text/plain": [
       "Validation Epoch [122/300]:   0%|          | 0/29 [00:00<?, ?it/s]"
      ]
     },
     "metadata": {},
     "output_type": "display_data"
    },
    {
     "name": "stdout",
     "output_type": "stream",
     "text": [
      "Epoch [122/300] - Train Loss: 0.1904, Train Acc: 0.9346, Val Loss: 0.8736, Val Acc: 0.6861\n"
     ]
    },
    {
     "data": {
      "application/vnd.jupyter.widget-view+json": {
       "model_id": "3183f821398a4915b17ba6e5d96b21e3",
       "version_major": 2,
       "version_minor": 0
      },
      "text/plain": [
       "Epoch [123/300]:   0%|          | 0/125 [00:00<?, ?it/s]"
      ]
     },
     "metadata": {},
     "output_type": "display_data"
    },
    {
     "data": {
      "application/vnd.jupyter.widget-view+json": {
       "model_id": "77fdb3d5638b4311a54acf64ecb8e251",
       "version_major": 2,
       "version_minor": 0
      },
      "text/plain": [
       "Validation Epoch [123/300]:   0%|          | 0/29 [00:00<?, ?it/s]"
      ]
     },
     "metadata": {},
     "output_type": "display_data"
    },
    {
     "name": "stdout",
     "output_type": "stream",
     "text": [
      "Epoch [123/300] - Train Loss: 0.1695, Train Acc: 0.9376, Val Loss: 3.1235, Val Acc: 0.1476\n"
     ]
    },
    {
     "data": {
      "application/vnd.jupyter.widget-view+json": {
       "model_id": "a6492eb9d39d4e75902d653e4f1e6b9e",
       "version_major": 2,
       "version_minor": 0
      },
      "text/plain": [
       "Epoch [124/300]:   0%|          | 0/125 [00:00<?, ?it/s]"
      ]
     },
     "metadata": {},
     "output_type": "display_data"
    },
    {
     "data": {
      "application/vnd.jupyter.widget-view+json": {
       "model_id": "dbdeb7919bf54291b1af53290e56cfc4",
       "version_major": 2,
       "version_minor": 0
      },
      "text/plain": [
       "Validation Epoch [124/300]:   0%|          | 0/29 [00:00<?, ?it/s]"
      ]
     },
     "metadata": {},
     "output_type": "display_data"
    },
    {
     "name": "stdout",
     "output_type": "stream",
     "text": [
      "Epoch [124/300] - Train Loss: 0.1697, Train Acc: 0.9374, Val Loss: 2.7901, Val Acc: 0.2996\n"
     ]
    },
    {
     "data": {
      "application/vnd.jupyter.widget-view+json": {
       "model_id": "0801db0f1602410a97c47e54f16ea829",
       "version_major": 2,
       "version_minor": 0
      },
      "text/plain": [
       "Epoch [125/300]:   0%|          | 0/125 [00:00<?, ?it/s]"
      ]
     },
     "metadata": {},
     "output_type": "display_data"
    },
    {
     "data": {
      "application/vnd.jupyter.widget-view+json": {
       "model_id": "a452e7f1b2734f279532f946929348c7",
       "version_major": 2,
       "version_minor": 0
      },
      "text/plain": [
       "Validation Epoch [125/300]:   0%|          | 0/29 [00:00<?, ?it/s]"
      ]
     },
     "metadata": {},
     "output_type": "display_data"
    },
    {
     "name": "stdout",
     "output_type": "stream",
     "text": [
      "Epoch [125/300] - Train Loss: 0.1440, Train Acc: 0.9466, Val Loss: 1.6155, Val Acc: 0.5551\n"
     ]
    },
    {
     "data": {
      "application/vnd.jupyter.widget-view+json": {
       "model_id": "70e4347c131b4089bab0deccd1b1aa8c",
       "version_major": 2,
       "version_minor": 0
      },
      "text/plain": [
       "Epoch [126/300]:   0%|          | 0/125 [00:00<?, ?it/s]"
      ]
     },
     "metadata": {},
     "output_type": "display_data"
    },
    {
     "data": {
      "application/vnd.jupyter.widget-view+json": {
       "model_id": "498f02cabf2c4e40a5b22e806049627f",
       "version_major": 2,
       "version_minor": 0
      },
      "text/plain": [
       "Validation Epoch [126/300]:   0%|          | 0/29 [00:00<?, ?it/s]"
      ]
     },
     "metadata": {},
     "output_type": "display_data"
    },
    {
     "name": "stdout",
     "output_type": "stream",
     "text": [
      "Epoch [126/300] - Train Loss: 0.1354, Train Acc: 0.9504, Val Loss: 1.3099, Val Acc: 0.6674\n"
     ]
    },
    {
     "data": {
      "application/vnd.jupyter.widget-view+json": {
       "model_id": "6f005b27071142b3adbb006b9b00e361",
       "version_major": 2,
       "version_minor": 0
      },
      "text/plain": [
       "Epoch [127/300]:   0%|          | 0/125 [00:00<?, ?it/s]"
      ]
     },
     "metadata": {},
     "output_type": "display_data"
    }
   ],
   "source": [
    "# --- 8. Training and Validation Loop ---\n",
    "for epoch in range(EPOCHS):\n",
    "    train_loss, train_acc = train_one_epoch(classification_model, train_loader, optimizer, epoch)\n",
    "    val_loss, val_acc = validate_one_epoch(classification_model, test_loader, epoch)\n",
    "    \n",
    "    # Step the scheduler\n",
    "    scheduler.step()\n",
    "    \n",
    "    # Log metrics to TensorBoard\n",
    "    writer.add_scalar(\"Train/Loss\", train_loss, epoch)\n",
    "    writer.add_scalar(\"Train/Accuracy\", train_acc, epoch)\n",
    "    writer.add_scalar(\"Validation/Loss\", val_loss, epoch)\n",
    "    writer.add_scalar(\"Validation/Accuracy\", val_acc, epoch)\n",
    "    writer.add_scalar(\"Learning_Rate\", scheduler.get_last_lr()[0], epoch)\n",
    "\n",
    "    # Print epoch stats\n",
    "    print(f\"Epoch [{epoch+1}/{EPOCHS}] - Train Loss: {train_loss:.4f}, Train Acc: {train_acc:.4f}, \"\n",
    "          f\"Val Loss: {val_loss:.4f}, Val Acc: {val_acc:.4f}\")\n",
    "\n",
    "    # Save checkpoint every 10 epochs\n",
    "    if (epoch + 1) % 10 == 0:\n",
    "        checkpoint_path = os.path.join(CHECKPOINT_DIR, f\"classification_epoch_{epoch+1}.pth\")\n",
    "        torch.save(classification_model.state_dict(), checkpoint_path)\n",
    "        print(f\"Checkpoint saved at {checkpoint_path}\")\n",
    "\n",
    "# Close TensorBoard writer\n",
    "writer.close()\n",
    "print(\"Training complete.\")"
   ]
  },
  {
   "cell_type": "code",
   "execution_count": null,
   "metadata": {},
   "outputs": [],
   "source": [
    "from sklearn.metrics import accuracy_score, f1_score, confusion_matrix\n",
    "import matplotlib.pyplot as plt\n",
    "import seaborn as sns\n",
    "from collections import Counter\n",
    "import os\n",
    "\n",
    "# --- Load Classification Model Checkpoint ---\n",
    "def load_classification_checkpoint(model, checkpoint_path):\n",
    "    if os.path.isfile(checkpoint_path):\n",
    "        print(f\"Loading checkpoint from {checkpoint_path}\")\n",
    "        checkpoint = torch.load(checkpoint_path, map_location=DEVICE, weights_only=True)\n",
    "        model.load_state_dict(checkpoint['model_state_dict'])\n",
    "        print(\"Checkpoint loaded successfully.\")\n",
    "    else:\n",
    "        print(f\"Checkpoint not found at {checkpoint_path}\")\n",
    "\n",
    "\n",
    "# --- Evaluate Model on Test Set with Voting ---\n",
    "def evaluate_model_with_voting(model, loader, num_votes=10, class_names=None):\n",
    "    model.eval()\n",
    "    all_labels = []\n",
    "    all_predictions = []\n",
    "\n",
    "    with torch.no_grad():\n",
    "        for points, labels in tqdm(loader, desc=\"Evaluating Test Set with Voting\"):\n",
    "            points, labels = points.to(DEVICE), labels.to(DEVICE)\n",
    "            batch_size = points.size(0)\n",
    "            vote_predictions = []\n",
    "\n",
    "            for v in range(num_votes):\n",
    "                # Apply random augmentations to the points\n",
    "                augmented_points = apply_test_augmentations(points.clone())\n",
    "\n",
    "                # Forward pass\n",
    "                outputs = model(augmented_points)\n",
    "                _, predicted = outputs.max(1)\n",
    "                vote_predictions.append(predicted.cpu().numpy())\n",
    "\n",
    "            # Majority voting\n",
    "            vote_predictions = np.array(vote_predictions)  # Shape: (num_votes, batch_size)\n",
    "            final_predictions = []\n",
    "\n",
    "            for i in range(batch_size):\n",
    "                votes = vote_predictions[:, i]\n",
    "                most_common = Counter(votes).most_common(1)[0][0]\n",
    "                final_predictions.append(most_common)\n",
    "\n",
    "            all_labels.extend(labels.cpu().numpy())\n",
    "            all_predictions.extend(final_predictions)\n",
    "\n",
    "    # Calculate accuracy and F1 score\n",
    "    test_accuracy = accuracy_score(all_labels, all_predictions)\n",
    "    test_f1_score = f1_score(all_labels, all_predictions, average='weighted')\n",
    "\n",
    "    # Calculate and optionally display confusion matrix\n",
    "    conf_matrix = confusion_matrix(all_labels, all_predictions)\n",
    "\n",
    "    if class_names is not None:\n",
    "        plt.figure(figsize=(10, 8))\n",
    "        sns.heatmap(conf_matrix, annot=True, fmt='d', cmap='Blues', xticklabels=class_names, yticklabels=class_names)\n",
    "        plt.xlabel('Predicted')\n",
    "        plt.ylabel('Actual')\n",
    "        plt.title('Confusion Matrix')\n",
    "        plt.show()\n",
    "    else:\n",
    "        print(\"Confusion Matrix:\")\n",
    "        print(conf_matrix)\n",
    "\n",
    "    return test_accuracy, test_f1_score, conf_matrix\n",
    "\n",
    "def apply_test_augmentations(points):\n",
    "    \"\"\"Apply random rotations and jittering for test-time augmentation.\"\"\"\n",
    "    return points"
   ]
  },
  {
   "cell_type": "code",
   "execution_count": null,
   "metadata": {},
   "outputs": [
    {
     "name": "stdout",
     "output_type": "stream",
     "text": [
      "\n",
      "Evaluating Model at Epoch 300...\n",
      "Loading checkpoint from ./checkpoints_modelnet10/pointMAE/classification_epoch_300.pth\n",
      "Checkpoint loaded successfully.\n"
     ]
    },
    {
     "data": {
      "application/vnd.jupyter.widget-view+json": {
       "model_id": "0be9b2d7e3194ab082378b99ef4a06f0",
       "version_major": 2,
       "version_minor": 0
      },
      "text/plain": [
       "Evaluating Test Set with Voting:   0%|          | 0/29 [00:00<?, ?it/s]"
      ]
     },
     "metadata": {},
     "output_type": "display_data"
    },
    {
     "name": "stdout",
     "output_type": "stream",
     "text": [
      "Sample 0:\n",
      "  Ground Truth Label: 0\n",
      "  All Votes: [0, 0, 0, 0, 0, 0, 0, 0, 0, 0]\n",
      "  Final Predicted Label: 0\n",
      "  Logits for each vote:\n",
      "    Vote 1: [16.072721481323242, 1.318589210510254, 0.5162745714187622, -4.142401218414307, -1.9251630306243896, -2.3471555709838867, -5.9330315589904785, 7.889880180358887, -3.0701513290405273, 1.450615406036377]\n",
      "    Vote 2: [12.520066261291504, 0.40597298741340637, 1.1744698286056519, -1.5440210103988647, -2.3747520446777344, -2.385354518890381, -5.520094394683838, 6.291991233825684, -2.9728991985321045, 2.176534414291382]\n",
      "    Vote 3: [13.44953727722168, -0.31106075644493103, 0.06192340701818466, -2.171377420425415, -1.5399562120437622, -4.731729030609131, -6.087968349456787, 7.145591735839844, -1.4955238103866577, 2.899047613143921]\n",
      "    Vote 4: [13.30393123626709, -0.39053499698638916, 0.011323891580104828, -1.9113855361938477, -0.14556366205215454, -5.590342998504639, -4.749540328979492, 6.2675347328186035, -4.117166996002197, 4.67055082321167]\n",
      "    Vote 5: [12.855209350585938, -0.6411216855049133, 0.22872063517570496, -2.8249759674072266, -2.1754069328308105, -2.395638942718506, -6.01533317565918, 9.387495994567871, -2.496621608734131, 2.3571887016296387]\n",
      "    Vote 6: [10.945940971374512, -0.8288836479187012, 1.1788607835769653, -3.6638965606689453, -0.7081001400947571, -3.74283766746521, -5.388528823852539, 7.238598823547363, -2.747840404510498, 3.9407286643981934]\n",
      "    Vote 7: [11.823965072631836, 0.4102744162082672, 2.5745091438293457, -4.453767776489258, -2.012871503829956, -2.1418895721435547, -5.478646278381348, 8.105816841125488, -3.3327760696411133, 1.5384767055511475]\n",
      "    Vote 8: [10.47248649597168, -0.2382545918226242, 2.2054786682128906, -2.311856985092163, -0.5256941318511963, -4.484748840332031, -5.073404788970947, 5.8154120445251465, -4.495927333831787, 5.187406539916992]\n",
      "    Vote 9: [16.85345458984375, 0.31999048590660095, -0.29980871081352234, -3.8214046955108643, -1.17550528049469, -3.485809803009033, -5.4488935470581055, 8.104669570922852, -3.0471506118774414, 1.3155896663665771]\n",
      "    Vote 10: [12.771794319152832, -0.6047089695930481, 1.347243309020996, -2.8181772232055664, -0.6863159537315369, -4.140077590942383, -5.09443998336792, 7.1886162757873535, -4.27259635925293, 3.8657443523406982]\n",
      "Sample 0:\n",
      "  Ground Truth Label: 0\n",
      "  All Votes: [1, 0, 1, 1, 0, 1, 8, 1, 1, 8]\n",
      "  Final Predicted Label: 1\n",
      "  Logits for each vote:\n",
      "    Vote 1: [4.4411725997924805, 8.580743789672852, -2.6804327964782715, -8.222452163696289, -5.013652801513672, -3.296788454055786, -3.5312137603759766, 5.753345489501953, 4.545596599578857, -1.095579743385315]\n",
      "    Vote 2: [6.625589370727539, 5.412820816040039, -2.822129011154175, -6.792623519897461, -5.725545406341553, -4.759668827056885, -3.7382984161376953, 5.937314510345459, 5.310991287231445, 0.7777826189994812]\n",
      "    Vote 3: [6.02785587310791, 6.8890557289123535, -2.1851236820220947, -5.751137733459473, -6.745480060577393, -5.29343843460083, -4.721981048583984, 5.077548503875732, 6.180556297302246, 0.12007363140583038]\n",
      "    Vote 4: [4.660707473754883, 7.6337785720825195, -2.644266128540039, -6.314654350280762, -5.738126754760742, -5.34671688079834, -4.346817970275879, 5.378541946411133, 5.7425007820129395, -0.09881807863712311]\n",
      "    Vote 5: [8.118182182312012, 6.163656234741211, -3.54565691947937, -7.192411422729492, -5.881418704986572, -4.038173675537109, -4.5953450202941895, 6.587888240814209, 6.138624668121338, -0.08639386296272278]\n",
      "    Vote 6: [4.675169944763184, 6.883633136749268, -2.7534983158111572, -5.863499641418457, -4.597023010253906, -4.840169429779053, -4.293979644775391, 3.040088176727295, 6.8617143630981445, 0.012163864448666573]\n",
      "    Vote 7: [5.00208044052124, 7.429908752441406, -3.9316201210021973, -5.7732014656066895, -5.39693546295166, -5.080798149108887, -4.833040714263916, 4.521895408630371, 7.96310567855835, -1.224609613418579]\n",
      "    Vote 8: [4.414933681488037, 8.676262855529785, -3.1729795932769775, -7.048223495483398, -4.8717875480651855, -4.063080787658691, -4.500085353851318, 4.6863884925842285, 5.609757900238037, 0.2230316698551178]\n",
      "    Vote 9: [2.999569892883301, 9.133933067321777, -2.2719054222106934, -6.737419128417969, -5.056102752685547, -4.844143390655518, -3.7493700981140137, 3.103712320327759, 6.27215051651001, -1.234004020690918]\n",
      "    Vote 10: [3.008654832839966, 6.411257266998291, -4.3887038230896, -4.28392219543457, -6.114440441131592, -5.917354106903076, -3.8617820739746094, 3.37095046043396, 9.74281120300293, -2.7854928970336914]\n"
     ]
    },
    {
     "name": "stderr",
     "output_type": "stream",
     "text": [
      "Exception ignored in: <bound method IPythonKernel._clean_thread_parent_frames of <ipykernel.ipkernel.IPythonKernel object at 0x7f4b4b59b400>>\n",
      "Traceback (most recent call last):\n",
      "  File \"/nfs/cc-filer/home/gunnerstone/anaconda3/envs/pytorch3d/lib/python3.10/site-packages/ipykernel/ipkernel.py\", line 775, in _clean_thread_parent_frames\n",
      "    def _clean_thread_parent_frames(\n",
      "KeyboardInterrupt: \n"
     ]
    },
    {
     "name": "stdout",
     "output_type": "stream",
     "text": [
      "Sample 0:\n",
      "  Ground Truth Label: 1\n",
      "  All Votes: [1, 1, 1, 1, 1, 1, 1, 1, 1, 1]\n",
      "  Final Predicted Label: 1\n",
      "  Logits for each vote:\n",
      "    Vote 1: [-2.6291213035583496, 16.562864303588867, 2.132089138031006, -4.431171894073486, -4.668832302093506, -7.400076389312744, -3.311612844467163, 1.1647213697433472, -0.3293469548225403, -2.843830108642578]\n",
      "    Vote 2: [-1.3213013410568237, 13.648956298828125, 0.09726982563734055, -3.803231954574585, -4.930740833282471, -8.563074111938477, -3.7335405349731445, 4.762251853942871, 0.22135798633098602, -2.351173162460327]\n",
      "    Vote 3: [-2.873011827468872, 17.615039825439453, 2.225921630859375, -4.943271636962891, -3.5974481105804443, -6.322399616241455, -2.2186484336853027, -2.1537373065948486, -0.4421980381011963, -2.3646631240844727]\n",
      "    Vote 4: [-2.893077850341797, 16.89979362487793, -1.0037014484405518, -4.130988597869873, -3.5741539001464844, -6.65397310256958, -1.8938419818878174, 2.1402060985565186, -1.2123368978500366, -3.1303656101226807]\n",
      "    Vote 5: [-0.20189523696899414, 16.412939071655273, 0.009784601628780365, -5.257362365722656, -4.610352993011475, -8.191877365112305, -2.909404754638672, 3.157029151916504, -1.1642812490463257, -1.6229665279388428]\n",
      "    Vote 6: [-1.3366259336471558, 16.40623664855957, 0.998627781867981, -5.287802696228027, -5.039731025695801, -7.674520015716553, -2.4304866790771484, 1.400570273399353, -0.5750159025192261, -1.6412461996078491]\n",
      "    Vote 7: [-3.4746365547180176, 18.278369903564453, 1.702743649482727, -3.8058478832244873, -5.267302513122559, -6.773718357086182, -2.573903799057007, -1.4243675470352173, 0.2874382734298706, -3.0195133686065674]\n",
      "    Vote 8: [-5.950377941131592, 17.048046112060547, 1.6374223232269287, -5.403944969177246, -3.7748210430145264, -7.566999435424805, -1.0405594110488892, -0.9414387941360474, 0.4153435230255127, -3.6491401195526123]\n",
      "    Vote 9: [-2.6517720222473145, 17.641998291015625, -0.6381067037582397, -5.154604434967041, -4.5892791748046875, -6.873002052307129, -2.0111141204833984, 1.5517044067382812, 0.017849911004304886, -3.7154946327209473]\n",
      "    Vote 10: [-3.8378360271453857, 18.284103393554688, 0.5607700347900391, -4.995317459106445, -3.014712333679199, -7.580218315124512, -1.890557050704956, -0.1865050345659256, -1.191322922706604, -2.335354804992676]\n",
      "Sample 0:\n",
      "  Ground Truth Label: 1\n",
      "  All Votes: [8, 8, 8, 8, 8, 8, 8, 8, 8, 8]\n",
      "  Final Predicted Label: 8\n",
      "  Logits for each vote:\n",
      "    Vote 1: [-4.971612930297852, 5.698896884918213, -5.466881275177002, -1.1829602718353271, -3.1778578758239746, -8.866514205932617, -1.7973010540008545, 1.4012857675552368, 11.057496070861816, -6.386415481567383]\n",
      "    Vote 2: [-4.556075096130371, 6.574679374694824, -5.308517932891846, -1.8984637260437012, -2.5942535400390625, -7.8316874504089355, -2.1316797733306885, 1.436757206916809, 10.064813613891602, -5.378274440765381]\n",
      "    Vote 3: [-3.5053634643554688, 7.776832103729248, -5.036175727844238, -1.4489041566848755, -4.450110912322998, -7.442819118499756, -2.6170668601989746, 3.4313337802886963, 8.678446769714355, -6.3296217918396]\n",
      "    Vote 4: [-5.021718502044678, 8.086846351623535, -5.291017532348633, -1.2663614749908447, -3.2302982807159424, -8.05925464630127, -1.894166111946106, 1.4125032424926758, 8.954447746276855, -5.711159706115723]\n",
      "    Vote 5: [-6.365170001983643, 6.449560642242432, -6.157793045043945, -0.589391827583313, -1.1583236455917358, -8.059976577758789, -0.6001602411270142, -0.5024856328964233, 9.38421630859375, -5.688103675842285]\n",
      "    Vote 6: [-6.365170001983643, 6.449560642242432, -6.157793045043945, -0.589391827583313, -1.1583236455917358, -8.059976577758789, -0.6001602411270142, -0.5024856328964233, 9.38421630859375, -5.688103675842285]\n",
      "    Vote 7: [-5.098203659057617, 6.959259986877441, -4.693154811859131, -2.8927788734436035, -2.5495476722717285, -7.70236349105835, -1.4930288791656494, 3.6182634830474854, 7.665694713592529, -5.838400363922119]\n",
      "    Vote 8: [-4.611976146697998, 7.229735374450684, -5.871588706970215, -2.532242774963379, -3.119122266769409, -8.846389770507812, -2.365616798400879, 2.202418088912964, 11.242719650268555, -6.424391269683838]\n",
      "    Vote 9: [-6.016821384429932, 8.223703384399414, -5.707132339477539, -1.2525863647460938, -2.2140321731567383, -7.350973129272461, -2.089834451675415, -0.18034681677818298, 9.908466339111328, -5.391895294189453]\n",
      "    Vote 10: [-4.612452030181885, 6.196449279785156, -5.033036708831787, -1.897092342376709, -3.6972784996032715, -8.399456024169922, -2.047117233276367, 1.4825001955032349, 11.56400203704834, -6.671596050262451]\n",
      "Sample 0:\n",
      "  Ground Truth Label: 1\n",
      "  All Votes: [1, 1, 1, 1, 1, 1, 1, 1, 1, 1]\n",
      "  Final Predicted Label: 1\n",
      "  Logits for each vote:\n",
      "    Vote 1: [-2.764176607131958, 17.17464256286621, -0.7158898711204529, -4.941448211669922, -4.75790548324585, -6.507315635681152, -2.5692930221557617, 1.2493000030517578, 1.489789366722107, -3.531585693359375]\n",
      "    Vote 2: [-0.06841079890727997, 15.042792320251465, 1.2411748170852661, -4.582210063934326, -6.302169322967529, -6.211386680603027, -4.054744720458984, 0.34745970368385315, 3.8065943717956543, -3.014268159866333]\n",
      "    Vote 3: [1.1049747467041016, 15.114507675170898, -0.3182225525379181, -5.30063533782959, -6.787829399108887, -5.964580535888672, -4.561762809753418, 2.7322335243225098, 4.633423805236816, -4.577802658081055]\n",
      "    Vote 4: [-0.9463419318199158, 15.267271041870117, -0.09250973910093307, -6.208060264587402, -4.4070305824279785, -5.741600513458252, -3.0387144088745117, 2.371638298034668, 1.6275370121002197, -2.9647669792175293]\n",
      "    Vote 5: [0.5316940546035767, 14.841377258300781, -0.2876195013523102, -5.126541614532471, -6.924248695373535, -5.6910529136657715, -3.388446092605591, 2.21785044670105, 4.300592422485352, -4.671547889709473]\n",
      "    Vote 6: [-0.9912469387054443, 15.271793365478516, -1.9408249855041504, -4.229706287384033, -4.26397180557251, -7.425291061401367, -3.249828338623047, 1.2987101078033447, 3.579423666000366, -3.3754262924194336]\n",
      "    Vote 7: [-1.4728972911834717, 14.355972290039062, -1.168702244758606, -5.365244388580322, -4.455849647521973, -6.081366062164307, -2.756742477416992, 3.2068583965301514, 2.299604654312134, -3.720064401626587]\n",
      "    Vote 8: [-1.3495357036590576, 14.859681129455566, -0.7461211085319519, -6.538486957550049, -2.693875312805176, -5.469027042388916, -1.7545608282089233, 0.15072980523109436, 2.045395612716675, -3.038447141647339]\n",
      "    Vote 9: [1.7397538423538208, 13.715468406677246, -1.2707031965255737, -4.477880001068115, -5.270507335662842, -6.72977352142334, -4.764871597290039, 5.225024700164795, 2.635002851486206, -3.9157145023345947]\n",
      "    Vote 10: [-0.9912469387054443, 15.271793365478516, -1.9408249855041504, -4.229706287384033, -4.26397180557251, -7.425291061401367, -3.249828338623047, 1.2987101078033447, 3.579423666000366, -3.3754262924194336]\n",
      "Sample 0:\n",
      "  Ground Truth Label: 2\n",
      "  All Votes: [2, 2, 2, 2, 2, 2, 2, 2, 2, 2]\n",
      "  Final Predicted Label: 2\n",
      "  Logits for each vote:\n",
      "    Vote 1: [-8.166799545288086, -0.5674831867218018, 19.766048431396484, 0.751692533493042, -7.304920673370361, -4.372535228729248, -5.2284111976623535, -4.571502208709717, 3.010918140411377, -2.283827781677246]\n",
      "    Vote 2: [-8.287314414978027, -1.015804409980774, 19.292802810668945, -0.4218526780605316, -7.543606281280518, -3.4135091304779053, -4.9804229736328125, -4.159224987030029, 3.839979887008667, -1.6821564435958862]\n",
      "    Vote 3: [-8.511021614074707, -1.2172285318374634, 18.809070587158203, 0.9753004312515259, -7.180025577545166, -3.730323314666748, -4.418374061584473, -4.0356526374816895, 2.775376796722412, -2.434957265853882]\n",
      "    Vote 4: [-8.11589241027832, -0.24626091122627258, 19.845705032348633, 0.12407245486974716, -7.509815216064453, -3.784391403198242, -5.372313022613525, -4.4781036376953125, 3.181550979614258, -1.8674236536026]\n",
      "    Vote 5: [-8.652586936950684, -0.464409202337265, 19.837125778198242, -0.5047575235366821, -7.220264434814453, -3.9299747943878174, -4.493626117706299, -4.382774829864502, 2.5431933403015137, -1.3164820671081543]\n",
      "    Vote 6: [-7.922196388244629, -1.0798016786575317, 19.422008514404297, 0.9657109975814819, -7.336472511291504, -3.457479476928711, -5.594291687011719, -4.832978248596191, 3.900712728500366, -2.2943639755249023]\n",
      "    Vote 7: [-8.326399803161621, -1.3727840185165405, 19.37942123413086, 0.6209111213684082, -7.118602275848389, -3.6033687591552734, -4.592227458953857, -4.896468162536621, 2.964323043823242, -1.5169872045516968]\n",
      "    Vote 8: [-8.434194564819336, -0.9053680300712585, 20.458934783935547, 0.0795217975974083, -7.4000563621521, -3.8482418060302734, -5.557804107666016, -5.006817817687988, 3.896949052810669, -2.0643768310546875]\n",
      "    Vote 9: [-9.830022811889648, -0.8759732246398926, 19.293336868286133, 0.07596614211797714, -7.2158918380737305, -3.8900418281555176, -4.093234539031982, -4.740355968475342, 3.1552677154541016, -1.80959153175354]\n",
      "    Vote 10: [-8.620372772216797, -0.9926415085792542, 18.733516693115234, 0.6263552904129028, -6.9957098960876465, -4.376382827758789, -4.482003211975098, -5.006795883178711, 3.8761720657348633, -2.632765293121338]\n"
     ]
    },
    {
     "name": "stderr",
     "output_type": "stream",
     "text": [
      "Exception ignored in: <bound method IPythonKernel._clean_thread_parent_frames of <ipykernel.ipkernel.IPythonKernel object at 0x7f4b4b59b400>>\n",
      "Traceback (most recent call last):\n",
      "  File \"/nfs/cc-filer/home/gunnerstone/anaconda3/envs/pytorch3d/lib/python3.10/site-packages/ipykernel/ipkernel.py\", line 775, in _clean_thread_parent_frames\n",
      "    def _clean_thread_parent_frames(\n",
      "KeyboardInterrupt: \n"
     ]
    },
    {
     "ename": "KeyboardInterrupt",
     "evalue": "",
     "output_type": "error",
     "traceback": [
      "\u001b[0;31m---------------------------------------------------------------------------\u001b[0m",
      "\u001b[0;31mKeyboardInterrupt\u001b[0m                         Traceback (most recent call last)",
      "Cell \u001b[0;32mIn[11], line 12\u001b[0m\n\u001b[1;32m     10\u001b[0m \u001b[38;5;28;01mtry\u001b[39;00m:\n\u001b[1;32m     11\u001b[0m     load_classification_checkpoint(classification_model, checkpoint_path)\n\u001b[0;32m---> 12\u001b[0m     test_accuracy_voting, test_f1_score_voting \u001b[38;5;241m=\u001b[39m \u001b[43mevaluate_model_with_voting\u001b[49m\u001b[43m(\u001b[49m\n\u001b[1;32m     13\u001b[0m \u001b[43m        \u001b[49m\u001b[43mclassification_model\u001b[49m\u001b[43m,\u001b[49m\u001b[43m \u001b[49m\u001b[43mtest_loader\u001b[49m\u001b[43m,\u001b[49m\u001b[43m \u001b[49m\u001b[43mnum_votes\u001b[49m\u001b[38;5;241;43m=\u001b[39;49m\u001b[38;5;241;43m10\u001b[39;49m\n\u001b[1;32m     14\u001b[0m \u001b[43m    \u001b[49m\u001b[43m)\u001b[49m\n\u001b[1;32m     15\u001b[0m     results\u001b[38;5;241m.\u001b[39mappend((epoch, test_accuracy_voting, test_f1_score_voting))\n\u001b[1;32m     16\u001b[0m \u001b[38;5;28;01mexcept\u001b[39;00m \u001b[38;5;167;01mFileNotFoundError\u001b[39;00m \u001b[38;5;28;01mas\u001b[39;00m e:\n",
      "Cell \u001b[0;32mIn[9], line 22\u001b[0m, in \u001b[0;36mevaluate_model_with_voting\u001b[0;34m(model, loader, num_votes)\u001b[0m\n\u001b[1;32m     19\u001b[0m all_predictions \u001b[38;5;241m=\u001b[39m []\n\u001b[1;32m     21\u001b[0m \u001b[38;5;28;01mwith\u001b[39;00m torch\u001b[38;5;241m.\u001b[39mno_grad():\n\u001b[0;32m---> 22\u001b[0m     \u001b[38;5;28;01mfor\u001b[39;00m points, labels \u001b[38;5;129;01min\u001b[39;00m tqdm(loader, desc\u001b[38;5;241m=\u001b[39m\u001b[38;5;124m\"\u001b[39m\u001b[38;5;124mEvaluating Test Set with Voting\u001b[39m\u001b[38;5;124m\"\u001b[39m):\n\u001b[1;32m     23\u001b[0m         points, labels \u001b[38;5;241m=\u001b[39m points\u001b[38;5;241m.\u001b[39mto(DEVICE), labels\u001b[38;5;241m.\u001b[39mto(DEVICE)\n\u001b[1;32m     24\u001b[0m         batch_size \u001b[38;5;241m=\u001b[39m points\u001b[38;5;241m.\u001b[39msize(\u001b[38;5;241m0\u001b[39m)\n",
      "File \u001b[0;32m~/anaconda3/envs/pytorch3d/lib/python3.10/site-packages/tqdm/notebook.py:250\u001b[0m, in \u001b[0;36mtqdm_notebook.__iter__\u001b[0;34m(self)\u001b[0m\n\u001b[1;32m    248\u001b[0m \u001b[38;5;28;01mtry\u001b[39;00m:\n\u001b[1;32m    249\u001b[0m     it \u001b[38;5;241m=\u001b[39m \u001b[38;5;28msuper\u001b[39m()\u001b[38;5;241m.\u001b[39m\u001b[38;5;21m__iter__\u001b[39m()\n\u001b[0;32m--> 250\u001b[0m     \u001b[38;5;28;01mfor\u001b[39;00m obj \u001b[38;5;129;01min\u001b[39;00m it:\n\u001b[1;32m    251\u001b[0m         \u001b[38;5;66;03m# return super(tqdm...) will not catch exception\u001b[39;00m\n\u001b[1;32m    252\u001b[0m         \u001b[38;5;28;01myield\u001b[39;00m obj\n\u001b[1;32m    253\u001b[0m \u001b[38;5;66;03m# NB: except ... [ as ...] breaks IPython async KeyboardInterrupt\u001b[39;00m\n",
      "File \u001b[0;32m~/anaconda3/envs/pytorch3d/lib/python3.10/site-packages/tqdm/std.py:1181\u001b[0m, in \u001b[0;36mtqdm.__iter__\u001b[0;34m(self)\u001b[0m\n\u001b[1;32m   1178\u001b[0m time \u001b[38;5;241m=\u001b[39m \u001b[38;5;28mself\u001b[39m\u001b[38;5;241m.\u001b[39m_time\n\u001b[1;32m   1180\u001b[0m \u001b[38;5;28;01mtry\u001b[39;00m:\n\u001b[0;32m-> 1181\u001b[0m     \u001b[38;5;28;01mfor\u001b[39;00m obj \u001b[38;5;129;01min\u001b[39;00m iterable:\n\u001b[1;32m   1182\u001b[0m         \u001b[38;5;28;01myield\u001b[39;00m obj\n\u001b[1;32m   1183\u001b[0m         \u001b[38;5;66;03m# Update and possibly print the progressbar.\u001b[39;00m\n\u001b[1;32m   1184\u001b[0m         \u001b[38;5;66;03m# Note: does not call self.update(1) for speed optimisation.\u001b[39;00m\n",
      "File \u001b[0;32m~/anaconda3/envs/pytorch3d/lib/python3.10/site-packages/torch/utils/data/dataloader.py:630\u001b[0m, in \u001b[0;36m_BaseDataLoaderIter.__next__\u001b[0;34m(self)\u001b[0m\n\u001b[1;32m    627\u001b[0m \u001b[38;5;28;01mif\u001b[39;00m \u001b[38;5;28mself\u001b[39m\u001b[38;5;241m.\u001b[39m_sampler_iter \u001b[38;5;129;01mis\u001b[39;00m \u001b[38;5;28;01mNone\u001b[39;00m:\n\u001b[1;32m    628\u001b[0m     \u001b[38;5;66;03m# TODO(https://github.com/pytorch/pytorch/issues/76750)\u001b[39;00m\n\u001b[1;32m    629\u001b[0m     \u001b[38;5;28mself\u001b[39m\u001b[38;5;241m.\u001b[39m_reset()  \u001b[38;5;66;03m# type: ignore[call-arg]\u001b[39;00m\n\u001b[0;32m--> 630\u001b[0m data \u001b[38;5;241m=\u001b[39m \u001b[38;5;28;43mself\u001b[39;49m\u001b[38;5;241;43m.\u001b[39;49m\u001b[43m_next_data\u001b[49m\u001b[43m(\u001b[49m\u001b[43m)\u001b[49m\n\u001b[1;32m    631\u001b[0m \u001b[38;5;28mself\u001b[39m\u001b[38;5;241m.\u001b[39m_num_yielded \u001b[38;5;241m+\u001b[39m\u001b[38;5;241m=\u001b[39m \u001b[38;5;241m1\u001b[39m\n\u001b[1;32m    632\u001b[0m \u001b[38;5;28;01mif\u001b[39;00m \u001b[38;5;28mself\u001b[39m\u001b[38;5;241m.\u001b[39m_dataset_kind \u001b[38;5;241m==\u001b[39m _DatasetKind\u001b[38;5;241m.\u001b[39mIterable \u001b[38;5;129;01mand\u001b[39;00m \\\n\u001b[1;32m    633\u001b[0m         \u001b[38;5;28mself\u001b[39m\u001b[38;5;241m.\u001b[39m_IterableDataset_len_called \u001b[38;5;129;01mis\u001b[39;00m \u001b[38;5;129;01mnot\u001b[39;00m \u001b[38;5;28;01mNone\u001b[39;00m \u001b[38;5;129;01mand\u001b[39;00m \\\n\u001b[1;32m    634\u001b[0m         \u001b[38;5;28mself\u001b[39m\u001b[38;5;241m.\u001b[39m_num_yielded \u001b[38;5;241m>\u001b[39m \u001b[38;5;28mself\u001b[39m\u001b[38;5;241m.\u001b[39m_IterableDataset_len_called:\n",
      "File \u001b[0;32m~/anaconda3/envs/pytorch3d/lib/python3.10/site-packages/torch/utils/data/dataloader.py:673\u001b[0m, in \u001b[0;36m_SingleProcessDataLoaderIter._next_data\u001b[0;34m(self)\u001b[0m\n\u001b[1;32m    671\u001b[0m \u001b[38;5;28;01mdef\u001b[39;00m \u001b[38;5;21m_next_data\u001b[39m(\u001b[38;5;28mself\u001b[39m):\n\u001b[1;32m    672\u001b[0m     index \u001b[38;5;241m=\u001b[39m \u001b[38;5;28mself\u001b[39m\u001b[38;5;241m.\u001b[39m_next_index()  \u001b[38;5;66;03m# may raise StopIteration\u001b[39;00m\n\u001b[0;32m--> 673\u001b[0m     data \u001b[38;5;241m=\u001b[39m \u001b[38;5;28;43mself\u001b[39;49m\u001b[38;5;241;43m.\u001b[39;49m\u001b[43m_dataset_fetcher\u001b[49m\u001b[38;5;241;43m.\u001b[39;49m\u001b[43mfetch\u001b[49m\u001b[43m(\u001b[49m\u001b[43mindex\u001b[49m\u001b[43m)\u001b[49m  \u001b[38;5;66;03m# may raise StopIteration\u001b[39;00m\n\u001b[1;32m    674\u001b[0m     \u001b[38;5;28;01mif\u001b[39;00m \u001b[38;5;28mself\u001b[39m\u001b[38;5;241m.\u001b[39m_pin_memory:\n\u001b[1;32m    675\u001b[0m         data \u001b[38;5;241m=\u001b[39m _utils\u001b[38;5;241m.\u001b[39mpin_memory\u001b[38;5;241m.\u001b[39mpin_memory(data, \u001b[38;5;28mself\u001b[39m\u001b[38;5;241m.\u001b[39m_pin_memory_device)\n",
      "File \u001b[0;32m~/anaconda3/envs/pytorch3d/lib/python3.10/site-packages/torch/utils/data/_utils/fetch.py:52\u001b[0m, in \u001b[0;36m_MapDatasetFetcher.fetch\u001b[0;34m(self, possibly_batched_index)\u001b[0m\n\u001b[1;32m     50\u001b[0m         data \u001b[38;5;241m=\u001b[39m \u001b[38;5;28mself\u001b[39m\u001b[38;5;241m.\u001b[39mdataset\u001b[38;5;241m.\u001b[39m__getitems__(possibly_batched_index)\n\u001b[1;32m     51\u001b[0m     \u001b[38;5;28;01melse\u001b[39;00m:\n\u001b[0;32m---> 52\u001b[0m         data \u001b[38;5;241m=\u001b[39m [\u001b[38;5;28mself\u001b[39m\u001b[38;5;241m.\u001b[39mdataset[idx] \u001b[38;5;28;01mfor\u001b[39;00m idx \u001b[38;5;129;01min\u001b[39;00m possibly_batched_index]\n\u001b[1;32m     53\u001b[0m \u001b[38;5;28;01melse\u001b[39;00m:\n\u001b[1;32m     54\u001b[0m     data \u001b[38;5;241m=\u001b[39m \u001b[38;5;28mself\u001b[39m\u001b[38;5;241m.\u001b[39mdataset[possibly_batched_index]\n",
      "File \u001b[0;32m~/anaconda3/envs/pytorch3d/lib/python3.10/site-packages/torch/utils/data/_utils/fetch.py:52\u001b[0m, in \u001b[0;36m<listcomp>\u001b[0;34m(.0)\u001b[0m\n\u001b[1;32m     50\u001b[0m         data \u001b[38;5;241m=\u001b[39m \u001b[38;5;28mself\u001b[39m\u001b[38;5;241m.\u001b[39mdataset\u001b[38;5;241m.\u001b[39m__getitems__(possibly_batched_index)\n\u001b[1;32m     51\u001b[0m     \u001b[38;5;28;01melse\u001b[39;00m:\n\u001b[0;32m---> 52\u001b[0m         data \u001b[38;5;241m=\u001b[39m [\u001b[38;5;28;43mself\u001b[39;49m\u001b[38;5;241;43m.\u001b[39;49m\u001b[43mdataset\u001b[49m\u001b[43m[\u001b[49m\u001b[43midx\u001b[49m\u001b[43m]\u001b[49m \u001b[38;5;28;01mfor\u001b[39;00m idx \u001b[38;5;129;01min\u001b[39;00m possibly_batched_index]\n\u001b[1;32m     53\u001b[0m \u001b[38;5;28;01melse\u001b[39;00m:\n\u001b[1;32m     54\u001b[0m     data \u001b[38;5;241m=\u001b[39m \u001b[38;5;28mself\u001b[39m\u001b[38;5;241m.\u001b[39mdataset[possibly_batched_index]\n",
      "Cell \u001b[0;32mIn[3], line 56\u001b[0m, in \u001b[0;36mModelNet10Dataset.__getitem__\u001b[0;34m(self, idx)\u001b[0m\n\u001b[1;32m     54\u001b[0m \u001b[38;5;28;01mdef\u001b[39;00m \u001b[38;5;21m__getitem__\u001b[39m(\u001b[38;5;28mself\u001b[39m, idx):\n\u001b[1;32m     55\u001b[0m     file_path, class_idx \u001b[38;5;241m=\u001b[39m \u001b[38;5;28mself\u001b[39m\u001b[38;5;241m.\u001b[39mdata[idx]\n\u001b[0;32m---> 56\u001b[0m     mesh \u001b[38;5;241m=\u001b[39m \u001b[43mtrimesh\u001b[49m\u001b[38;5;241;43m.\u001b[39;49m\u001b[43mload\u001b[49m\u001b[43m(\u001b[49m\u001b[43mfile_path\u001b[49m\u001b[43m)\u001b[49m\n\u001b[1;32m     57\u001b[0m     points \u001b[38;5;241m=\u001b[39m mesh\u001b[38;5;241m.\u001b[39msample(\u001b[38;5;28mself\u001b[39m\u001b[38;5;241m.\u001b[39mnum_points)\n\u001b[1;32m     58\u001b[0m     points \u001b[38;5;241m=\u001b[39m np\u001b[38;5;241m.\u001b[39marray(points, dtype\u001b[38;5;241m=\u001b[39mnp\u001b[38;5;241m.\u001b[39mfloat32)\n",
      "File \u001b[0;32m~/anaconda3/envs/pytorch3d/lib/python3.10/site-packages/trimesh/exchange/load.py:126\u001b[0m, in \u001b[0;36mload\u001b[0;34m(file_obj, file_type, resolver, force, **kwargs)\u001b[0m\n\u001b[1;32m    123\u001b[0m     loaded \u001b[38;5;241m=\u001b[39m load_path(file_obj, file_type\u001b[38;5;241m=\u001b[39mfile_type, \u001b[38;5;241m*\u001b[39m\u001b[38;5;241m*\u001b[39mkwargs)\n\u001b[1;32m    124\u001b[0m \u001b[38;5;28;01melif\u001b[39;00m file_type \u001b[38;5;129;01min\u001b[39;00m mesh_loaders:\n\u001b[1;32m    125\u001b[0m     \u001b[38;5;66;03m# mesh loaders use mesh loader\u001b[39;00m\n\u001b[0;32m--> 126\u001b[0m     loaded \u001b[38;5;241m=\u001b[39m \u001b[43mload_mesh\u001b[49m\u001b[43m(\u001b[49m\u001b[43mfile_obj\u001b[49m\u001b[43m,\u001b[49m\u001b[43m \u001b[49m\u001b[43mfile_type\u001b[49m\u001b[38;5;241;43m=\u001b[39;49m\u001b[43mfile_type\u001b[49m\u001b[43m,\u001b[49m\u001b[43m \u001b[49m\u001b[43mresolver\u001b[49m\u001b[38;5;241;43m=\u001b[39;49m\u001b[43mresolver\u001b[49m\u001b[43m,\u001b[49m\u001b[43m \u001b[49m\u001b[38;5;241;43m*\u001b[39;49m\u001b[38;5;241;43m*\u001b[39;49m\u001b[43mkwargs\u001b[49m\u001b[43m)\u001b[49m\n\u001b[1;32m    127\u001b[0m \u001b[38;5;28;01melif\u001b[39;00m file_type \u001b[38;5;129;01min\u001b[39;00m compressed_loaders:\n\u001b[1;32m    128\u001b[0m     \u001b[38;5;66;03m# for archives, like ZIP files\u001b[39;00m\n\u001b[1;32m    129\u001b[0m     loaded \u001b[38;5;241m=\u001b[39m load_compressed(file_obj, file_type\u001b[38;5;241m=\u001b[39mfile_type, \u001b[38;5;241m*\u001b[39m\u001b[38;5;241m*\u001b[39mkwargs)\n",
      "File \u001b[0;32m~/anaconda3/envs/pytorch3d/lib/python3.10/site-packages/trimesh/exchange/load.py:202\u001b[0m, in \u001b[0;36mload_mesh\u001b[0;34m(file_obj, file_type, resolver, **kwargs)\u001b[0m\n\u001b[1;32m    200\u001b[0m loader \u001b[38;5;241m=\u001b[39m mesh_loaders[file_type]\n\u001b[1;32m    201\u001b[0m tic \u001b[38;5;241m=\u001b[39m now()\n\u001b[0;32m--> 202\u001b[0m results \u001b[38;5;241m=\u001b[39m \u001b[43mloader\u001b[49m\u001b[43m(\u001b[49m\u001b[43mfile_obj\u001b[49m\u001b[43m,\u001b[49m\u001b[43m \u001b[49m\u001b[43mfile_type\u001b[49m\u001b[38;5;241;43m=\u001b[39;49m\u001b[43mfile_type\u001b[49m\u001b[43m,\u001b[49m\u001b[43m \u001b[49m\u001b[43mresolver\u001b[49m\u001b[38;5;241;43m=\u001b[39;49m\u001b[43mresolver\u001b[49m\u001b[43m,\u001b[49m\u001b[43m \u001b[49m\u001b[38;5;241;43m*\u001b[39;49m\u001b[38;5;241;43m*\u001b[39;49m\u001b[43mkwargs\u001b[49m\u001b[43m)\u001b[49m\n\u001b[1;32m    203\u001b[0m \u001b[38;5;28;01mif\u001b[39;00m \u001b[38;5;129;01mnot\u001b[39;00m \u001b[38;5;28misinstance\u001b[39m(results, \u001b[38;5;28mlist\u001b[39m):\n\u001b[1;32m    204\u001b[0m     results \u001b[38;5;241m=\u001b[39m [results]\n",
      "File \u001b[0;32m~/anaconda3/envs/pytorch3d/lib/python3.10/site-packages/trimesh/exchange/off.py:43\u001b[0m, in \u001b[0;36mload_off\u001b[0;34m(file_obj, **kwargs)\u001b[0m\n\u001b[1;32m     39\u001b[0m header \u001b[38;5;241m=\u001b[39m np\u001b[38;5;241m.\u001b[39marray(splits[\u001b[38;5;241m0\u001b[39m]\u001b[38;5;241m.\u001b[39msplit(), dtype\u001b[38;5;241m=\u001b[39mnp\u001b[38;5;241m.\u001b[39mint64)\n\u001b[1;32m     40\u001b[0m vertex_count, face_count \u001b[38;5;241m=\u001b[39m header[:\u001b[38;5;241m2\u001b[39m]\n\u001b[1;32m     42\u001b[0m vertices \u001b[38;5;241m=\u001b[39m np\u001b[38;5;241m.\u001b[39marray(\n\u001b[0;32m---> 43\u001b[0m     [i\u001b[38;5;241m.\u001b[39msplit()[:\u001b[38;5;241m3\u001b[39m] \u001b[38;5;28;01mfor\u001b[39;00m i \u001b[38;5;129;01min\u001b[39;00m splits[\u001b[38;5;241m1\u001b[39m : vertex_count \u001b[38;5;241m+\u001b[39m \u001b[38;5;241m1\u001b[39m]], dtype\u001b[38;5;241m=\u001b[39mnp\u001b[38;5;241m.\u001b[39mfloat64\n\u001b[1;32m     44\u001b[0m )\n\u001b[1;32m     46\u001b[0m \u001b[38;5;66;03m# will fail if incorrect number of vertices loaded\u001b[39;00m\n\u001b[1;32m     47\u001b[0m vertices \u001b[38;5;241m=\u001b[39m vertices\u001b[38;5;241m.\u001b[39mreshape((vertex_count, \u001b[38;5;241m3\u001b[39m))\n",
      "File \u001b[0;32m~/anaconda3/envs/pytorch3d/lib/python3.10/site-packages/trimesh/exchange/off.py:43\u001b[0m, in \u001b[0;36m<listcomp>\u001b[0;34m(.0)\u001b[0m\n\u001b[1;32m     39\u001b[0m header \u001b[38;5;241m=\u001b[39m np\u001b[38;5;241m.\u001b[39marray(splits[\u001b[38;5;241m0\u001b[39m]\u001b[38;5;241m.\u001b[39msplit(), dtype\u001b[38;5;241m=\u001b[39mnp\u001b[38;5;241m.\u001b[39mint64)\n\u001b[1;32m     40\u001b[0m vertex_count, face_count \u001b[38;5;241m=\u001b[39m header[:\u001b[38;5;241m2\u001b[39m]\n\u001b[1;32m     42\u001b[0m vertices \u001b[38;5;241m=\u001b[39m np\u001b[38;5;241m.\u001b[39marray(\n\u001b[0;32m---> 43\u001b[0m     [\u001b[43mi\u001b[49m\u001b[38;5;241;43m.\u001b[39;49m\u001b[43msplit\u001b[49m\u001b[43m(\u001b[49m\u001b[43m)\u001b[49m[:\u001b[38;5;241m3\u001b[39m] \u001b[38;5;28;01mfor\u001b[39;00m i \u001b[38;5;129;01min\u001b[39;00m splits[\u001b[38;5;241m1\u001b[39m : vertex_count \u001b[38;5;241m+\u001b[39m \u001b[38;5;241m1\u001b[39m]], dtype\u001b[38;5;241m=\u001b[39mnp\u001b[38;5;241m.\u001b[39mfloat64\n\u001b[1;32m     44\u001b[0m )\n\u001b[1;32m     46\u001b[0m \u001b[38;5;66;03m# will fail if incorrect number of vertices loaded\u001b[39;00m\n\u001b[1;32m     47\u001b[0m vertices \u001b[38;5;241m=\u001b[39m vertices\u001b[38;5;241m.\u001b[39mreshape((vertex_count, \u001b[38;5;241m3\u001b[39m))\n",
      "\u001b[0;31mKeyboardInterrupt\u001b[0m: "
     ]
    }
   ],
   "source": [
    "# --- Main Evaluation Loop ---\n",
    "checkpoint_epochs = [10, 50, 100, 150, 200, 250, 300]\n",
    "results = []\n",
    "checkpoint_epochs.reverse()\n",
    "\n",
    "for epoch in checkpoint_epochs:\n",
    "    checkpoint_path = f\"./checkpoints_modelnet10/pointMAE/classification_epoch_{epoch}.pth\"\n",
    "    print(f\"\\nEvaluating Model at Epoch {epoch}...\")\n",
    "    \n",
    "    try:\n",
    "        load_classification_checkpoint(classification_model, checkpoint_path)\n",
    "        test_accuracy_voting, test_f1_score_voting, conf_matrix = evaluate_model_with_voting(\n",
    "            classification_model, test_loader, num_votes=10, class_names=class_names\n",
    "        )\n",
    "        print(f\"Accuracy: {test_accuracy_voting}; F1 Score: {test_f1_score_voting};\")\n",
    "        results.append((epoch, test_accuracy_voting, test_f1_score_voting))\n",
    "    except FileNotFoundError as e:\n",
    "        print(e)\n",
    "\n",
    "# --- Print Results ---\n",
    "print(\"\\nEvaluation Results:\")\n",
    "print(\"Epoch\\tAccuracy\\tF1 Score\")\n",
    "for epoch, acc, f1 in results:\n",
    "    print(f\"{epoch}\\t{acc:.4f}\\t\\t{f1:.4f}\")"
   ]
  },
  {
   "cell_type": "code",
   "execution_count": null,
   "metadata": {},
   "outputs": [],
   "source": []
  }
 ],
 "metadata": {
  "kernelspec": {
   "display_name": "torch",
   "language": "python",
   "name": "python3"
  },
  "language_info": {
   "codemirror_mode": {
    "name": "ipython",
    "version": 3
   },
   "file_extension": ".py",
   "mimetype": "text/x-python",
   "name": "python",
   "nbconvert_exporter": "python",
   "pygments_lexer": "ipython3",
   "version": "3.11.5"
  }
 },
 "nbformat": 4,
 "nbformat_minor": 4
}
