{
 "cells": [
  {
   "cell_type": "code",
   "execution_count": 1,
   "metadata": {},
   "outputs": [],
   "source": [
    "# --- 1. Import Libraries ---\n",
    "import torch\n",
    "import torch.optim as optim\n",
    "import torch.nn as nn\n",
    "import torch.nn.functional as F\n",
    "from torch.utils.data import Dataset, DataLoader\n",
    "from torch.utils.tensorboard import SummaryWriter\n",
    "from pointRTD import PointRTDModel  # Import the PointRTD model\n",
    "import os\n",
    "import random\n",
    "import numpy as np\n",
    "from plyfile import PlyData\n",
    "import trimesh  # For loading .off files as point clouds\n",
    "import time\n",
    "from sklearn.metrics import accuracy_score\n",
    "from tqdm.notebook import tqdm  # tqdm for Jupyter notebooks"
   ]
  },
  {
   "cell_type": "code",
   "execution_count": 2,
   "metadata": {},
   "outputs": [
    {
     "name": "stdout",
     "output_type": "stream",
     "text": [
      "Device:  cuda\n"
     ]
    }
   ],
   "source": [
    "# --- 2. Define Hyperparameters ---\n",
    "BATCH_SIZE = 32\n",
    "EPOCHS = 300\n",
    "LEARNING_RATE = 0.001# default was 0.001\n",
    "WEIGHT_DECAY = 0.05\n",
    "DEVICE = torch.device(\"cuda\" if torch.cuda.is_available() else \"cpu\")\n",
    "NUM_CLASSES = 10\n",
    "CORRUPTION_RATIO = 0.6\n",
    "CHECKPOINT_DIR = f\"./checkpoints_modelnet10/PointRTD/CR_{CORRUPTION_RATIO}\"\n",
    "PRETRAINED_CHECKPOINT = f\"./checkpoints_pointrtd/pointrtd_epoch_62_CR_{CORRUPTION_RATIO}.pth\"\n",
    "LOG_DIR = \"./tensorboard_logs_modelnet10\"\n",
    "\n",
    "# Create directories if they don't exist\n",
    "os.makedirs(CHECKPOINT_DIR, exist_ok=True)\n",
    "os.makedirs(LOG_DIR, exist_ok=True)\n",
    "print(\"Device: \", DEVICE)\n",
    "\n",
    "# Initialize TensorBoard writer\n",
    "writer = SummaryWriter(log_dir=LOG_DIR)"
   ]
  },
  {
   "cell_type": "code",
   "execution_count": 3,
   "metadata": {},
   "outputs": [],
   "source": [
    "# --- 3. Define the ModelNet10 Dataset ---\n",
    "class ModelNet10Dataset(Dataset):\n",
    "    def __init__(self, root_dir, split='train', random_split=False, num_points=1024, seed=42, augment=False):\n",
    "        \"\"\"\n",
    "        ModelNet10 dataset class.\n",
    "\n",
    "        Args:\n",
    "            root_dir (str): Root directory containing ModelNet10.\n",
    "            split (str): 'train' or 'test'.\n",
    "            random_split (bool): If True, use random data split instead of the preset split.\n",
    "            num_points (int): Number of points to sample from each point cloud.\n",
    "            seed (int): Random seed for reproducibility.\n",
    "            augment (bool): Apply data augmentation if True.\n",
    "        \"\"\"\n",
    "        self.root_dir = root_dir\n",
    "        self.split = split\n",
    "        self.num_points = num_points\n",
    "        self.augment = augment\n",
    "        self.data = []\n",
    "        \n",
    "        # Set up random split if specified\n",
    "        if random_split:\n",
    "            self.random_seed_split(seed)\n",
    "        else:\n",
    "            self.preset_split()\n",
    "    \n",
    "    def preset_split(self):\n",
    "        \"\"\"Use preset train/test split from ModelNet10.\"\"\"\n",
    "        classes = sorted(os.listdir(self.root_dir))\n",
    "        self.class_to_idx = {cls_name: idx for idx, cls_name in enumerate(classes)}\n",
    "        for cls_name in classes:\n",
    "            class_path = os.path.join(self.root_dir, cls_name, self.split)\n",
    "            for file_name in os.listdir(class_path):\n",
    "                if file_name.endswith('.off'):\n",
    "                    self.data.append((os.path.join(class_path, file_name), self.class_to_idx[cls_name]))\n",
    "    \n",
    "    def random_seed_split(self, seed):\n",
    "        \"\"\"Create a random split by shuffling files.\"\"\"\n",
    "        random.seed(seed)\n",
    "        classes = sorted(os.listdir(self.root_dir))\n",
    "        self.class_to_idx = {cls_name: idx for idx, cls_name in enumerate(classes)}\n",
    "        for cls_name in classes:\n",
    "            class_files = os.listdir(os.path.join(self.root_dir, cls_name))\n",
    "            random.shuffle(class_files)\n",
    "            split_idx = int(len(class_files) * 0.8)\n",
    "            if self.split == 'train':\n",
    "                self.data.extend([(os.path.join(self.root_dir, cls_name, f), self.class_to_idx[cls_name]) for f in class_files[:split_idx]])\n",
    "            else:\n",
    "                self.data.extend([(os.path.join(self.root_dir, cls_name, f), self.class_to_idx[cls_name]) for f in class_files[split_idx:]])\n",
    "\n",
    "    def __len__(self):\n",
    "        return len(self.data)\n",
    "\n",
    "    def __getitem__(self, idx):\n",
    "        file_path, class_idx = self.data[idx]\n",
    "        mesh = trimesh.load(file_path)\n",
    "        points = mesh.sample(self.num_points)\n",
    "        points = np.array(points, dtype=np.float32)\n",
    "        \n",
    "        # Apply augmentation if specified\n",
    "        if self.augment and self.split == 'train':\n",
    "            points = self.apply_augmentations(points)\n",
    "        \n",
    "        return torch.tensor(points, dtype=torch.float32), class_idx\n",
    "\n",
    "    def apply_augmentations(self, points):\n",
    "        \"\"\"Random scaling and translation.\"\"\"\n",
    "        scale = np.random.uniform(0.8, 1.2)\n",
    "        points *= scale\n",
    "        points += np.random.uniform(-0.1, 0.1, size=(1, 3))\n",
    "        return points\n",
    "\n",
    "\n",
    "# --- 4. Initialize Dataloaders ---\n",
    "root_dir = './ModelNet10'\n",
    "train_dataset = ModelNet10Dataset(root_dir, split='train', random_split=False, augment=True)\n",
    "test_dataset = ModelNet10Dataset(root_dir, split='test', random_split=False, augment=False)\n",
    "\n",
    "train_loader = DataLoader(train_dataset, batch_size=BATCH_SIZE, shuffle=True)\n",
    "test_loader = DataLoader(test_dataset, batch_size=BATCH_SIZE, shuffle=False)"
   ]
  },
  {
   "cell_type": "code",
   "execution_count": 4,
   "metadata": {},
   "outputs": [
    {
     "name": "stdout",
     "output_type": "stream",
     "text": [
      "Loading checkpoint from ./checkpoints_pointrtd/pointrtd_epoch_62_CR_0.6.pth\n",
      "Checkpoint loaded successfully.\n"
     ]
    }
   ],
   "source": [
    "# --- 5. Load Pretrained Model and Set Up Classifier ---\n",
    "# Load pretrained PointMAE model\n",
    "token_dim = 256\n",
    "hidden_dim = 256\n",
    "num_heads = 8\n",
    "num_layers = 6\n",
    "num_patches = 64\n",
    "num_pts_per_patch = 32\n",
    "num_channels = 3\n",
    "corruption_ratio = CORRUPTION_RATIO\n",
    "noise_scale = 1\n",
    "\n",
    "# Initialize PointRTD Model\n",
    "pointrtd_model = PointRTDModel(\n",
    "    input_dim=num_channels,\n",
    "    token_dim=token_dim,\n",
    "    hidden_dim=hidden_dim,\n",
    "    num_heads=num_heads,\n",
    "    num_layers=num_layers,\n",
    "    corruption_ratio=corruption_ratio,\n",
    "    noise_scale=noise_scale,\n",
    "    num_patches=num_patches,\n",
    "    num_pts_per_patch=num_pts_per_patch,\n",
    "    finetune=True, # Disable masking \n",
    ").to(DEVICE)\n",
    "\n",
    "if os.path.isfile(PRETRAINED_CHECKPOINT):\n",
    "    print(f\"Loading checkpoint from {PRETRAINED_CHECKPOINT}\")\n",
    "    state_dict = torch.load(PRETRAINED_CHECKPOINT, map_location=DEVICE, weights_only=True)['model_state_dict']\n",
    "    pointrtd_model.load_state_dict(state_dict)\n",
    "    print(\"Checkpoint loaded successfully.\")\n",
    "else:\n",
    "    print(f\"Checkpoint not found at {PRETRAINED_CHECKPOINT}\")\n",
    "\n",
    "encoder = pointrtd_model.encoder\n",
    "\n",
    "class EncoderWithClassifier(nn.Module):\n",
    "    def __init__(self, encoder, token_dim=256, num_classes=10):\n",
    "        super().__init__()\n",
    "        self.encoder = encoder\n",
    "        self.classifier = nn.Linear(token_dim * 3, num_classes, bias=False)  # token_dim * 3 due to concatenation\n",
    "        \n",
    "    def forward(self, x):\n",
    "        # Encode the input to get tokens\n",
    "        encoded_tokens, *_ = self.encoder(x)  # Shape: (B, num_patches, token_dim)\n",
    "        \n",
    "        # Extract CLS token (first token)\n",
    "        cls_token = encoded_tokens[:, 0, :]  # Shape: (B, token_dim)\n",
    "\n",
    "        # Mean pooling across all tokens\n",
    "        mean_pooled = encoded_tokens.mean(dim=1)  # Shape: (B, token_dim)\n",
    "\n",
    "        # Max pooling across all tokens\n",
    "        max_pooled, _ = encoded_tokens.max(dim=1)  # Shape: (B, token_dim)\n",
    "\n",
    "        # Concatenate CLS token, mean-pooled, and max-pooled features\n",
    "        combined_features = torch.cat([cls_token, mean_pooled, max_pooled], dim=-1)  # Shape: (B, token_dim * 3)\n",
    "\n",
    "        # Pass through the classifier head\n",
    "        logits = self.classifier(combined_features)  # Shape: (B, num_classes)\n",
    "        return logits\n",
    "\n",
    "classification_model = EncoderWithClassifier(encoder, token_dim=256, num_classes=NUM_CLASSES).to(DEVICE)"
   ]
  },
  {
   "cell_type": "code",
   "execution_count": 5,
   "metadata": {},
   "outputs": [
    {
     "name": "stdout",
     "output_type": "stream",
     "text": [
      "Class Counts: [106, 515, 889, 200, 200, 465, 200, 680, 392, 344]\n",
      "Class Weights: [37.65094339622642, 7.749514563106796, 4.4893138357705284, 19.955, 19.955, 8.58279569892473, 19.955, 5.8691176470588236, 10.181122448979592, 11.601744186046512]\n"
     ]
    }
   ],
   "source": [
    "# --- Calculate class distribution for cross entropy class weights\n",
    "# --- MAY TAKE A WHILE\n",
    "# from collections import Counter\n",
    "# import torch\n",
    "\n",
    "# # Step 1: Initialize a counter\n",
    "# class_counts = Counter()\n",
    "\n",
    "# # Step 2: Count the occurrences of each class in the training dataset\n",
    "# for _, label in train_dataset:\n",
    "#     class_counts[label] += 1\n",
    "\n",
    "# # Step 3: Convert counts to a list\n",
    "# num_classes = len(class_counts)\n",
    "# class_count_list = [class_counts[i] for i in range(num_classes)]\n",
    "class_count_list = [106, 515, 889, 200, 200, 465, 200, 680, 392, 344] # Precomputed \n",
    "\n",
    "# Step 4: Compute class weights (optional, for use in CrossEntropyLoss)\n",
    "total_samples = sum(class_count_list)\n",
    "class_weights = [total_samples / count for count in class_count_list]\n",
    "class_weights_tensor = torch.tensor(class_weights, dtype=torch.float32, device=DEVICE)\n",
    "\n",
    "print(\"Class Counts:\", class_count_list)\n",
    "print(\"Class Weights:\", class_weights)\n"
   ]
  },
  {
   "cell_type": "code",
   "execution_count": 6,
   "metadata": {},
   "outputs": [],
   "source": [
    "# --- 6. Define Optimizer and Scheduler ---\n",
    "optimizer = optim.AdamW(classification_model.parameters(), lr=LEARNING_RATE, weight_decay=WEIGHT_DECAY)\n",
    "scheduler = optim.lr_scheduler.CosineAnnealingLR(optimizer, T_max=EPOCHS, eta_min=0)"
   ]
  },
  {
   "cell_type": "code",
   "execution_count": 8,
   "metadata": {},
   "outputs": [],
   "source": [
    "# --- 7. Define Training Loop with tqdm ---\n",
    "def train_one_epoch(model, loader, optimizer, epoch):\n",
    "    model.train()\n",
    "    running_loss = 0.0\n",
    "    correct = 0\n",
    "    total = 0\n",
    "    progress_bar = tqdm(enumerate(loader), total=len(loader), desc=f\"Epoch [{epoch+1}/{EPOCHS}]\")\n",
    "    \n",
    "    # Initialize CrossEntropy loss\n",
    "    criterion = nn.CrossEntropyLoss(weight=class_weights_tensor)\n",
    "    \n",
    "    for batch_idx, (points, labels) in progress_bar:\n",
    "        points, labels = points.to(DEVICE), labels.to(DEVICE)\n",
    "\n",
    "        # Forward pass\n",
    "        optimizer.zero_grad()\n",
    "        outputs = model(points)\n",
    "        loss = criterion(outputs, labels)\n",
    "\n",
    "        # Backward pass\n",
    "        loss.backward()\n",
    "        optimizer.step()\n",
    "\n",
    "        # Update metrics\n",
    "        running_loss += loss.item()\n",
    "        _, predicted = outputs.max(1)\n",
    "        total += labels.size(0)\n",
    "        correct += predicted.eq(labels).sum().item()\n",
    "        \n",
    "        # Update tqdm progress bar\n",
    "        progress_bar.set_postfix(Batch=f\"{batch_idx+1}/{len(loader)}\", Loss=f\"{loss.item():.4f}\")\n",
    "\n",
    "    avg_loss = running_loss / len(loader)\n",
    "    accuracy = correct / total\n",
    "    return avg_loss, accuracy\n",
    "\n",
    "\n",
    "def validate_one_epoch(model, loader, epoch):\n",
    "    model.eval()\n",
    "    running_loss = 0.0\n",
    "    correct = 0\n",
    "    total = 0\n",
    "    \n",
    "    # Initialize CrossEntropy loss\n",
    "    criterion = nn.CrossEntropyLoss(weight=class_weights_tensor)\n",
    "    \n",
    "    with torch.no_grad():\n",
    "        progress_bar = tqdm(enumerate(loader), total=len(loader), desc=f\"Validation Epoch [{epoch+1}/{EPOCHS}]\")\n",
    "        for batch_idx, (points, labels) in progress_bar:\n",
    "            points, labels = points.to(DEVICE), labels.to(DEVICE)\n",
    "            outputs = model(points)\n",
    "            loss = criterion(outputs, labels)\n",
    "            \n",
    "            running_loss += loss.item()\n",
    "            _, predicted = outputs.max(1)\n",
    "            total += labels.size(0)\n",
    "            correct += predicted.eq(labels).sum().item()\n",
    "\n",
    "            # Update tqdm progress bar\n",
    "            progress_bar.set_postfix(Batch=f\"{batch_idx+1}/{len(loader)}\", Loss=f\"{loss.item():.4f}\")\n",
    "\n",
    "    avg_loss = running_loss / len(loader)\n",
    "    accuracy = correct / total\n",
    "    return avg_loss, accuracy"
   ]
  },
  {
   "cell_type": "code",
   "execution_count": null,
   "metadata": {
    "tags": []
   },
   "outputs": [
    {
     "data": {
      "application/vnd.jupyter.widget-view+json": {
       "model_id": "dbae4756c1c642c388b35dd7fb606ebc",
       "version_major": 2,
       "version_minor": 0
      },
      "text/plain": [
       "Epoch [1/300]:   0%|          | 0/125 [00:00<?, ?it/s]"
      ]
     },
     "metadata": {},
     "output_type": "display_data"
    },
    {
     "data": {
      "application/vnd.jupyter.widget-view+json": {
       "model_id": "c72f9826cd0540629456ef409c3689a8",
       "version_major": 2,
       "version_minor": 0
      },
      "text/plain": [
       "Validation Epoch [1/300]:   0%|          | 0/29 [00:00<?, ?it/s]"
      ]
     },
     "metadata": {},
     "output_type": "display_data"
    },
    {
     "name": "stdout",
     "output_type": "stream",
     "text": [
      "Epoch [1/300] - Train Loss: 2.3770, Train Acc: 0.1984, Val Loss: 2.1692, Val Acc: 0.2335\n",
      "New best model saved with Val Loss: 2.1692 at epoch 1\n"
     ]
    },
    {
     "data": {
      "application/vnd.jupyter.widget-view+json": {
       "model_id": "7d490694c08641f5a3e9474b793ac098",
       "version_major": 2,
       "version_minor": 0
      },
      "text/plain": [
       "Epoch [2/300]:   0%|          | 0/125 [00:00<?, ?it/s]"
      ]
     },
     "metadata": {},
     "output_type": "display_data"
    },
    {
     "data": {
      "application/vnd.jupyter.widget-view+json": {
       "model_id": "72cfa208a2f749f98bf89be2084bbc23",
       "version_major": 2,
       "version_minor": 0
      },
      "text/plain": [
       "Validation Epoch [2/300]:   0%|          | 0/29 [00:00<?, ?it/s]"
      ]
     },
     "metadata": {},
     "output_type": "display_data"
    },
    {
     "name": "stdout",
     "output_type": "stream",
     "text": [
      "Epoch [2/300] - Train Loss: 1.8342, Train Acc: 0.3929, Val Loss: 1.8200, Val Acc: 0.3800\n",
      "New best model saved with Val Loss: 1.8200 at epoch 2\n"
     ]
    },
    {
     "data": {
      "application/vnd.jupyter.widget-view+json": {
       "model_id": "f780ba176b0e415f984c8f2ec216417d",
       "version_major": 2,
       "version_minor": 0
      },
      "text/plain": [
       "Epoch [3/300]:   0%|          | 0/125 [00:00<?, ?it/s]"
      ]
     },
     "metadata": {},
     "output_type": "display_data"
    },
    {
     "data": {
      "application/vnd.jupyter.widget-view+json": {
       "model_id": "c68a5f4ba3134192bd7cdcc8002ee578",
       "version_major": 2,
       "version_minor": 0
      },
      "text/plain": [
       "Validation Epoch [3/300]:   0%|          | 0/29 [00:00<?, ?it/s]"
      ]
     },
     "metadata": {},
     "output_type": "display_data"
    },
    {
     "name": "stdout",
     "output_type": "stream",
     "text": [
      "Epoch [3/300] - Train Loss: 1.5035, Train Acc: 0.5081, Val Loss: 1.6539, Val Acc: 0.4460\n",
      "New best model saved with Val Loss: 1.6539 at epoch 3\n"
     ]
    },
    {
     "data": {
      "application/vnd.jupyter.widget-view+json": {
       "model_id": "adc196c3293f46e9a1d283cb1aead816",
       "version_major": 2,
       "version_minor": 0
      },
      "text/plain": [
       "Epoch [4/300]:   0%|          | 0/125 [00:00<?, ?it/s]"
      ]
     },
     "metadata": {},
     "output_type": "display_data"
    },
    {
     "data": {
      "application/vnd.jupyter.widget-view+json": {
       "model_id": "192633dbc17540269a611b69fc9ec2a9",
       "version_major": 2,
       "version_minor": 0
      },
      "text/plain": [
       "Validation Epoch [4/300]:   0%|          | 0/29 [00:00<?, ?it/s]"
      ]
     },
     "metadata": {},
     "output_type": "display_data"
    },
    {
     "name": "stdout",
     "output_type": "stream",
     "text": [
      "Epoch [4/300] - Train Loss: 1.2483, Train Acc: 0.6099, Val Loss: 1.1562, Val Acc: 0.6057\n",
      "New best model saved with Val Loss: 1.1562 at epoch 4\n"
     ]
    },
    {
     "data": {
      "application/vnd.jupyter.widget-view+json": {
       "model_id": "a7d5a9a72c2843a3b274e3612f658094",
       "version_major": 2,
       "version_minor": 0
      },
      "text/plain": [
       "Epoch [5/300]:   0%|          | 0/125 [00:00<?, ?it/s]"
      ]
     },
     "metadata": {},
     "output_type": "display_data"
    },
    {
     "data": {
      "application/vnd.jupyter.widget-view+json": {
       "model_id": "560ad255b2c94cdba408e2aa8447b939",
       "version_major": 2,
       "version_minor": 0
      },
      "text/plain": [
       "Validation Epoch [5/300]:   0%|          | 0/29 [00:00<?, ?it/s]"
      ]
     },
     "metadata": {},
     "output_type": "display_data"
    },
    {
     "name": "stdout",
     "output_type": "stream",
     "text": [
      "Epoch [5/300] - Train Loss: 1.0509, Train Acc: 0.6780, Val Loss: 1.3009, Val Acc: 0.5352\n"
     ]
    },
    {
     "data": {
      "application/vnd.jupyter.widget-view+json": {
       "model_id": "049b25813f4a4b11b1eec6c25f1d858d",
       "version_major": 2,
       "version_minor": 0
      },
      "text/plain": [
       "Epoch [6/300]:   0%|          | 0/125 [00:00<?, ?it/s]"
      ]
     },
     "metadata": {},
     "output_type": "display_data"
    },
    {
     "data": {
      "application/vnd.jupyter.widget-view+json": {
       "model_id": "84ad607d92a9486f9e685a67484de551",
       "version_major": 2,
       "version_minor": 0
      },
      "text/plain": [
       "Validation Epoch [6/300]:   0%|          | 0/29 [00:00<?, ?it/s]"
      ]
     },
     "metadata": {},
     "output_type": "display_data"
    },
    {
     "name": "stdout",
     "output_type": "stream",
     "text": [
      "Epoch [6/300] - Train Loss: 0.9010, Train Acc: 0.7324, Val Loss: 0.8929, Val Acc: 0.6894\n",
      "New best model saved with Val Loss: 0.8929 at epoch 6\n"
     ]
    },
    {
     "data": {
      "application/vnd.jupyter.widget-view+json": {
       "model_id": "9aca614f52a1418eb119ca8a27e37056",
       "version_major": 2,
       "version_minor": 0
      },
      "text/plain": [
       "Epoch [7/300]:   0%|          | 0/125 [00:00<?, ?it/s]"
      ]
     },
     "metadata": {},
     "output_type": "display_data"
    },
    {
     "data": {
      "application/vnd.jupyter.widget-view+json": {
       "model_id": "eded84b0e9ac4ca789fe924d7da1c740",
       "version_major": 2,
       "version_minor": 0
      },
      "text/plain": [
       "Validation Epoch [7/300]:   0%|          | 0/29 [00:00<?, ?it/s]"
      ]
     },
     "metadata": {},
     "output_type": "display_data"
    },
    {
     "name": "stdout",
     "output_type": "stream",
     "text": [
      "Epoch [7/300] - Train Loss: 0.8023, Train Acc: 0.7702, Val Loss: 0.9072, Val Acc: 0.7214\n"
     ]
    },
    {
     "data": {
      "application/vnd.jupyter.widget-view+json": {
       "model_id": "65b53ac242c44226b396a13c22021498",
       "version_major": 2,
       "version_minor": 0
      },
      "text/plain": [
       "Epoch [8/300]:   0%|          | 0/125 [00:00<?, ?it/s]"
      ]
     },
     "metadata": {},
     "output_type": "display_data"
    },
    {
     "data": {
      "application/vnd.jupyter.widget-view+json": {
       "model_id": "6b957bdd5f1a40caa8464bddb16b052a",
       "version_major": 2,
       "version_minor": 0
      },
      "text/plain": [
       "Validation Epoch [8/300]:   0%|          | 0/29 [00:00<?, ?it/s]"
      ]
     },
     "metadata": {},
     "output_type": "display_data"
    },
    {
     "name": "stdout",
     "output_type": "stream",
     "text": [
      "Epoch [8/300] - Train Loss: 0.7742, Train Acc: 0.7640, Val Loss: 0.6860, Val Acc: 0.7643\n",
      "New best model saved with Val Loss: 0.6860 at epoch 8\n"
     ]
    },
    {
     "data": {
      "application/vnd.jupyter.widget-view+json": {
       "model_id": "4e115126a1fa42bca48340eebe85af33",
       "version_major": 2,
       "version_minor": 0
      },
      "text/plain": [
       "Epoch [9/300]:   0%|          | 0/125 [00:00<?, ?it/s]"
      ]
     },
     "metadata": {},
     "output_type": "display_data"
    },
    {
     "data": {
      "application/vnd.jupyter.widget-view+json": {
       "model_id": "a1ab22412d904664bcfbe5ce9eb98c69",
       "version_major": 2,
       "version_minor": 0
      },
      "text/plain": [
       "Validation Epoch [9/300]:   0%|          | 0/29 [00:00<?, ?it/s]"
      ]
     },
     "metadata": {},
     "output_type": "display_data"
    },
    {
     "name": "stdout",
     "output_type": "stream",
     "text": [
      "Epoch [9/300] - Train Loss: 0.7068, Train Acc: 0.7853, Val Loss: 0.7721, Val Acc: 0.7137\n"
     ]
    },
    {
     "data": {
      "application/vnd.jupyter.widget-view+json": {
       "model_id": "a957bf81838b4fc3a0e56a4225cb782d",
       "version_major": 2,
       "version_minor": 0
      },
      "text/plain": [
       "Epoch [10/300]:   0%|          | 0/125 [00:00<?, ?it/s]"
      ]
     },
     "metadata": {},
     "output_type": "display_data"
    },
    {
     "data": {
      "application/vnd.jupyter.widget-view+json": {
       "model_id": "d85e1c96acea47da8e82ac342e05e511",
       "version_major": 2,
       "version_minor": 0
      },
      "text/plain": [
       "Validation Epoch [10/300]:   0%|          | 0/29 [00:00<?, ?it/s]"
      ]
     },
     "metadata": {},
     "output_type": "display_data"
    },
    {
     "name": "stdout",
     "output_type": "stream",
     "text": [
      "Epoch [10/300] - Train Loss: 0.6655, Train Acc: 0.8141, Val Loss: 0.6361, Val Acc: 0.7808\n",
      "Checkpoint saved at ./checkpoints_modelnet10/PointRTD/CR_0.6/classification_epoch_10.pth\n",
      "New best model saved with Val Loss: 0.6361 at epoch 10\n"
     ]
    },
    {
     "data": {
      "application/vnd.jupyter.widget-view+json": {
       "model_id": "6a70b0053ece4d6999705b6dc32e03a7",
       "version_major": 2,
       "version_minor": 0
      },
      "text/plain": [
       "Epoch [11/300]:   0%|          | 0/125 [00:00<?, ?it/s]"
      ]
     },
     "metadata": {},
     "output_type": "display_data"
    },
    {
     "data": {
      "application/vnd.jupyter.widget-view+json": {
       "model_id": "2b775bfdab6a451280e1fc7a579a3fa9",
       "version_major": 2,
       "version_minor": 0
      },
      "text/plain": [
       "Validation Epoch [11/300]:   0%|          | 0/29 [00:00<?, ?it/s]"
      ]
     },
     "metadata": {},
     "output_type": "display_data"
    },
    {
     "name": "stdout",
     "output_type": "stream",
     "text": [
      "Epoch [11/300] - Train Loss: 0.5730, Train Acc: 0.8314, Val Loss: 0.7775, Val Acc: 0.7324\n"
     ]
    },
    {
     "data": {
      "application/vnd.jupyter.widget-view+json": {
       "model_id": "b28226a461e9437cb0cee6d947cde076",
       "version_major": 2,
       "version_minor": 0
      },
      "text/plain": [
       "Epoch [12/300]:   0%|          | 0/125 [00:00<?, ?it/s]"
      ]
     },
     "metadata": {},
     "output_type": "display_data"
    },
    {
     "data": {
      "application/vnd.jupyter.widget-view+json": {
       "model_id": "6ee78cf1b432455bada0a66660104b5d",
       "version_major": 2,
       "version_minor": 0
      },
      "text/plain": [
       "Validation Epoch [12/300]:   0%|          | 0/29 [00:00<?, ?it/s]"
      ]
     },
     "metadata": {},
     "output_type": "display_data"
    },
    {
     "name": "stdout",
     "output_type": "stream",
     "text": [
      "Epoch [12/300] - Train Loss: 0.5684, Train Acc: 0.8279, Val Loss: 0.6483, Val Acc: 0.7786\n"
     ]
    },
    {
     "data": {
      "application/vnd.jupyter.widget-view+json": {
       "model_id": "9fbebc3542e4427f9670ad693104088f",
       "version_major": 2,
       "version_minor": 0
      },
      "text/plain": [
       "Epoch [13/300]:   0%|          | 0/125 [00:00<?, ?it/s]"
      ]
     },
     "metadata": {},
     "output_type": "display_data"
    },
    {
     "data": {
      "application/vnd.jupyter.widget-view+json": {
       "model_id": "9c11ae75f9da47eba8956bd9042f2b73",
       "version_major": 2,
       "version_minor": 0
      },
      "text/plain": [
       "Validation Epoch [13/300]:   0%|          | 0/29 [00:00<?, ?it/s]"
      ]
     },
     "metadata": {},
     "output_type": "display_data"
    },
    {
     "name": "stdout",
     "output_type": "stream",
     "text": [
      "Epoch [13/300] - Train Loss: 0.6012, Train Acc: 0.8153, Val Loss: 0.5396, Val Acc: 0.8029\n",
      "New best model saved with Val Loss: 0.5396 at epoch 13\n"
     ]
    },
    {
     "data": {
      "application/vnd.jupyter.widget-view+json": {
       "model_id": "68626e2f9c1540abb16f1904ea993bc4",
       "version_major": 2,
       "version_minor": 0
      },
      "text/plain": [
       "Epoch [14/300]:   0%|          | 0/125 [00:00<?, ?it/s]"
      ]
     },
     "metadata": {},
     "output_type": "display_data"
    },
    {
     "data": {
      "application/vnd.jupyter.widget-view+json": {
       "model_id": "50939f069bfa40719424e98f53d9338a",
       "version_major": 2,
       "version_minor": 0
      },
      "text/plain": [
       "Validation Epoch [14/300]:   0%|          | 0/29 [00:00<?, ?it/s]"
      ]
     },
     "metadata": {},
     "output_type": "display_data"
    },
    {
     "name": "stdout",
     "output_type": "stream",
     "text": [
      "Epoch [14/300] - Train Loss: 0.5159, Train Acc: 0.8507, Val Loss: 0.5941, Val Acc: 0.7952\n"
     ]
    },
    {
     "data": {
      "application/vnd.jupyter.widget-view+json": {
       "model_id": "dcdbbc68a9dd442ea341641c8a45f4cb",
       "version_major": 2,
       "version_minor": 0
      },
      "text/plain": [
       "Epoch [15/300]:   0%|          | 0/125 [00:00<?, ?it/s]"
      ]
     },
     "metadata": {},
     "output_type": "display_data"
    },
    {
     "data": {
      "application/vnd.jupyter.widget-view+json": {
       "model_id": "c22c4892f9c64354876b04be5293aac0",
       "version_major": 2,
       "version_minor": 0
      },
      "text/plain": [
       "Validation Epoch [15/300]:   0%|          | 0/29 [00:00<?, ?it/s]"
      ]
     },
     "metadata": {},
     "output_type": "display_data"
    },
    {
     "name": "stdout",
     "output_type": "stream",
     "text": [
      "Epoch [15/300] - Train Loss: 0.5658, Train Acc: 0.8349, Val Loss: 0.6613, Val Acc: 0.7764\n"
     ]
    },
    {
     "data": {
      "application/vnd.jupyter.widget-view+json": {
       "model_id": "d01f7490402e486490d2380570896573",
       "version_major": 2,
       "version_minor": 0
      },
      "text/plain": [
       "Epoch [16/300]:   0%|          | 0/125 [00:00<?, ?it/s]"
      ]
     },
     "metadata": {},
     "output_type": "display_data"
    },
    {
     "data": {
      "application/vnd.jupyter.widget-view+json": {
       "model_id": "cd3a25479ace4d22b6d187d3d4100492",
       "version_major": 2,
       "version_minor": 0
      },
      "text/plain": [
       "Validation Epoch [16/300]:   0%|          | 0/29 [00:00<?, ?it/s]"
      ]
     },
     "metadata": {},
     "output_type": "display_data"
    },
    {
     "name": "stdout",
     "output_type": "stream",
     "text": [
      "Epoch [16/300] - Train Loss: 0.5249, Train Acc: 0.8409, Val Loss: 0.4426, Val Acc: 0.8447\n",
      "New best model saved with Val Loss: 0.4426 at epoch 16\n"
     ]
    },
    {
     "data": {
      "application/vnd.jupyter.widget-view+json": {
       "model_id": "08899ae575e24973a46789a9a38f8d98",
       "version_major": 2,
       "version_minor": 0
      },
      "text/plain": [
       "Epoch [17/300]:   0%|          | 0/125 [00:00<?, ?it/s]"
      ]
     },
     "metadata": {},
     "output_type": "display_data"
    },
    {
     "data": {
      "application/vnd.jupyter.widget-view+json": {
       "model_id": "8ef1dc2dd0bf4ff18bba39c93519a2f9",
       "version_major": 2,
       "version_minor": 0
      },
      "text/plain": [
       "Validation Epoch [17/300]:   0%|          | 0/29 [00:00<?, ?it/s]"
      ]
     },
     "metadata": {},
     "output_type": "display_data"
    },
    {
     "name": "stdout",
     "output_type": "stream",
     "text": [
      "Epoch [17/300] - Train Loss: 0.4995, Train Acc: 0.8582, Val Loss: 0.5868, Val Acc: 0.7985\n"
     ]
    },
    {
     "data": {
      "application/vnd.jupyter.widget-view+json": {
       "model_id": "c4089b2e160f4482ad9eae90d393ac79",
       "version_major": 2,
       "version_minor": 0
      },
      "text/plain": [
       "Epoch [18/300]:   0%|          | 0/125 [00:00<?, ?it/s]"
      ]
     },
     "metadata": {},
     "output_type": "display_data"
    },
    {
     "data": {
      "application/vnd.jupyter.widget-view+json": {
       "model_id": "7dccf52489a64545bd965adf21d309aa",
       "version_major": 2,
       "version_minor": 0
      },
      "text/plain": [
       "Validation Epoch [18/300]:   0%|          | 0/29 [00:00<?, ?it/s]"
      ]
     },
     "metadata": {},
     "output_type": "display_data"
    },
    {
     "name": "stdout",
     "output_type": "stream",
     "text": [
      "Epoch [18/300] - Train Loss: 0.5164, Train Acc: 0.8452, Val Loss: 0.6656, Val Acc: 0.7919\n"
     ]
    },
    {
     "data": {
      "application/vnd.jupyter.widget-view+json": {
       "model_id": "9812f3ee31314096ba23c12a53723bc8",
       "version_major": 2,
       "version_minor": 0
      },
      "text/plain": [
       "Epoch [19/300]:   0%|          | 0/125 [00:00<?, ?it/s]"
      ]
     },
     "metadata": {},
     "output_type": "display_data"
    },
    {
     "data": {
      "application/vnd.jupyter.widget-view+json": {
       "model_id": "cd56e48b52bf4aba80f2423b58c45bfb",
       "version_major": 2,
       "version_minor": 0
      },
      "text/plain": [
       "Validation Epoch [19/300]:   0%|          | 0/29 [00:00<?, ?it/s]"
      ]
     },
     "metadata": {},
     "output_type": "display_data"
    },
    {
     "name": "stdout",
     "output_type": "stream",
     "text": [
      "Epoch [19/300] - Train Loss: 0.5343, Train Acc: 0.8509, Val Loss: 0.5888, Val Acc: 0.8051\n"
     ]
    },
    {
     "data": {
      "application/vnd.jupyter.widget-view+json": {
       "model_id": "ee6706620a9e45f5a329a7fff10c778d",
       "version_major": 2,
       "version_minor": 0
      },
      "text/plain": [
       "Epoch [20/300]:   0%|          | 0/125 [00:00<?, ?it/s]"
      ]
     },
     "metadata": {},
     "output_type": "display_data"
    },
    {
     "data": {
      "application/vnd.jupyter.widget-view+json": {
       "model_id": "31ba63f8d21248de8de26920dadbb6a2",
       "version_major": 2,
       "version_minor": 0
      },
      "text/plain": [
       "Validation Epoch [20/300]:   0%|          | 0/29 [00:00<?, ?it/s]"
      ]
     },
     "metadata": {},
     "output_type": "display_data"
    },
    {
     "name": "stdout",
     "output_type": "stream",
     "text": [
      "Epoch [20/300] - Train Loss: 0.4460, Train Acc: 0.8712, Val Loss: 0.5507, Val Acc: 0.8216\n",
      "Checkpoint saved at ./checkpoints_modelnet10/PointRTD/CR_0.6/classification_epoch_20.pth\n"
     ]
    },
    {
     "data": {
      "application/vnd.jupyter.widget-view+json": {
       "model_id": "cc01065eecc1416289c8d5c0bbe06a20",
       "version_major": 2,
       "version_minor": 0
      },
      "text/plain": [
       "Epoch [21/300]:   0%|          | 0/125 [00:00<?, ?it/s]"
      ]
     },
     "metadata": {},
     "output_type": "display_data"
    },
    {
     "data": {
      "application/vnd.jupyter.widget-view+json": {
       "model_id": "d610ca2e0e59455c9088a56ee4586211",
       "version_major": 2,
       "version_minor": 0
      },
      "text/plain": [
       "Validation Epoch [21/300]:   0%|          | 0/29 [00:00<?, ?it/s]"
      ]
     },
     "metadata": {},
     "output_type": "display_data"
    },
    {
     "name": "stdout",
     "output_type": "stream",
     "text": [
      "Epoch [21/300] - Train Loss: 0.5222, Train Acc: 0.8592, Val Loss: 0.5849, Val Acc: 0.8293\n"
     ]
    },
    {
     "data": {
      "application/vnd.jupyter.widget-view+json": {
       "model_id": "7e1d67d730c1407796522d1ba0f424a9",
       "version_major": 2,
       "version_minor": 0
      },
      "text/plain": [
       "Epoch [22/300]:   0%|          | 0/125 [00:00<?, ?it/s]"
      ]
     },
     "metadata": {},
     "output_type": "display_data"
    },
    {
     "data": {
      "application/vnd.jupyter.widget-view+json": {
       "model_id": "61e2fa49adbf49b48d9886a1b7dbc953",
       "version_major": 2,
       "version_minor": 0
      },
      "text/plain": [
       "Validation Epoch [22/300]:   0%|          | 0/29 [00:00<?, ?it/s]"
      ]
     },
     "metadata": {},
     "output_type": "display_data"
    },
    {
     "name": "stdout",
     "output_type": "stream",
     "text": [
      "Epoch [22/300] - Train Loss: 0.4319, Train Acc: 0.8777, Val Loss: 0.4697, Val Acc: 0.8447\n"
     ]
    },
    {
     "data": {
      "application/vnd.jupyter.widget-view+json": {
       "model_id": "4532eb3b3be245c09011602f1e7f711d",
       "version_major": 2,
       "version_minor": 0
      },
      "text/plain": [
       "Epoch [23/300]:   0%|          | 0/125 [00:00<?, ?it/s]"
      ]
     },
     "metadata": {},
     "output_type": "display_data"
    },
    {
     "data": {
      "application/vnd.jupyter.widget-view+json": {
       "model_id": "38672283cd394da590e6016503844c2b",
       "version_major": 2,
       "version_minor": 0
      },
      "text/plain": [
       "Validation Epoch [23/300]:   0%|          | 0/29 [00:00<?, ?it/s]"
      ]
     },
     "metadata": {},
     "output_type": "display_data"
    },
    {
     "name": "stdout",
     "output_type": "stream",
     "text": [
      "Epoch [23/300] - Train Loss: 0.5668, Train Acc: 0.8474, Val Loss: 0.5694, Val Acc: 0.8051\n"
     ]
    },
    {
     "data": {
      "application/vnd.jupyter.widget-view+json": {
       "model_id": "5f54bf9ea376440aa23f08b6dfacd687",
       "version_major": 2,
       "version_minor": 0
      },
      "text/plain": [
       "Epoch [24/300]:   0%|          | 0/125 [00:00<?, ?it/s]"
      ]
     },
     "metadata": {},
     "output_type": "display_data"
    },
    {
     "data": {
      "application/vnd.jupyter.widget-view+json": {
       "model_id": "328e9ab45fd84afa96e56afd9228452f",
       "version_major": 2,
       "version_minor": 0
      },
      "text/plain": [
       "Validation Epoch [24/300]:   0%|          | 0/29 [00:00<?, ?it/s]"
      ]
     },
     "metadata": {},
     "output_type": "display_data"
    },
    {
     "name": "stdout",
     "output_type": "stream",
     "text": [
      "Epoch [24/300] - Train Loss: 0.4517, Train Acc: 0.8790, Val Loss: 0.3735, Val Acc: 0.8700\n",
      "New best model saved with Val Loss: 0.3735 at epoch 24\n"
     ]
    },
    {
     "data": {
      "application/vnd.jupyter.widget-view+json": {
       "model_id": "91c85eb3039b43c681ce5d0a210c4797",
       "version_major": 2,
       "version_minor": 0
      },
      "text/plain": [
       "Epoch [25/300]:   0%|          | 0/125 [00:00<?, ?it/s]"
      ]
     },
     "metadata": {},
     "output_type": "display_data"
    },
    {
     "data": {
      "application/vnd.jupyter.widget-view+json": {
       "model_id": "747c5a04850b45ac824841776e71d707",
       "version_major": 2,
       "version_minor": 0
      },
      "text/plain": [
       "Validation Epoch [25/300]:   0%|          | 0/29 [00:00<?, ?it/s]"
      ]
     },
     "metadata": {},
     "output_type": "display_data"
    },
    {
     "name": "stdout",
     "output_type": "stream",
     "text": [
      "Epoch [25/300] - Train Loss: 0.3419, Train Acc: 0.9038, Val Loss: 0.5190, Val Acc: 0.8183\n"
     ]
    },
    {
     "data": {
      "application/vnd.jupyter.widget-view+json": {
       "model_id": "16e2bc6d7f294ba4aa606eb4b88653fd",
       "version_major": 2,
       "version_minor": 0
      },
      "text/plain": [
       "Epoch [26/300]:   0%|          | 0/125 [00:00<?, ?it/s]"
      ]
     },
     "metadata": {},
     "output_type": "display_data"
    },
    {
     "data": {
      "application/vnd.jupyter.widget-view+json": {
       "model_id": "d9d5a7ee12b04e64aceeee59117341c8",
       "version_major": 2,
       "version_minor": 0
      },
      "text/plain": [
       "Validation Epoch [26/300]:   0%|          | 0/29 [00:00<?, ?it/s]"
      ]
     },
     "metadata": {},
     "output_type": "display_data"
    },
    {
     "name": "stdout",
     "output_type": "stream",
     "text": [
      "Epoch [26/300] - Train Loss: 0.4165, Train Acc: 0.8885, Val Loss: 0.4149, Val Acc: 0.8667\n"
     ]
    },
    {
     "data": {
      "application/vnd.jupyter.widget-view+json": {
       "model_id": "89414a6128644ffda7d643e21bb31dcf",
       "version_major": 2,
       "version_minor": 0
      },
      "text/plain": [
       "Epoch [27/300]:   0%|          | 0/125 [00:00<?, ?it/s]"
      ]
     },
     "metadata": {},
     "output_type": "display_data"
    },
    {
     "data": {
      "application/vnd.jupyter.widget-view+json": {
       "model_id": "f890125bb2bc43c9a4a609839ab639d5",
       "version_major": 2,
       "version_minor": 0
      },
      "text/plain": [
       "Validation Epoch [27/300]:   0%|          | 0/29 [00:00<?, ?it/s]"
      ]
     },
     "metadata": {},
     "output_type": "display_data"
    },
    {
     "name": "stdout",
     "output_type": "stream",
     "text": [
      "Epoch [27/300] - Train Loss: 0.3491, Train Acc: 0.9005, Val Loss: 0.3650, Val Acc: 0.8789\n",
      "New best model saved with Val Loss: 0.3650 at epoch 27\n"
     ]
    },
    {
     "data": {
      "application/vnd.jupyter.widget-view+json": {
       "model_id": "47b7b39203c14ee28934b0c84d5ab0e5",
       "version_major": 2,
       "version_minor": 0
      },
      "text/plain": [
       "Epoch [28/300]:   0%|          | 0/125 [00:00<?, ?it/s]"
      ]
     },
     "metadata": {},
     "output_type": "display_data"
    },
    {
     "data": {
      "application/vnd.jupyter.widget-view+json": {
       "model_id": "66634f7b52cb40348696107cf4a9a06a",
       "version_major": 2,
       "version_minor": 0
      },
      "text/plain": [
       "Validation Epoch [28/300]:   0%|          | 0/29 [00:00<?, ?it/s]"
      ]
     },
     "metadata": {},
     "output_type": "display_data"
    },
    {
     "name": "stdout",
     "output_type": "stream",
     "text": [
      "Epoch [28/300] - Train Loss: 0.3676, Train Acc: 0.8953, Val Loss: 0.5074, Val Acc: 0.8161\n"
     ]
    },
    {
     "data": {
      "application/vnd.jupyter.widget-view+json": {
       "model_id": "b0bcde8c195f47c4bc5b6618af7a4581",
       "version_major": 2,
       "version_minor": 0
      },
      "text/plain": [
       "Epoch [29/300]:   0%|          | 0/125 [00:00<?, ?it/s]"
      ]
     },
     "metadata": {},
     "output_type": "display_data"
    },
    {
     "data": {
      "application/vnd.jupyter.widget-view+json": {
       "model_id": "e757f34967ff440e9829449b323ac5b6",
       "version_major": 2,
       "version_minor": 0
      },
      "text/plain": [
       "Validation Epoch [29/300]:   0%|          | 0/29 [00:00<?, ?it/s]"
      ]
     },
     "metadata": {},
     "output_type": "display_data"
    },
    {
     "name": "stdout",
     "output_type": "stream",
     "text": [
      "Epoch [29/300] - Train Loss: 0.4108, Train Acc: 0.8872, Val Loss: 0.4374, Val Acc: 0.8568\n"
     ]
    },
    {
     "data": {
      "application/vnd.jupyter.widget-view+json": {
       "model_id": "1ff69df54c4f475ca1a5d51591eac006",
       "version_major": 2,
       "version_minor": 0
      },
      "text/plain": [
       "Epoch [30/300]:   0%|          | 0/125 [00:00<?, ?it/s]"
      ]
     },
     "metadata": {},
     "output_type": "display_data"
    },
    {
     "data": {
      "application/vnd.jupyter.widget-view+json": {
       "model_id": "820c80b61db941d9a51e2ba52acc5942",
       "version_major": 2,
       "version_minor": 0
      },
      "text/plain": [
       "Validation Epoch [30/300]:   0%|          | 0/29 [00:00<?, ?it/s]"
      ]
     },
     "metadata": {},
     "output_type": "display_data"
    },
    {
     "name": "stdout",
     "output_type": "stream",
     "text": [
      "Epoch [30/300] - Train Loss: 0.3566, Train Acc: 0.8953, Val Loss: 0.6185, Val Acc: 0.7963\n",
      "Checkpoint saved at ./checkpoints_modelnet10/PointRTD/CR_0.6/classification_epoch_30.pth\n"
     ]
    },
    {
     "data": {
      "application/vnd.jupyter.widget-view+json": {
       "model_id": "af45fe56c6af437286f0913c08135a10",
       "version_major": 2,
       "version_minor": 0
      },
      "text/plain": [
       "Epoch [31/300]:   0%|          | 0/125 [00:00<?, ?it/s]"
      ]
     },
     "metadata": {},
     "output_type": "display_data"
    },
    {
     "data": {
      "application/vnd.jupyter.widget-view+json": {
       "model_id": "930cc0231a9744eebfedde36a3da3f54",
       "version_major": 2,
       "version_minor": 0
      },
      "text/plain": [
       "Validation Epoch [31/300]:   0%|          | 0/29 [00:00<?, ?it/s]"
      ]
     },
     "metadata": {},
     "output_type": "display_data"
    },
    {
     "name": "stdout",
     "output_type": "stream",
     "text": [
      "Epoch [31/300] - Train Loss: 0.3588, Train Acc: 0.8983, Val Loss: 0.6312, Val Acc: 0.7974\n"
     ]
    },
    {
     "data": {
      "application/vnd.jupyter.widget-view+json": {
       "model_id": "1a7b3c00c50f4fadb05f94ac7697f971",
       "version_major": 2,
       "version_minor": 0
      },
      "text/plain": [
       "Epoch [32/300]:   0%|          | 0/125 [00:00<?, ?it/s]"
      ]
     },
     "metadata": {},
     "output_type": "display_data"
    },
    {
     "data": {
      "application/vnd.jupyter.widget-view+json": {
       "model_id": "22f42f745472474fafa4fa5ab82b2c9f",
       "version_major": 2,
       "version_minor": 0
      },
      "text/plain": [
       "Validation Epoch [32/300]:   0%|          | 0/29 [00:00<?, ?it/s]"
      ]
     },
     "metadata": {},
     "output_type": "display_data"
    },
    {
     "name": "stdout",
     "output_type": "stream",
     "text": [
      "Epoch [32/300] - Train Loss: 0.4301, Train Acc: 0.8822, Val Loss: 0.4322, Val Acc: 0.8601\n"
     ]
    },
    {
     "data": {
      "application/vnd.jupyter.widget-view+json": {
       "model_id": "aa88ad29e33e406ea060aff57acffbbe",
       "version_major": 2,
       "version_minor": 0
      },
      "text/plain": [
       "Epoch [33/300]:   0%|          | 0/125 [00:00<?, ?it/s]"
      ]
     },
     "metadata": {},
     "output_type": "display_data"
    },
    {
     "data": {
      "application/vnd.jupyter.widget-view+json": {
       "model_id": "07ad5b05386b4e33973a33e025d99674",
       "version_major": 2,
       "version_minor": 0
      },
      "text/plain": [
       "Validation Epoch [33/300]:   0%|          | 0/29 [00:00<?, ?it/s]"
      ]
     },
     "metadata": {},
     "output_type": "display_data"
    },
    {
     "name": "stdout",
     "output_type": "stream",
     "text": [
      "Epoch [33/300] - Train Loss: 0.3727, Train Acc: 0.8920, Val Loss: 0.4503, Val Acc: 0.8568\n"
     ]
    },
    {
     "data": {
      "application/vnd.jupyter.widget-view+json": {
       "model_id": "90cfa53f50e24d77bc937c36b8b77143",
       "version_major": 2,
       "version_minor": 0
      },
      "text/plain": [
       "Epoch [34/300]:   0%|          | 0/125 [00:00<?, ?it/s]"
      ]
     },
     "metadata": {},
     "output_type": "display_data"
    },
    {
     "data": {
      "application/vnd.jupyter.widget-view+json": {
       "model_id": "036efd2ad6ec4697befd266b651484f5",
       "version_major": 2,
       "version_minor": 0
      },
      "text/plain": [
       "Validation Epoch [34/300]:   0%|          | 0/29 [00:00<?, ?it/s]"
      ]
     },
     "metadata": {},
     "output_type": "display_data"
    },
    {
     "name": "stdout",
     "output_type": "stream",
     "text": [
      "Epoch [34/300] - Train Loss: 0.3873, Train Acc: 0.8935, Val Loss: 0.4115, Val Acc: 0.8689\n"
     ]
    },
    {
     "data": {
      "application/vnd.jupyter.widget-view+json": {
       "model_id": "bcd6c819c6064fbcb01430ab1d882841",
       "version_major": 2,
       "version_minor": 0
      },
      "text/plain": [
       "Epoch [35/300]:   0%|          | 0/125 [00:00<?, ?it/s]"
      ]
     },
     "metadata": {},
     "output_type": "display_data"
    },
    {
     "data": {
      "application/vnd.jupyter.widget-view+json": {
       "model_id": "0faf9e0f34754a4c899ea5c088281aee",
       "version_major": 2,
       "version_minor": 0
      },
      "text/plain": [
       "Validation Epoch [35/300]:   0%|          | 0/29 [00:00<?, ?it/s]"
      ]
     },
     "metadata": {},
     "output_type": "display_data"
    },
    {
     "name": "stdout",
     "output_type": "stream",
     "text": [
      "Epoch [35/300] - Train Loss: 0.3315, Train Acc: 0.9065, Val Loss: 0.3655, Val Acc: 0.8789\n"
     ]
    },
    {
     "data": {
      "application/vnd.jupyter.widget-view+json": {
       "model_id": "3f66cd6e112f4afaa8abf3e5fa34c50f",
       "version_major": 2,
       "version_minor": 0
      },
      "text/plain": [
       "Epoch [36/300]:   0%|          | 0/125 [00:00<?, ?it/s]"
      ]
     },
     "metadata": {},
     "output_type": "display_data"
    },
    {
     "data": {
      "application/vnd.jupyter.widget-view+json": {
       "model_id": "641f6aabcc1147cd84b10a1e7bb3eb47",
       "version_major": 2,
       "version_minor": 0
      },
      "text/plain": [
       "Validation Epoch [36/300]:   0%|          | 0/29 [00:00<?, ?it/s]"
      ]
     },
     "metadata": {},
     "output_type": "display_data"
    },
    {
     "name": "stdout",
     "output_type": "stream",
     "text": [
      "Epoch [36/300] - Train Loss: 0.4280, Train Acc: 0.8890, Val Loss: 0.5825, Val Acc: 0.8106\n"
     ]
    },
    {
     "data": {
      "application/vnd.jupyter.widget-view+json": {
       "model_id": "84f6630c80d34ddcae7d5989ac9a330d",
       "version_major": 2,
       "version_minor": 0
      },
      "text/plain": [
       "Epoch [37/300]:   0%|          | 0/125 [00:00<?, ?it/s]"
      ]
     },
     "metadata": {},
     "output_type": "display_data"
    },
    {
     "data": {
      "application/vnd.jupyter.widget-view+json": {
       "model_id": "3d9593941f0742ccbd3ad64e42ff23e4",
       "version_major": 2,
       "version_minor": 0
      },
      "text/plain": [
       "Validation Epoch [37/300]:   0%|          | 0/29 [00:00<?, ?it/s]"
      ]
     },
     "metadata": {},
     "output_type": "display_data"
    },
    {
     "name": "stdout",
     "output_type": "stream",
     "text": [
      "Epoch [37/300] - Train Loss: 0.3827, Train Acc: 0.8890, Val Loss: 0.5274, Val Acc: 0.8315\n"
     ]
    },
    {
     "data": {
      "application/vnd.jupyter.widget-view+json": {
       "model_id": "a1b3a187dcec440ca0ba26723f0097c4",
       "version_major": 2,
       "version_minor": 0
      },
      "text/plain": [
       "Epoch [38/300]:   0%|          | 0/125 [00:00<?, ?it/s]"
      ]
     },
     "metadata": {},
     "output_type": "display_data"
    },
    {
     "data": {
      "application/vnd.jupyter.widget-view+json": {
       "model_id": "586578108e4447028043fae42ee23249",
       "version_major": 2,
       "version_minor": 0
      },
      "text/plain": [
       "Validation Epoch [38/300]:   0%|          | 0/29 [00:00<?, ?it/s]"
      ]
     },
     "metadata": {},
     "output_type": "display_data"
    },
    {
     "name": "stdout",
     "output_type": "stream",
     "text": [
      "Epoch [38/300] - Train Loss: 0.3302, Train Acc: 0.9090, Val Loss: 0.4017, Val Acc: 0.8733\n"
     ]
    },
    {
     "data": {
      "application/vnd.jupyter.widget-view+json": {
       "model_id": "ee6f09d886d447bfb95f8ff598ea95a0",
       "version_major": 2,
       "version_minor": 0
      },
      "text/plain": [
       "Epoch [39/300]:   0%|          | 0/125 [00:00<?, ?it/s]"
      ]
     },
     "metadata": {},
     "output_type": "display_data"
    },
    {
     "data": {
      "application/vnd.jupyter.widget-view+json": {
       "model_id": "822027cbb2d64a73b3b877570baa7ff6",
       "version_major": 2,
       "version_minor": 0
      },
      "text/plain": [
       "Validation Epoch [39/300]:   0%|          | 0/29 [00:00<?, ?it/s]"
      ]
     },
     "metadata": {},
     "output_type": "display_data"
    },
    {
     "name": "stdout",
     "output_type": "stream",
     "text": [
      "Epoch [39/300] - Train Loss: 0.3001, Train Acc: 0.9158, Val Loss: 0.5131, Val Acc: 0.8304\n"
     ]
    },
    {
     "data": {
      "application/vnd.jupyter.widget-view+json": {
       "model_id": "24ade87013cb4d0bbb65e5f47eda23db",
       "version_major": 2,
       "version_minor": 0
      },
      "text/plain": [
       "Epoch [40/300]:   0%|          | 0/125 [00:00<?, ?it/s]"
      ]
     },
     "metadata": {},
     "output_type": "display_data"
    },
    {
     "data": {
      "application/vnd.jupyter.widget-view+json": {
       "model_id": "7eeeb54c58554e7db35122d03c7e1b25",
       "version_major": 2,
       "version_minor": 0
      },
      "text/plain": [
       "Validation Epoch [40/300]:   0%|          | 0/29 [00:00<?, ?it/s]"
      ]
     },
     "metadata": {},
     "output_type": "display_data"
    },
    {
     "name": "stdout",
     "output_type": "stream",
     "text": [
      "Epoch [40/300] - Train Loss: 0.3729, Train Acc: 0.8963, Val Loss: 0.5132, Val Acc: 0.8480\n",
      "Checkpoint saved at ./checkpoints_modelnet10/PointRTD/CR_0.6/classification_epoch_40.pth\n"
     ]
    },
    {
     "data": {
      "application/vnd.jupyter.widget-view+json": {
       "model_id": "60136f3cfcf74d88b93efb18ad96d3ee",
       "version_major": 2,
       "version_minor": 0
      },
      "text/plain": [
       "Epoch [41/300]:   0%|          | 0/125 [00:00<?, ?it/s]"
      ]
     },
     "metadata": {},
     "output_type": "display_data"
    },
    {
     "data": {
      "application/vnd.jupyter.widget-view+json": {
       "model_id": "2ee1af805f274e6a97f1a55e8f31356b",
       "version_major": 2,
       "version_minor": 0
      },
      "text/plain": [
       "Validation Epoch [41/300]:   0%|          | 0/29 [00:00<?, ?it/s]"
      ]
     },
     "metadata": {},
     "output_type": "display_data"
    },
    {
     "name": "stdout",
     "output_type": "stream",
     "text": [
      "Epoch [41/300] - Train Loss: 0.2984, Train Acc: 0.9141, Val Loss: 0.3444, Val Acc: 0.8756\n",
      "New best model saved with Val Loss: 0.3444 at epoch 41\n"
     ]
    },
    {
     "data": {
      "application/vnd.jupyter.widget-view+json": {
       "model_id": "5db23a62db6e4e8ea05e64fbc1cf992f",
       "version_major": 2,
       "version_minor": 0
      },
      "text/plain": [
       "Epoch [42/300]:   0%|          | 0/125 [00:00<?, ?it/s]"
      ]
     },
     "metadata": {},
     "output_type": "display_data"
    },
    {
     "data": {
      "application/vnd.jupyter.widget-view+json": {
       "model_id": "02e4d452c3dc478488f85210c3c5679a",
       "version_major": 2,
       "version_minor": 0
      },
      "text/plain": [
       "Validation Epoch [42/300]:   0%|          | 0/29 [00:00<?, ?it/s]"
      ]
     },
     "metadata": {},
     "output_type": "display_data"
    },
    {
     "name": "stdout",
     "output_type": "stream",
     "text": [
      "Epoch [42/300] - Train Loss: 0.2711, Train Acc: 0.9256, Val Loss: 0.3990, Val Acc: 0.8601\n"
     ]
    },
    {
     "data": {
      "application/vnd.jupyter.widget-view+json": {
       "model_id": "9b09779110f74b63a25163a8bd7deb03",
       "version_major": 2,
       "version_minor": 0
      },
      "text/plain": [
       "Epoch [43/300]:   0%|          | 0/125 [00:00<?, ?it/s]"
      ]
     },
     "metadata": {},
     "output_type": "display_data"
    },
    {
     "data": {
      "application/vnd.jupyter.widget-view+json": {
       "model_id": "533faa219c044acc9606e00b46fb157d",
       "version_major": 2,
       "version_minor": 0
      },
      "text/plain": [
       "Validation Epoch [43/300]:   0%|          | 0/29 [00:00<?, ?it/s]"
      ]
     },
     "metadata": {},
     "output_type": "display_data"
    },
    {
     "name": "stdout",
     "output_type": "stream",
     "text": [
      "Epoch [43/300] - Train Loss: 0.3094, Train Acc: 0.9110, Val Loss: 0.4558, Val Acc: 0.8568\n"
     ]
    },
    {
     "data": {
      "application/vnd.jupyter.widget-view+json": {
       "model_id": "bb8c6c2efccc4e049699a33d42eb8195",
       "version_major": 2,
       "version_minor": 0
      },
      "text/plain": [
       "Epoch [44/300]:   0%|          | 0/125 [00:00<?, ?it/s]"
      ]
     },
     "metadata": {},
     "output_type": "display_data"
    },
    {
     "data": {
      "application/vnd.jupyter.widget-view+json": {
       "model_id": "f85a8d2238cf4a28941ac19b0b7fdf3a",
       "version_major": 2,
       "version_minor": 0
      },
      "text/plain": [
       "Validation Epoch [44/300]:   0%|          | 0/29 [00:00<?, ?it/s]"
      ]
     },
     "metadata": {},
     "output_type": "display_data"
    },
    {
     "name": "stdout",
     "output_type": "stream",
     "text": [
      "Epoch [44/300] - Train Loss: 0.3504, Train Acc: 0.9100, Val Loss: 0.4648, Val Acc: 0.8524\n"
     ]
    },
    {
     "data": {
      "application/vnd.jupyter.widget-view+json": {
       "model_id": "9e1d364f3aa647a8a7195ea7c97e12b0",
       "version_major": 2,
       "version_minor": 0
      },
      "text/plain": [
       "Epoch [45/300]:   0%|          | 0/125 [00:00<?, ?it/s]"
      ]
     },
     "metadata": {},
     "output_type": "display_data"
    },
    {
     "data": {
      "application/vnd.jupyter.widget-view+json": {
       "model_id": "3af46472ba604fa69b896b17d51127c8",
       "version_major": 2,
       "version_minor": 0
      },
      "text/plain": [
       "Validation Epoch [45/300]:   0%|          | 0/29 [00:00<?, ?it/s]"
      ]
     },
     "metadata": {},
     "output_type": "display_data"
    },
    {
     "name": "stdout",
     "output_type": "stream",
     "text": [
      "Epoch [45/300] - Train Loss: 0.3881, Train Acc: 0.8923, Val Loss: 0.7226, Val Acc: 0.7808\n"
     ]
    },
    {
     "data": {
      "application/vnd.jupyter.widget-view+json": {
       "model_id": "0f46e53948494ad69767b6cb2fe1b63e",
       "version_major": 2,
       "version_minor": 0
      },
      "text/plain": [
       "Epoch [46/300]:   0%|          | 0/125 [00:00<?, ?it/s]"
      ]
     },
     "metadata": {},
     "output_type": "display_data"
    },
    {
     "data": {
      "application/vnd.jupyter.widget-view+json": {
       "model_id": "f7d80382720246bbbfe90bf04af7a518",
       "version_major": 2,
       "version_minor": 0
      },
      "text/plain": [
       "Validation Epoch [46/300]:   0%|          | 0/29 [00:00<?, ?it/s]"
      ]
     },
     "metadata": {},
     "output_type": "display_data"
    },
    {
     "name": "stdout",
     "output_type": "stream",
     "text": [
      "Epoch [46/300] - Train Loss: 0.2912, Train Acc: 0.9146, Val Loss: 0.3646, Val Acc: 0.8877\n"
     ]
    },
    {
     "data": {
      "application/vnd.jupyter.widget-view+json": {
       "model_id": "3a6d6bbcb91d4d70aaf7b2bc11f88b4a",
       "version_major": 2,
       "version_minor": 0
      },
      "text/plain": [
       "Epoch [47/300]:   0%|          | 0/125 [00:00<?, ?it/s]"
      ]
     },
     "metadata": {},
     "output_type": "display_data"
    },
    {
     "data": {
      "application/vnd.jupyter.widget-view+json": {
       "model_id": "640f51ff59a64d4196ed47893cac1833",
       "version_major": 2,
       "version_minor": 0
      },
      "text/plain": [
       "Validation Epoch [47/300]:   0%|          | 0/29 [00:00<?, ?it/s]"
      ]
     },
     "metadata": {},
     "output_type": "display_data"
    },
    {
     "name": "stdout",
     "output_type": "stream",
     "text": [
      "Epoch [47/300] - Train Loss: 0.2629, Train Acc: 0.9261, Val Loss: 0.3759, Val Acc: 0.8833\n"
     ]
    },
    {
     "data": {
      "application/vnd.jupyter.widget-view+json": {
       "model_id": "b745ca1445134931afbe67e2844c2be6",
       "version_major": 2,
       "version_minor": 0
      },
      "text/plain": [
       "Epoch [48/300]:   0%|          | 0/125 [00:00<?, ?it/s]"
      ]
     },
     "metadata": {},
     "output_type": "display_data"
    },
    {
     "data": {
      "application/vnd.jupyter.widget-view+json": {
       "model_id": "adac4b9e00d9443a9968c8734fd0ce8e",
       "version_major": 2,
       "version_minor": 0
      },
      "text/plain": [
       "Validation Epoch [48/300]:   0%|          | 0/29 [00:00<?, ?it/s]"
      ]
     },
     "metadata": {},
     "output_type": "display_data"
    },
    {
     "name": "stdout",
     "output_type": "stream",
     "text": [
      "Epoch [48/300] - Train Loss: 0.2932, Train Acc: 0.9176, Val Loss: 0.3402, Val Acc: 0.8767\n",
      "New best model saved with Val Loss: 0.3402 at epoch 48\n"
     ]
    },
    {
     "data": {
      "application/vnd.jupyter.widget-view+json": {
       "model_id": "f9181433834d444ea90d8df83118fbcd",
       "version_major": 2,
       "version_minor": 0
      },
      "text/plain": [
       "Epoch [49/300]:   0%|          | 0/125 [00:00<?, ?it/s]"
      ]
     },
     "metadata": {},
     "output_type": "display_data"
    },
    {
     "data": {
      "application/vnd.jupyter.widget-view+json": {
       "model_id": "646f1d15243e4bc9aaded80152825e08",
       "version_major": 2,
       "version_minor": 0
      },
      "text/plain": [
       "Validation Epoch [49/300]:   0%|          | 0/29 [00:00<?, ?it/s]"
      ]
     },
     "metadata": {},
     "output_type": "display_data"
    },
    {
     "name": "stdout",
     "output_type": "stream",
     "text": [
      "Epoch [49/300] - Train Loss: 0.2999, Train Acc: 0.9108, Val Loss: 0.3162, Val Acc: 0.8844\n",
      "New best model saved with Val Loss: 0.3162 at epoch 49\n"
     ]
    },
    {
     "data": {
      "application/vnd.jupyter.widget-view+json": {
       "model_id": "d4c01e778d14472d882db4a5a9309d7d",
       "version_major": 2,
       "version_minor": 0
      },
      "text/plain": [
       "Epoch [50/300]:   0%|          | 0/125 [00:00<?, ?it/s]"
      ]
     },
     "metadata": {},
     "output_type": "display_data"
    },
    {
     "data": {
      "application/vnd.jupyter.widget-view+json": {
       "model_id": "6a3dbbb9072649c4816d3a6dea64708a",
       "version_major": 2,
       "version_minor": 0
      },
      "text/plain": [
       "Validation Epoch [50/300]:   0%|          | 0/29 [00:00<?, ?it/s]"
      ]
     },
     "metadata": {},
     "output_type": "display_data"
    },
    {
     "name": "stdout",
     "output_type": "stream",
     "text": [
      "Epoch [50/300] - Train Loss: 0.2912, Train Acc: 0.9156, Val Loss: 0.3147, Val Acc: 0.9020\n",
      "Checkpoint saved at ./checkpoints_modelnet10/PointRTD/CR_0.6/classification_epoch_50.pth\n",
      "New best model saved with Val Loss: 0.3147 at epoch 50\n"
     ]
    },
    {
     "data": {
      "application/vnd.jupyter.widget-view+json": {
       "model_id": "50079611c4344a94adae0a72345d42cd",
       "version_major": 2,
       "version_minor": 0
      },
      "text/plain": [
       "Epoch [51/300]:   0%|          | 0/125 [00:00<?, ?it/s]"
      ]
     },
     "metadata": {},
     "output_type": "display_data"
    },
    {
     "data": {
      "application/vnd.jupyter.widget-view+json": {
       "model_id": "49c7988093644dbf8d34e68dfd041e20",
       "version_major": 2,
       "version_minor": 0
      },
      "text/plain": [
       "Validation Epoch [51/300]:   0%|          | 0/29 [00:00<?, ?it/s]"
      ]
     },
     "metadata": {},
     "output_type": "display_data"
    },
    {
     "name": "stdout",
     "output_type": "stream",
     "text": [
      "Epoch [51/300] - Train Loss: 0.3043, Train Acc: 0.9151, Val Loss: 0.4213, Val Acc: 0.8656\n"
     ]
    },
    {
     "data": {
      "application/vnd.jupyter.widget-view+json": {
       "model_id": "5ca7ca21afa04cc6a70b070d8f549750",
       "version_major": 2,
       "version_minor": 0
      },
      "text/plain": [
       "Epoch [52/300]:   0%|          | 0/125 [00:00<?, ?it/s]"
      ]
     },
     "metadata": {},
     "output_type": "display_data"
    },
    {
     "data": {
      "application/vnd.jupyter.widget-view+json": {
       "model_id": "29922f8dcd3b499ea8cefd1071d05b38",
       "version_major": 2,
       "version_minor": 0
      },
      "text/plain": [
       "Validation Epoch [52/300]:   0%|          | 0/29 [00:00<?, ?it/s]"
      ]
     },
     "metadata": {},
     "output_type": "display_data"
    },
    {
     "name": "stdout",
     "output_type": "stream",
     "text": [
      "Epoch [52/300] - Train Loss: 0.3190, Train Acc: 0.9148, Val Loss: 0.3479, Val Acc: 0.8866\n"
     ]
    },
    {
     "data": {
      "application/vnd.jupyter.widget-view+json": {
       "model_id": "d357b63fc4054b5ab0350fd7065bf6b9",
       "version_major": 2,
       "version_minor": 0
      },
      "text/plain": [
       "Epoch [53/300]:   0%|          | 0/125 [00:00<?, ?it/s]"
      ]
     },
     "metadata": {},
     "output_type": "display_data"
    },
    {
     "data": {
      "application/vnd.jupyter.widget-view+json": {
       "model_id": "53d66cb484f24c59a6447fe9b96a61a7",
       "version_major": 2,
       "version_minor": 0
      },
      "text/plain": [
       "Validation Epoch [53/300]:   0%|          | 0/29 [00:00<?, ?it/s]"
      ]
     },
     "metadata": {},
     "output_type": "display_data"
    },
    {
     "name": "stdout",
     "output_type": "stream",
     "text": [
      "Epoch [53/300] - Train Loss: 0.3271, Train Acc: 0.9063, Val Loss: 0.3982, Val Acc: 0.8767\n"
     ]
    },
    {
     "data": {
      "application/vnd.jupyter.widget-view+json": {
       "model_id": "034c0681c4bf4ed69a2afd8667145fe7",
       "version_major": 2,
       "version_minor": 0
      },
      "text/plain": [
       "Epoch [54/300]:   0%|          | 0/125 [00:00<?, ?it/s]"
      ]
     },
     "metadata": {},
     "output_type": "display_data"
    },
    {
     "data": {
      "application/vnd.jupyter.widget-view+json": {
       "model_id": "80ea7b95e2a1498b91761459f0422386",
       "version_major": 2,
       "version_minor": 0
      },
      "text/plain": [
       "Validation Epoch [54/300]:   0%|          | 0/29 [00:00<?, ?it/s]"
      ]
     },
     "metadata": {},
     "output_type": "display_data"
    },
    {
     "name": "stdout",
     "output_type": "stream",
     "text": [
      "Epoch [54/300] - Train Loss: 0.2494, Train Acc: 0.9323, Val Loss: 0.4293, Val Acc: 0.8634\n"
     ]
    },
    {
     "data": {
      "application/vnd.jupyter.widget-view+json": {
       "model_id": "b108af0266d24eeeb9c202fa498aa484",
       "version_major": 2,
       "version_minor": 0
      },
      "text/plain": [
       "Epoch [55/300]:   0%|          | 0/125 [00:00<?, ?it/s]"
      ]
     },
     "metadata": {},
     "output_type": "display_data"
    },
    {
     "data": {
      "application/vnd.jupyter.widget-view+json": {
       "model_id": "80e77175934b4141b7f0a241b9fbbf86",
       "version_major": 2,
       "version_minor": 0
      },
      "text/plain": [
       "Validation Epoch [55/300]:   0%|          | 0/29 [00:00<?, ?it/s]"
      ]
     },
     "metadata": {},
     "output_type": "display_data"
    },
    {
     "name": "stdout",
     "output_type": "stream",
     "text": [
      "Epoch [55/300] - Train Loss: 0.3479, Train Acc: 0.9008, Val Loss: 0.5667, Val Acc: 0.8249\n"
     ]
    },
    {
     "data": {
      "application/vnd.jupyter.widget-view+json": {
       "model_id": "03b97466adfe4530819e6206745ba8ab",
       "version_major": 2,
       "version_minor": 0
      },
      "text/plain": [
       "Epoch [56/300]:   0%|          | 0/125 [00:00<?, ?it/s]"
      ]
     },
     "metadata": {},
     "output_type": "display_data"
    },
    {
     "data": {
      "application/vnd.jupyter.widget-view+json": {
       "model_id": "c7b159ac96604429b377593a51030961",
       "version_major": 2,
       "version_minor": 0
      },
      "text/plain": [
       "Validation Epoch [56/300]:   0%|          | 0/29 [00:00<?, ?it/s]"
      ]
     },
     "metadata": {},
     "output_type": "display_data"
    },
    {
     "name": "stdout",
     "output_type": "stream",
     "text": [
      "Epoch [56/300] - Train Loss: 0.3689, Train Acc: 0.9018, Val Loss: 0.4523, Val Acc: 0.8678\n"
     ]
    },
    {
     "data": {
      "application/vnd.jupyter.widget-view+json": {
       "model_id": "41bd91a25ec3416cb885ddfebb4579d7",
       "version_major": 2,
       "version_minor": 0
      },
      "text/plain": [
       "Epoch [57/300]:   0%|          | 0/125 [00:00<?, ?it/s]"
      ]
     },
     "metadata": {},
     "output_type": "display_data"
    },
    {
     "data": {
      "application/vnd.jupyter.widget-view+json": {
       "model_id": "a6ff5bc4d4ec4815ae6ec766ac827aff",
       "version_major": 2,
       "version_minor": 0
      },
      "text/plain": [
       "Validation Epoch [57/300]:   0%|          | 0/29 [00:00<?, ?it/s]"
      ]
     },
     "metadata": {},
     "output_type": "display_data"
    },
    {
     "name": "stdout",
     "output_type": "stream",
     "text": [
      "Epoch [57/300] - Train Loss: 0.3444, Train Acc: 0.9045, Val Loss: 0.5132, Val Acc: 0.8700\n"
     ]
    },
    {
     "data": {
      "application/vnd.jupyter.widget-view+json": {
       "model_id": "fb003ba5bd8844c3a7bf3bc86fe3f0d2",
       "version_major": 2,
       "version_minor": 0
      },
      "text/plain": [
       "Epoch [58/300]:   0%|          | 0/125 [00:00<?, ?it/s]"
      ]
     },
     "metadata": {},
     "output_type": "display_data"
    },
    {
     "data": {
      "application/vnd.jupyter.widget-view+json": {
       "model_id": "88a0e184fa2c436183bc17d8a423e57c",
       "version_major": 2,
       "version_minor": 0
      },
      "text/plain": [
       "Validation Epoch [58/300]:   0%|          | 0/29 [00:00<?, ?it/s]"
      ]
     },
     "metadata": {},
     "output_type": "display_data"
    },
    {
     "name": "stdout",
     "output_type": "stream",
     "text": [
      "Epoch [58/300] - Train Loss: 0.2859, Train Acc: 0.9223, Val Loss: 0.3605, Val Acc: 0.8877\n"
     ]
    },
    {
     "data": {
      "application/vnd.jupyter.widget-view+json": {
       "model_id": "a93f7fd37be744adba0c723838359564",
       "version_major": 2,
       "version_minor": 0
      },
      "text/plain": [
       "Epoch [59/300]:   0%|          | 0/125 [00:00<?, ?it/s]"
      ]
     },
     "metadata": {},
     "output_type": "display_data"
    },
    {
     "data": {
      "application/vnd.jupyter.widget-view+json": {
       "model_id": "4b6cb99120cf4482a5e1c99b8c150db7",
       "version_major": 2,
       "version_minor": 0
      },
      "text/plain": [
       "Validation Epoch [59/300]:   0%|          | 0/29 [00:00<?, ?it/s]"
      ]
     },
     "metadata": {},
     "output_type": "display_data"
    },
    {
     "name": "stdout",
     "output_type": "stream",
     "text": [
      "Epoch [59/300] - Train Loss: 0.2331, Train Acc: 0.9346, Val Loss: 0.3491, Val Acc: 0.8877\n"
     ]
    },
    {
     "data": {
      "application/vnd.jupyter.widget-view+json": {
       "model_id": "ccbf6439260449e5ad6cfd43828e1a3c",
       "version_major": 2,
       "version_minor": 0
      },
      "text/plain": [
       "Epoch [60/300]:   0%|          | 0/125 [00:00<?, ?it/s]"
      ]
     },
     "metadata": {},
     "output_type": "display_data"
    },
    {
     "data": {
      "application/vnd.jupyter.widget-view+json": {
       "model_id": "f904549c61f64a65b70c5f8534b2893a",
       "version_major": 2,
       "version_minor": 0
      },
      "text/plain": [
       "Validation Epoch [60/300]:   0%|          | 0/29 [00:00<?, ?it/s]"
      ]
     },
     "metadata": {},
     "output_type": "display_data"
    },
    {
     "name": "stdout",
     "output_type": "stream",
     "text": [
      "Epoch [60/300] - Train Loss: 0.2618, Train Acc: 0.9278, Val Loss: 0.4176, Val Acc: 0.8678\n",
      "Checkpoint saved at ./checkpoints_modelnet10/PointRTD/CR_0.6/classification_epoch_60.pth\n"
     ]
    },
    {
     "data": {
      "application/vnd.jupyter.widget-view+json": {
       "model_id": "3f0b5cd735b84c17a2c264dc6a738495",
       "version_major": 2,
       "version_minor": 0
      },
      "text/plain": [
       "Epoch [61/300]:   0%|          | 0/125 [00:00<?, ?it/s]"
      ]
     },
     "metadata": {},
     "output_type": "display_data"
    },
    {
     "data": {
      "application/vnd.jupyter.widget-view+json": {
       "model_id": "b20ef57657f3420cb91911d6c4c26d9a",
       "version_major": 2,
       "version_minor": 0
      },
      "text/plain": [
       "Validation Epoch [61/300]:   0%|          | 0/29 [00:00<?, ?it/s]"
      ]
     },
     "metadata": {},
     "output_type": "display_data"
    },
    {
     "name": "stdout",
     "output_type": "stream",
     "text": [
      "Epoch [61/300] - Train Loss: 0.2742, Train Acc: 0.9238, Val Loss: 0.3321, Val Acc: 0.8976\n"
     ]
    },
    {
     "data": {
      "application/vnd.jupyter.widget-view+json": {
       "model_id": "3f72e8363a96494d8a0388d61f24f4dc",
       "version_major": 2,
       "version_minor": 0
      },
      "text/plain": [
       "Epoch [62/300]:   0%|          | 0/125 [00:00<?, ?it/s]"
      ]
     },
     "metadata": {},
     "output_type": "display_data"
    },
    {
     "data": {
      "application/vnd.jupyter.widget-view+json": {
       "model_id": "95ecda24aca24e6093890e088e0fce80",
       "version_major": 2,
       "version_minor": 0
      },
      "text/plain": [
       "Validation Epoch [62/300]:   0%|          | 0/29 [00:00<?, ?it/s]"
      ]
     },
     "metadata": {},
     "output_type": "display_data"
    },
    {
     "name": "stdout",
     "output_type": "stream",
     "text": [
      "Epoch [62/300] - Train Loss: 0.2375, Train Acc: 0.9341, Val Loss: 0.3641, Val Acc: 0.8800\n"
     ]
    },
    {
     "data": {
      "application/vnd.jupyter.widget-view+json": {
       "model_id": "01c50ae8dc0846d7b3fe7752193fc710",
       "version_major": 2,
       "version_minor": 0
      },
      "text/plain": [
       "Epoch [63/300]:   0%|          | 0/125 [00:00<?, ?it/s]"
      ]
     },
     "metadata": {},
     "output_type": "display_data"
    },
    {
     "data": {
      "application/vnd.jupyter.widget-view+json": {
       "model_id": "0dec26588ebb4bb5b5bd03018cbbf3d8",
       "version_major": 2,
       "version_minor": 0
      },
      "text/plain": [
       "Validation Epoch [63/300]:   0%|          | 0/29 [00:00<?, ?it/s]"
      ]
     },
     "metadata": {},
     "output_type": "display_data"
    },
    {
     "name": "stdout",
     "output_type": "stream",
     "text": [
      "Epoch [63/300] - Train Loss: 0.2756, Train Acc: 0.9248, Val Loss: 0.3700, Val Acc: 0.8866\n"
     ]
    },
    {
     "data": {
      "application/vnd.jupyter.widget-view+json": {
       "model_id": "db42a5293785470eb4ed4a8c645af16c",
       "version_major": 2,
       "version_minor": 0
      },
      "text/plain": [
       "Epoch [64/300]:   0%|          | 0/125 [00:00<?, ?it/s]"
      ]
     },
     "metadata": {},
     "output_type": "display_data"
    },
    {
     "data": {
      "application/vnd.jupyter.widget-view+json": {
       "model_id": "6825b7ce7f824537825ac11bb5ec27de",
       "version_major": 2,
       "version_minor": 0
      },
      "text/plain": [
       "Validation Epoch [64/300]:   0%|          | 0/29 [00:00<?, ?it/s]"
      ]
     },
     "metadata": {},
     "output_type": "display_data"
    },
    {
     "name": "stdout",
     "output_type": "stream",
     "text": [
      "Epoch [64/300] - Train Loss: 0.3053, Train Acc: 0.9233, Val Loss: 0.3363, Val Acc: 0.8888\n"
     ]
    },
    {
     "data": {
      "application/vnd.jupyter.widget-view+json": {
       "model_id": "1b9a5e66ecb54ab48e1df295e486363f",
       "version_major": 2,
       "version_minor": 0
      },
      "text/plain": [
       "Epoch [65/300]:   0%|          | 0/125 [00:00<?, ?it/s]"
      ]
     },
     "metadata": {},
     "output_type": "display_data"
    },
    {
     "data": {
      "application/vnd.jupyter.widget-view+json": {
       "model_id": "5d0b598ad1eb452b92b2ebe7274e4be8",
       "version_major": 2,
       "version_minor": 0
      },
      "text/plain": [
       "Validation Epoch [65/300]:   0%|          | 0/29 [00:00<?, ?it/s]"
      ]
     },
     "metadata": {},
     "output_type": "display_data"
    },
    {
     "name": "stdout",
     "output_type": "stream",
     "text": [
      "Epoch [65/300] - Train Loss: 0.2244, Train Acc: 0.9371, Val Loss: 0.3099, Val Acc: 0.9009\n",
      "New best model saved with Val Loss: 0.3099 at epoch 65\n"
     ]
    },
    {
     "data": {
      "application/vnd.jupyter.widget-view+json": {
       "model_id": "2e0e5c1c04874ed9be06b93a676861d8",
       "version_major": 2,
       "version_minor": 0
      },
      "text/plain": [
       "Epoch [66/300]:   0%|          | 0/125 [00:00<?, ?it/s]"
      ]
     },
     "metadata": {},
     "output_type": "display_data"
    },
    {
     "data": {
      "application/vnd.jupyter.widget-view+json": {
       "model_id": "dfac0a4f8d4444bf8f85c02c2f4360ae",
       "version_major": 2,
       "version_minor": 0
      },
      "text/plain": [
       "Validation Epoch [66/300]:   0%|          | 0/29 [00:00<?, ?it/s]"
      ]
     },
     "metadata": {},
     "output_type": "display_data"
    },
    {
     "name": "stdout",
     "output_type": "stream",
     "text": [
      "Epoch [66/300] - Train Loss: 0.2556, Train Acc: 0.9318, Val Loss: 0.3906, Val Acc: 0.8689\n"
     ]
    },
    {
     "data": {
      "application/vnd.jupyter.widget-view+json": {
       "model_id": "5753bfb7d70a4a82af109d881b4a1caf",
       "version_major": 2,
       "version_minor": 0
      },
      "text/plain": [
       "Epoch [67/300]:   0%|          | 0/125 [00:00<?, ?it/s]"
      ]
     },
     "metadata": {},
     "output_type": "display_data"
    },
    {
     "data": {
      "application/vnd.jupyter.widget-view+json": {
       "model_id": "2ca77f8170c044478be17a296a820159",
       "version_major": 2,
       "version_minor": 0
      },
      "text/plain": [
       "Validation Epoch [67/300]:   0%|          | 0/29 [00:00<?, ?it/s]"
      ]
     },
     "metadata": {},
     "output_type": "display_data"
    },
    {
     "name": "stdout",
     "output_type": "stream",
     "text": [
      "Epoch [67/300] - Train Loss: 0.3191, Train Acc: 0.9121, Val Loss: 0.3338, Val Acc: 0.8888\n"
     ]
    },
    {
     "data": {
      "application/vnd.jupyter.widget-view+json": {
       "model_id": "642e2ab637cd418d82d041770ccae3ca",
       "version_major": 2,
       "version_minor": 0
      },
      "text/plain": [
       "Epoch [68/300]:   0%|          | 0/125 [00:00<?, ?it/s]"
      ]
     },
     "metadata": {},
     "output_type": "display_data"
    },
    {
     "data": {
      "application/vnd.jupyter.widget-view+json": {
       "model_id": "68de47eb8a38419695158bb716fc83ab",
       "version_major": 2,
       "version_minor": 0
      },
      "text/plain": [
       "Validation Epoch [68/300]:   0%|          | 0/29 [00:00<?, ?it/s]"
      ]
     },
     "metadata": {},
     "output_type": "display_data"
    },
    {
     "name": "stdout",
     "output_type": "stream",
     "text": [
      "Epoch [68/300] - Train Loss: 0.2242, Train Acc: 0.9361, Val Loss: 0.4149, Val Acc: 0.8744\n"
     ]
    },
    {
     "data": {
      "application/vnd.jupyter.widget-view+json": {
       "model_id": "cd7fe0985cfc42ed858dedafd0242bd3",
       "version_major": 2,
       "version_minor": 0
      },
      "text/plain": [
       "Epoch [69/300]:   0%|          | 0/125 [00:00<?, ?it/s]"
      ]
     },
     "metadata": {},
     "output_type": "display_data"
    },
    {
     "data": {
      "application/vnd.jupyter.widget-view+json": {
       "model_id": "cfc8fe7224c340a2beeaca15398d757c",
       "version_major": 2,
       "version_minor": 0
      },
      "text/plain": [
       "Validation Epoch [69/300]:   0%|          | 0/29 [00:00<?, ?it/s]"
      ]
     },
     "metadata": {},
     "output_type": "display_data"
    },
    {
     "name": "stdout",
     "output_type": "stream",
     "text": [
      "Epoch [69/300] - Train Loss: 0.3005, Train Acc: 0.9223, Val Loss: 0.4054, Val Acc: 0.8767\n"
     ]
    },
    {
     "data": {
      "application/vnd.jupyter.widget-view+json": {
       "model_id": "21c0d6e3bd8b4963a0326d054e906e89",
       "version_major": 2,
       "version_minor": 0
      },
      "text/plain": [
       "Epoch [70/300]:   0%|          | 0/125 [00:00<?, ?it/s]"
      ]
     },
     "metadata": {},
     "output_type": "display_data"
    },
    {
     "data": {
      "application/vnd.jupyter.widget-view+json": {
       "model_id": "92c8a6103a5e4bd69b062cbe8b179226",
       "version_major": 2,
       "version_minor": 0
      },
      "text/plain": [
       "Validation Epoch [70/300]:   0%|          | 0/29 [00:00<?, ?it/s]"
      ]
     },
     "metadata": {},
     "output_type": "display_data"
    },
    {
     "name": "stdout",
     "output_type": "stream",
     "text": [
      "Epoch [70/300] - Train Loss: 0.2146, Train Acc: 0.9454, Val Loss: 0.5213, Val Acc: 0.8612\n",
      "Checkpoint saved at ./checkpoints_modelnet10/PointRTD/CR_0.6/classification_epoch_70.pth\n"
     ]
    },
    {
     "data": {
      "application/vnd.jupyter.widget-view+json": {
       "model_id": "d2034e24b9ed4cee8c24e997817b588c",
       "version_major": 2,
       "version_minor": 0
      },
      "text/plain": [
       "Epoch [71/300]:   0%|          | 0/125 [00:00<?, ?it/s]"
      ]
     },
     "metadata": {},
     "output_type": "display_data"
    },
    {
     "data": {
      "application/vnd.jupyter.widget-view+json": {
       "model_id": "64478212f87b4cd2b22183e76df48c1f",
       "version_major": 2,
       "version_minor": 0
      },
      "text/plain": [
       "Validation Epoch [71/300]:   0%|          | 0/29 [00:00<?, ?it/s]"
      ]
     },
     "metadata": {},
     "output_type": "display_data"
    },
    {
     "name": "stdout",
     "output_type": "stream",
     "text": [
      "Epoch [71/300] - Train Loss: 0.2764, Train Acc: 0.9256, Val Loss: 0.3051, Val Acc: 0.8899\n",
      "New best model saved with Val Loss: 0.3051 at epoch 71\n"
     ]
    },
    {
     "data": {
      "application/vnd.jupyter.widget-view+json": {
       "model_id": "9203f550111749daad2245e9152caa56",
       "version_major": 2,
       "version_minor": 0
      },
      "text/plain": [
       "Epoch [72/300]:   0%|          | 0/125 [00:00<?, ?it/s]"
      ]
     },
     "metadata": {},
     "output_type": "display_data"
    },
    {
     "data": {
      "application/vnd.jupyter.widget-view+json": {
       "model_id": "2ffdcefecea54a99947f5b1f47b0c56c",
       "version_major": 2,
       "version_minor": 0
      },
      "text/plain": [
       "Validation Epoch [72/300]:   0%|          | 0/29 [00:00<?, ?it/s]"
      ]
     },
     "metadata": {},
     "output_type": "display_data"
    },
    {
     "name": "stdout",
     "output_type": "stream",
     "text": [
      "Epoch [72/300] - Train Loss: 0.2074, Train Acc: 0.9429, Val Loss: 0.4802, Val Acc: 0.8667\n"
     ]
    },
    {
     "data": {
      "application/vnd.jupyter.widget-view+json": {
       "model_id": "afbee992988446c09681a33238f69417",
       "version_major": 2,
       "version_minor": 0
      },
      "text/plain": [
       "Epoch [73/300]:   0%|          | 0/125 [00:00<?, ?it/s]"
      ]
     },
     "metadata": {},
     "output_type": "display_data"
    },
    {
     "data": {
      "application/vnd.jupyter.widget-view+json": {
       "model_id": "c6a38308c681467ba90e423a67545c17",
       "version_major": 2,
       "version_minor": 0
      },
      "text/plain": [
       "Validation Epoch [73/300]:   0%|          | 0/29 [00:00<?, ?it/s]"
      ]
     },
     "metadata": {},
     "output_type": "display_data"
    },
    {
     "name": "stdout",
     "output_type": "stream",
     "text": [
      "Epoch [73/300] - Train Loss: 0.2630, Train Acc: 0.9326, Val Loss: 0.3674, Val Acc: 0.8855\n"
     ]
    },
    {
     "data": {
      "application/vnd.jupyter.widget-view+json": {
       "model_id": "6787f7a2445347518cf19d2c01fd4d9c",
       "version_major": 2,
       "version_minor": 0
      },
      "text/plain": [
       "Epoch [74/300]:   0%|          | 0/125 [00:00<?, ?it/s]"
      ]
     },
     "metadata": {},
     "output_type": "display_data"
    },
    {
     "data": {
      "application/vnd.jupyter.widget-view+json": {
       "model_id": "88aecf7233bf4d49aa1d5ffba5caeccd",
       "version_major": 2,
       "version_minor": 0
      },
      "text/plain": [
       "Validation Epoch [74/300]:   0%|          | 0/29 [00:00<?, ?it/s]"
      ]
     },
     "metadata": {},
     "output_type": "display_data"
    },
    {
     "name": "stdout",
     "output_type": "stream",
     "text": [
      "Epoch [74/300] - Train Loss: 0.2139, Train Acc: 0.9401, Val Loss: 0.4632, Val Acc: 0.8557\n"
     ]
    },
    {
     "data": {
      "application/vnd.jupyter.widget-view+json": {
       "model_id": "101783c1d9ca4095bacbe861f765dc82",
       "version_major": 2,
       "version_minor": 0
      },
      "text/plain": [
       "Epoch [75/300]:   0%|          | 0/125 [00:00<?, ?it/s]"
      ]
     },
     "metadata": {},
     "output_type": "display_data"
    },
    {
     "data": {
      "application/vnd.jupyter.widget-view+json": {
       "model_id": "9352b9fb60a147dd88ef5eb898a7713e",
       "version_major": 2,
       "version_minor": 0
      },
      "text/plain": [
       "Validation Epoch [75/300]:   0%|          | 0/29 [00:00<?, ?it/s]"
      ]
     },
     "metadata": {},
     "output_type": "display_data"
    },
    {
     "name": "stdout",
     "output_type": "stream",
     "text": [
      "Epoch [75/300] - Train Loss: 0.2416, Train Acc: 0.9341, Val Loss: 0.3585, Val Acc: 0.8778\n"
     ]
    },
    {
     "data": {
      "application/vnd.jupyter.widget-view+json": {
       "model_id": "c6a98c2b34a249fa9c5644267ad5a182",
       "version_major": 2,
       "version_minor": 0
      },
      "text/plain": [
       "Epoch [76/300]:   0%|          | 0/125 [00:00<?, ?it/s]"
      ]
     },
     "metadata": {},
     "output_type": "display_data"
    },
    {
     "data": {
      "application/vnd.jupyter.widget-view+json": {
       "model_id": "06598e69208d48279d25078f49560384",
       "version_major": 2,
       "version_minor": 0
      },
      "text/plain": [
       "Validation Epoch [76/300]:   0%|          | 0/29 [00:00<?, ?it/s]"
      ]
     },
     "metadata": {},
     "output_type": "display_data"
    },
    {
     "name": "stdout",
     "output_type": "stream",
     "text": [
      "Epoch [76/300] - Train Loss: 0.2171, Train Acc: 0.9401, Val Loss: 0.4142, Val Acc: 0.8667\n"
     ]
    },
    {
     "data": {
      "application/vnd.jupyter.widget-view+json": {
       "model_id": "8e5d4a47c0954450bc98c40230ce4c58",
       "version_major": 2,
       "version_minor": 0
      },
      "text/plain": [
       "Epoch [77/300]:   0%|          | 0/125 [00:00<?, ?it/s]"
      ]
     },
     "metadata": {},
     "output_type": "display_data"
    },
    {
     "data": {
      "application/vnd.jupyter.widget-view+json": {
       "model_id": "33d88ebe71b84a0c9546839c59a9c719",
       "version_major": 2,
       "version_minor": 0
      },
      "text/plain": [
       "Validation Epoch [77/300]:   0%|          | 0/29 [00:00<?, ?it/s]"
      ]
     },
     "metadata": {},
     "output_type": "display_data"
    },
    {
     "name": "stdout",
     "output_type": "stream",
     "text": [
      "Epoch [77/300] - Train Loss: 0.2667, Train Acc: 0.9318, Val Loss: 0.2845, Val Acc: 0.9152\n",
      "New best model saved with Val Loss: 0.2845 at epoch 77\n"
     ]
    },
    {
     "data": {
      "application/vnd.jupyter.widget-view+json": {
       "model_id": "9a0257ffea724728b607580a6b1eb8df",
       "version_major": 2,
       "version_minor": 0
      },
      "text/plain": [
       "Epoch [78/300]:   0%|          | 0/125 [00:00<?, ?it/s]"
      ]
     },
     "metadata": {},
     "output_type": "display_data"
    },
    {
     "data": {
      "application/vnd.jupyter.widget-view+json": {
       "model_id": "debf49ac429d4bd7a75cae254c938da2",
       "version_major": 2,
       "version_minor": 0
      },
      "text/plain": [
       "Validation Epoch [78/300]:   0%|          | 0/29 [00:00<?, ?it/s]"
      ]
     },
     "metadata": {},
     "output_type": "display_data"
    },
    {
     "name": "stdout",
     "output_type": "stream",
     "text": [
      "Epoch [78/300] - Train Loss: 0.3057, Train Acc: 0.9148, Val Loss: 0.3564, Val Acc: 0.8921\n"
     ]
    },
    {
     "data": {
      "application/vnd.jupyter.widget-view+json": {
       "model_id": "9856635f0f894a4e8f0b5896e14f0c4f",
       "version_major": 2,
       "version_minor": 0
      },
      "text/plain": [
       "Epoch [79/300]:   0%|          | 0/125 [00:00<?, ?it/s]"
      ]
     },
     "metadata": {},
     "output_type": "display_data"
    },
    {
     "data": {
      "application/vnd.jupyter.widget-view+json": {
       "model_id": "446d367fe6fa4475ba6f379d392bd0f5",
       "version_major": 2,
       "version_minor": 0
      },
      "text/plain": [
       "Validation Epoch [79/300]:   0%|          | 0/29 [00:00<?, ?it/s]"
      ]
     },
     "metadata": {},
     "output_type": "display_data"
    },
    {
     "name": "stdout",
     "output_type": "stream",
     "text": [
      "Epoch [79/300] - Train Loss: 0.2142, Train Acc: 0.9414, Val Loss: 0.3996, Val Acc: 0.8733\n"
     ]
    },
    {
     "data": {
      "application/vnd.jupyter.widget-view+json": {
       "model_id": "8a5b7a93144a4da29c2ead13ae11142a",
       "version_major": 2,
       "version_minor": 0
      },
      "text/plain": [
       "Epoch [80/300]:   0%|          | 0/125 [00:00<?, ?it/s]"
      ]
     },
     "metadata": {},
     "output_type": "display_data"
    },
    {
     "data": {
      "application/vnd.jupyter.widget-view+json": {
       "model_id": "e3487e803b1b4ad0b77b0d481d5859f3",
       "version_major": 2,
       "version_minor": 0
      },
      "text/plain": [
       "Validation Epoch [80/300]:   0%|          | 0/29 [00:00<?, ?it/s]"
      ]
     },
     "metadata": {},
     "output_type": "display_data"
    },
    {
     "name": "stdout",
     "output_type": "stream",
     "text": [
      "Epoch [80/300] - Train Loss: 0.2381, Train Acc: 0.9318, Val Loss: 0.4195, Val Acc: 0.8767\n",
      "Checkpoint saved at ./checkpoints_modelnet10/PointRTD/CR_0.6/classification_epoch_80.pth\n"
     ]
    },
    {
     "data": {
      "application/vnd.jupyter.widget-view+json": {
       "model_id": "6618b25c9eff4542a9a42d2b4b4ad1cd",
       "version_major": 2,
       "version_minor": 0
      },
      "text/plain": [
       "Epoch [81/300]:   0%|          | 0/125 [00:00<?, ?it/s]"
      ]
     },
     "metadata": {},
     "output_type": "display_data"
    },
    {
     "data": {
      "application/vnd.jupyter.widget-view+json": {
       "model_id": "25a93a93bc2a4f4996e2ba1d8d0494f9",
       "version_major": 2,
       "version_minor": 0
      },
      "text/plain": [
       "Validation Epoch [81/300]:   0%|          | 0/29 [00:00<?, ?it/s]"
      ]
     },
     "metadata": {},
     "output_type": "display_data"
    },
    {
     "name": "stdout",
     "output_type": "stream",
     "text": [
      "Epoch [81/300] - Train Loss: 0.2045, Train Acc: 0.9441, Val Loss: 0.3763, Val Acc: 0.8833\n"
     ]
    },
    {
     "data": {
      "application/vnd.jupyter.widget-view+json": {
       "model_id": "4dca946c9c1b43149c622c791b13d6fe",
       "version_major": 2,
       "version_minor": 0
      },
      "text/plain": [
       "Epoch [82/300]:   0%|          | 0/125 [00:00<?, ?it/s]"
      ]
     },
     "metadata": {},
     "output_type": "display_data"
    },
    {
     "data": {
      "application/vnd.jupyter.widget-view+json": {
       "model_id": "bd8fcd3e55ba475db023fb5e0143871d",
       "version_major": 2,
       "version_minor": 0
      },
      "text/plain": [
       "Validation Epoch [82/300]:   0%|          | 0/29 [00:00<?, ?it/s]"
      ]
     },
     "metadata": {},
     "output_type": "display_data"
    },
    {
     "name": "stdout",
     "output_type": "stream",
     "text": [
      "Epoch [82/300] - Train Loss: 0.2137, Train Acc: 0.9436, Val Loss: 0.3788, Val Acc: 0.8855\n"
     ]
    },
    {
     "data": {
      "application/vnd.jupyter.widget-view+json": {
       "model_id": "864d221d49014c048a9c11a8ea8e568e",
       "version_major": 2,
       "version_minor": 0
      },
      "text/plain": [
       "Epoch [83/300]:   0%|          | 0/125 [00:00<?, ?it/s]"
      ]
     },
     "metadata": {},
     "output_type": "display_data"
    },
    {
     "data": {
      "application/vnd.jupyter.widget-view+json": {
       "model_id": "1178698de9f941dabac9ceb994a46770",
       "version_major": 2,
       "version_minor": 0
      },
      "text/plain": [
       "Validation Epoch [83/300]:   0%|          | 0/29 [00:00<?, ?it/s]"
      ]
     },
     "metadata": {},
     "output_type": "display_data"
    },
    {
     "name": "stdout",
     "output_type": "stream",
     "text": [
      "Epoch [83/300] - Train Loss: 0.2047, Train Acc: 0.9421, Val Loss: 0.4293, Val Acc: 0.8590\n"
     ]
    },
    {
     "data": {
      "application/vnd.jupyter.widget-view+json": {
       "model_id": "f33d4629dd31442592f547e774433350",
       "version_major": 2,
       "version_minor": 0
      },
      "text/plain": [
       "Epoch [84/300]:   0%|          | 0/125 [00:00<?, ?it/s]"
      ]
     },
     "metadata": {},
     "output_type": "display_data"
    },
    {
     "data": {
      "application/vnd.jupyter.widget-view+json": {
       "model_id": "ce7fa3145c8c446ab98b0387e25b4c3c",
       "version_major": 2,
       "version_minor": 0
      },
      "text/plain": [
       "Validation Epoch [84/300]:   0%|          | 0/29 [00:00<?, ?it/s]"
      ]
     },
     "metadata": {},
     "output_type": "display_data"
    },
    {
     "name": "stdout",
     "output_type": "stream",
     "text": [
      "Epoch [84/300] - Train Loss: 0.2094, Train Acc: 0.9404, Val Loss: 0.3535, Val Acc: 0.8833\n"
     ]
    },
    {
     "data": {
      "application/vnd.jupyter.widget-view+json": {
       "model_id": "826d59d7de8a434e882459cf43afa530",
       "version_major": 2,
       "version_minor": 0
      },
      "text/plain": [
       "Epoch [85/300]:   0%|          | 0/125 [00:00<?, ?it/s]"
      ]
     },
     "metadata": {},
     "output_type": "display_data"
    },
    {
     "data": {
      "application/vnd.jupyter.widget-view+json": {
       "model_id": "7e7290bffe6c422b97df03323f2c94f0",
       "version_major": 2,
       "version_minor": 0
      },
      "text/plain": [
       "Validation Epoch [85/300]:   0%|          | 0/29 [00:00<?, ?it/s]"
      ]
     },
     "metadata": {},
     "output_type": "display_data"
    },
    {
     "name": "stdout",
     "output_type": "stream",
     "text": [
      "Epoch [85/300] - Train Loss: 0.1725, Train Acc: 0.9526, Val Loss: 0.2598, Val Acc: 0.9141\n",
      "New best model saved with Val Loss: 0.2598 at epoch 85\n"
     ]
    },
    {
     "data": {
      "application/vnd.jupyter.widget-view+json": {
       "model_id": "18594fad4e304957936469da9eab8ff5",
       "version_major": 2,
       "version_minor": 0
      },
      "text/plain": [
       "Epoch [86/300]:   0%|          | 0/125 [00:00<?, ?it/s]"
      ]
     },
     "metadata": {},
     "output_type": "display_data"
    },
    {
     "data": {
      "application/vnd.jupyter.widget-view+json": {
       "model_id": "094ab5248e3a4187b2870aec52fd82e6",
       "version_major": 2,
       "version_minor": 0
      },
      "text/plain": [
       "Validation Epoch [86/300]:   0%|          | 0/29 [00:00<?, ?it/s]"
      ]
     },
     "metadata": {},
     "output_type": "display_data"
    },
    {
     "name": "stdout",
     "output_type": "stream",
     "text": [
      "Epoch [86/300] - Train Loss: 0.1752, Train Acc: 0.9491, Val Loss: 0.3116, Val Acc: 0.8998\n"
     ]
    },
    {
     "data": {
      "application/vnd.jupyter.widget-view+json": {
       "model_id": "b5b81c2166e14ac68ac5c8aae79dd6f6",
       "version_major": 2,
       "version_minor": 0
      },
      "text/plain": [
       "Epoch [87/300]:   0%|          | 0/125 [00:00<?, ?it/s]"
      ]
     },
     "metadata": {},
     "output_type": "display_data"
    },
    {
     "data": {
      "application/vnd.jupyter.widget-view+json": {
       "model_id": "a76218439e7b48549de2cb22df32450a",
       "version_major": 2,
       "version_minor": 0
      },
      "text/plain": [
       "Validation Epoch [87/300]:   0%|          | 0/29 [00:00<?, ?it/s]"
      ]
     },
     "metadata": {},
     "output_type": "display_data"
    },
    {
     "name": "stdout",
     "output_type": "stream",
     "text": [
      "Epoch [87/300] - Train Loss: 0.2065, Train Acc: 0.9474, Val Loss: 0.4121, Val Acc: 0.8645\n"
     ]
    },
    {
     "data": {
      "application/vnd.jupyter.widget-view+json": {
       "model_id": "06ebac95ebe0421a97bf8bae7c316ba0",
       "version_major": 2,
       "version_minor": 0
      },
      "text/plain": [
       "Epoch [88/300]:   0%|          | 0/125 [00:00<?, ?it/s]"
      ]
     },
     "metadata": {},
     "output_type": "display_data"
    },
    {
     "data": {
      "application/vnd.jupyter.widget-view+json": {
       "model_id": "7de9ae495b094ba5ab45ade258192ee8",
       "version_major": 2,
       "version_minor": 0
      },
      "text/plain": [
       "Validation Epoch [88/300]:   0%|          | 0/29 [00:00<?, ?it/s]"
      ]
     },
     "metadata": {},
     "output_type": "display_data"
    },
    {
     "name": "stdout",
     "output_type": "stream",
     "text": [
      "Epoch [88/300] - Train Loss: 0.2068, Train Acc: 0.9419, Val Loss: 0.4726, Val Acc: 0.8689\n"
     ]
    },
    {
     "data": {
      "application/vnd.jupyter.widget-view+json": {
       "model_id": "676fbf54a4514fabab2458de3f4d15fa",
       "version_major": 2,
       "version_minor": 0
      },
      "text/plain": [
       "Epoch [89/300]:   0%|          | 0/125 [00:00<?, ?it/s]"
      ]
     },
     "metadata": {},
     "output_type": "display_data"
    },
    {
     "data": {
      "application/vnd.jupyter.widget-view+json": {
       "model_id": "cec944f811dd450f978bc987163eabb5",
       "version_major": 2,
       "version_minor": 0
      },
      "text/plain": [
       "Validation Epoch [89/300]:   0%|          | 0/29 [00:00<?, ?it/s]"
      ]
     },
     "metadata": {},
     "output_type": "display_data"
    },
    {
     "name": "stdout",
     "output_type": "stream",
     "text": [
      "Epoch [89/300] - Train Loss: 0.2188, Train Acc: 0.9409, Val Loss: 0.3757, Val Acc: 0.8744\n"
     ]
    },
    {
     "data": {
      "application/vnd.jupyter.widget-view+json": {
       "model_id": "f92ec9af29d14409b23754879faa467d",
       "version_major": 2,
       "version_minor": 0
      },
      "text/plain": [
       "Epoch [90/300]:   0%|          | 0/125 [00:00<?, ?it/s]"
      ]
     },
     "metadata": {},
     "output_type": "display_data"
    },
    {
     "data": {
      "application/vnd.jupyter.widget-view+json": {
       "model_id": "285fecd560934f1c8befe2ce962137ed",
       "version_major": 2,
       "version_minor": 0
      },
      "text/plain": [
       "Validation Epoch [90/300]:   0%|          | 0/29 [00:00<?, ?it/s]"
      ]
     },
     "metadata": {},
     "output_type": "display_data"
    },
    {
     "name": "stdout",
     "output_type": "stream",
     "text": [
      "Epoch [90/300] - Train Loss: 0.1954, Train Acc: 0.9494, Val Loss: 0.4978, Val Acc: 0.8535\n",
      "Checkpoint saved at ./checkpoints_modelnet10/PointRTD/CR_0.6/classification_epoch_90.pth\n"
     ]
    },
    {
     "data": {
      "application/vnd.jupyter.widget-view+json": {
       "model_id": "8d07cdf9bcee4296910ea78b3c44c536",
       "version_major": 2,
       "version_minor": 0
      },
      "text/plain": [
       "Epoch [91/300]:   0%|          | 0/125 [00:00<?, ?it/s]"
      ]
     },
     "metadata": {},
     "output_type": "display_data"
    },
    {
     "data": {
      "application/vnd.jupyter.widget-view+json": {
       "model_id": "8b7d36320c7e4710a5c9b90e34e8ca1a",
       "version_major": 2,
       "version_minor": 0
      },
      "text/plain": [
       "Validation Epoch [91/300]:   0%|          | 0/29 [00:00<?, ?it/s]"
      ]
     },
     "metadata": {},
     "output_type": "display_data"
    },
    {
     "name": "stdout",
     "output_type": "stream",
     "text": [
      "Epoch [91/300] - Train Loss: 0.1863, Train Acc: 0.9486, Val Loss: 0.3925, Val Acc: 0.8678\n"
     ]
    },
    {
     "data": {
      "application/vnd.jupyter.widget-view+json": {
       "model_id": "ba4a89d024d340799cc48aa7609a0823",
       "version_major": 2,
       "version_minor": 0
      },
      "text/plain": [
       "Epoch [92/300]:   0%|          | 0/125 [00:00<?, ?it/s]"
      ]
     },
     "metadata": {},
     "output_type": "display_data"
    },
    {
     "data": {
      "application/vnd.jupyter.widget-view+json": {
       "model_id": "df4488e56b96434fabc1d06876de324e",
       "version_major": 2,
       "version_minor": 0
      },
      "text/plain": [
       "Validation Epoch [92/300]:   0%|          | 0/29 [00:00<?, ?it/s]"
      ]
     },
     "metadata": {},
     "output_type": "display_data"
    },
    {
     "name": "stdout",
     "output_type": "stream",
     "text": [
      "Epoch [92/300] - Train Loss: 0.1605, Train Acc: 0.9562, Val Loss: 0.5168, Val Acc: 0.8822\n"
     ]
    },
    {
     "data": {
      "application/vnd.jupyter.widget-view+json": {
       "model_id": "98a39b50355f4ebdbd33f3db5c40c133",
       "version_major": 2,
       "version_minor": 0
      },
      "text/plain": [
       "Epoch [93/300]:   0%|          | 0/125 [00:00<?, ?it/s]"
      ]
     },
     "metadata": {},
     "output_type": "display_data"
    },
    {
     "data": {
      "application/vnd.jupyter.widget-view+json": {
       "model_id": "ada7c31fb8664f26bce7adf6f24c2764",
       "version_major": 2,
       "version_minor": 0
      },
      "text/plain": [
       "Validation Epoch [93/300]:   0%|          | 0/29 [00:00<?, ?it/s]"
      ]
     },
     "metadata": {},
     "output_type": "display_data"
    },
    {
     "name": "stdout",
     "output_type": "stream",
     "text": [
      "Epoch [93/300] - Train Loss: 0.1973, Train Acc: 0.9461, Val Loss: 0.3088, Val Acc: 0.8921\n"
     ]
    },
    {
     "data": {
      "application/vnd.jupyter.widget-view+json": {
       "model_id": "452fde51f2aa4174aa544ed9effa593a",
       "version_major": 2,
       "version_minor": 0
      },
      "text/plain": [
       "Epoch [94/300]:   0%|          | 0/125 [00:00<?, ?it/s]"
      ]
     },
     "metadata": {},
     "output_type": "display_data"
    },
    {
     "data": {
      "application/vnd.jupyter.widget-view+json": {
       "model_id": "d48e75370570459086eff5a4b821f6de",
       "version_major": 2,
       "version_minor": 0
      },
      "text/plain": [
       "Validation Epoch [94/300]:   0%|          | 0/29 [00:00<?, ?it/s]"
      ]
     },
     "metadata": {},
     "output_type": "display_data"
    },
    {
     "name": "stdout",
     "output_type": "stream",
     "text": [
      "Epoch [94/300] - Train Loss: 0.1881, Train Acc: 0.9499, Val Loss: 0.3321, Val Acc: 0.8976\n"
     ]
    },
    {
     "data": {
      "application/vnd.jupyter.widget-view+json": {
       "model_id": "35027befd4c041339bbb12047781d679",
       "version_major": 2,
       "version_minor": 0
      },
      "text/plain": [
       "Epoch [95/300]:   0%|          | 0/125 [00:00<?, ?it/s]"
      ]
     },
     "metadata": {},
     "output_type": "display_data"
    },
    {
     "data": {
      "application/vnd.jupyter.widget-view+json": {
       "model_id": "8cfbbeb3e4144a31b403aa35c56dbc53",
       "version_major": 2,
       "version_minor": 0
      },
      "text/plain": [
       "Validation Epoch [95/300]:   0%|          | 0/29 [00:00<?, ?it/s]"
      ]
     },
     "metadata": {},
     "output_type": "display_data"
    },
    {
     "name": "stdout",
     "output_type": "stream",
     "text": [
      "Epoch [95/300] - Train Loss: 0.2521, Train Acc: 0.9341, Val Loss: 0.4112, Val Acc: 0.8833\n"
     ]
    },
    {
     "data": {
      "application/vnd.jupyter.widget-view+json": {
       "model_id": "e3cdab5f62234c76803cd5f67874a24a",
       "version_major": 2,
       "version_minor": 0
      },
      "text/plain": [
       "Epoch [96/300]:   0%|          | 0/125 [00:00<?, ?it/s]"
      ]
     },
     "metadata": {},
     "output_type": "display_data"
    },
    {
     "data": {
      "application/vnd.jupyter.widget-view+json": {
       "model_id": "3ee4642362d34e748a95029b73790b75",
       "version_major": 2,
       "version_minor": 0
      },
      "text/plain": [
       "Validation Epoch [96/300]:   0%|          | 0/29 [00:00<?, ?it/s]"
      ]
     },
     "metadata": {},
     "output_type": "display_data"
    },
    {
     "name": "stdout",
     "output_type": "stream",
     "text": [
      "Epoch [96/300] - Train Loss: 0.2184, Train Acc: 0.9389, Val Loss: 0.3159, Val Acc: 0.8987\n"
     ]
    },
    {
     "data": {
      "application/vnd.jupyter.widget-view+json": {
       "model_id": "14798fed44db4b7489ac382246e982c5",
       "version_major": 2,
       "version_minor": 0
      },
      "text/plain": [
       "Epoch [97/300]:   0%|          | 0/125 [00:00<?, ?it/s]"
      ]
     },
     "metadata": {},
     "output_type": "display_data"
    },
    {
     "data": {
      "application/vnd.jupyter.widget-view+json": {
       "model_id": "00c87084609641729ee9be77938de9ff",
       "version_major": 2,
       "version_minor": 0
      },
      "text/plain": [
       "Validation Epoch [97/300]:   0%|          | 0/29 [00:00<?, ?it/s]"
      ]
     },
     "metadata": {},
     "output_type": "display_data"
    },
    {
     "name": "stdout",
     "output_type": "stream",
     "text": [
      "Epoch [97/300] - Train Loss: 0.2028, Train Acc: 0.9396, Val Loss: 0.3558, Val Acc: 0.8998\n"
     ]
    },
    {
     "data": {
      "application/vnd.jupyter.widget-view+json": {
       "model_id": "c7005a8739424013856cfc3825f5c031",
       "version_major": 2,
       "version_minor": 0
      },
      "text/plain": [
       "Epoch [98/300]:   0%|          | 0/125 [00:00<?, ?it/s]"
      ]
     },
     "metadata": {},
     "output_type": "display_data"
    },
    {
     "data": {
      "application/vnd.jupyter.widget-view+json": {
       "model_id": "17a1970eee8d46e2afa18bdee0893f7c",
       "version_major": 2,
       "version_minor": 0
      },
      "text/plain": [
       "Validation Epoch [98/300]:   0%|          | 0/29 [00:00<?, ?it/s]"
      ]
     },
     "metadata": {},
     "output_type": "display_data"
    },
    {
     "name": "stdout",
     "output_type": "stream",
     "text": [
      "Epoch [98/300] - Train Loss: 0.2011, Train Acc: 0.9424, Val Loss: 0.3007, Val Acc: 0.9130\n"
     ]
    },
    {
     "data": {
      "application/vnd.jupyter.widget-view+json": {
       "model_id": "8bd9595570f34640a702c12cd811769c",
       "version_major": 2,
       "version_minor": 0
      },
      "text/plain": [
       "Epoch [99/300]:   0%|          | 0/125 [00:00<?, ?it/s]"
      ]
     },
     "metadata": {},
     "output_type": "display_data"
    },
    {
     "data": {
      "application/vnd.jupyter.widget-view+json": {
       "model_id": "ce79570eed9649b685b76e926be0aeaa",
       "version_major": 2,
       "version_minor": 0
      },
      "text/plain": [
       "Validation Epoch [99/300]:   0%|          | 0/29 [00:00<?, ?it/s]"
      ]
     },
     "metadata": {},
     "output_type": "display_data"
    },
    {
     "name": "stdout",
     "output_type": "stream",
     "text": [
      "Epoch [99/300] - Train Loss: 0.1524, Train Acc: 0.9584, Val Loss: 0.3634, Val Acc: 0.8877\n"
     ]
    },
    {
     "data": {
      "application/vnd.jupyter.widget-view+json": {
       "model_id": "52d80a286f844f7996ec7ffb99f57d87",
       "version_major": 2,
       "version_minor": 0
      },
      "text/plain": [
       "Epoch [100/300]:   0%|          | 0/125 [00:00<?, ?it/s]"
      ]
     },
     "metadata": {},
     "output_type": "display_data"
    },
    {
     "data": {
      "application/vnd.jupyter.widget-view+json": {
       "model_id": "f8aeb7e81d854d84b890ccc12d8142c3",
       "version_major": 2,
       "version_minor": 0
      },
      "text/plain": [
       "Validation Epoch [100/300]:   0%|          | 0/29 [00:00<?, ?it/s]"
      ]
     },
     "metadata": {},
     "output_type": "display_data"
    },
    {
     "name": "stdout",
     "output_type": "stream",
     "text": [
      "Epoch [100/300] - Train Loss: 0.1714, Train Acc: 0.9526, Val Loss: 0.3086, Val Acc: 0.9097\n",
      "Checkpoint saved at ./checkpoints_modelnet10/PointRTD/CR_0.6/classification_epoch_100.pth\n"
     ]
    },
    {
     "data": {
      "application/vnd.jupyter.widget-view+json": {
       "model_id": "636190416512457281db262dc8cf8249",
       "version_major": 2,
       "version_minor": 0
      },
      "text/plain": [
       "Epoch [101/300]:   0%|          | 0/125 [00:00<?, ?it/s]"
      ]
     },
     "metadata": {},
     "output_type": "display_data"
    },
    {
     "data": {
      "application/vnd.jupyter.widget-view+json": {
       "model_id": "7a6a587cc20b4a4ca6cab48ac589e23c",
       "version_major": 2,
       "version_minor": 0
      },
      "text/plain": [
       "Validation Epoch [101/300]:   0%|          | 0/29 [00:00<?, ?it/s]"
      ]
     },
     "metadata": {},
     "output_type": "display_data"
    },
    {
     "name": "stdout",
     "output_type": "stream",
     "text": [
      "Epoch [101/300] - Train Loss: 0.1795, Train Acc: 0.9494, Val Loss: 0.3715, Val Acc: 0.8789\n"
     ]
    },
    {
     "data": {
      "application/vnd.jupyter.widget-view+json": {
       "model_id": "cbe983323dc34febbcddd1420c1fe6d4",
       "version_major": 2,
       "version_minor": 0
      },
      "text/plain": [
       "Epoch [102/300]:   0%|          | 0/125 [00:00<?, ?it/s]"
      ]
     },
     "metadata": {},
     "output_type": "display_data"
    },
    {
     "data": {
      "application/vnd.jupyter.widget-view+json": {
       "model_id": "d7f59b5fa55a4358a76a97a4b5978061",
       "version_major": 2,
       "version_minor": 0
      },
      "text/plain": [
       "Validation Epoch [102/300]:   0%|          | 0/29 [00:00<?, ?it/s]"
      ]
     },
     "metadata": {},
     "output_type": "display_data"
    },
    {
     "name": "stdout",
     "output_type": "stream",
     "text": [
      "Epoch [102/300] - Train Loss: 0.4266, Train Acc: 0.8930, Val Loss: 0.4269, Val Acc: 0.8700\n"
     ]
    },
    {
     "data": {
      "application/vnd.jupyter.widget-view+json": {
       "model_id": "c378f392bdb6413fb03fa3a9fa030085",
       "version_major": 2,
       "version_minor": 0
      },
      "text/plain": [
       "Epoch [103/300]:   0%|          | 0/125 [00:00<?, ?it/s]"
      ]
     },
     "metadata": {},
     "output_type": "display_data"
    },
    {
     "data": {
      "application/vnd.jupyter.widget-view+json": {
       "model_id": "f18adfa3b56648cdac1e0d29e25673ed",
       "version_major": 2,
       "version_minor": 0
      },
      "text/plain": [
       "Validation Epoch [103/300]:   0%|          | 0/29 [00:00<?, ?it/s]"
      ]
     },
     "metadata": {},
     "output_type": "display_data"
    },
    {
     "name": "stdout",
     "output_type": "stream",
     "text": [
      "Epoch [103/300] - Train Loss: 0.2557, Train Acc: 0.9263, Val Loss: 0.4261, Val Acc: 0.8722\n"
     ]
    },
    {
     "data": {
      "application/vnd.jupyter.widget-view+json": {
       "model_id": "ca691e38df0940eaa4b5f9b4fcc732b9",
       "version_major": 2,
       "version_minor": 0
      },
      "text/plain": [
       "Epoch [104/300]:   0%|          | 0/125 [00:00<?, ?it/s]"
      ]
     },
     "metadata": {},
     "output_type": "display_data"
    },
    {
     "data": {
      "application/vnd.jupyter.widget-view+json": {
       "model_id": "b8a54f40301d4667b3a42d434e57989b",
       "version_major": 2,
       "version_minor": 0
      },
      "text/plain": [
       "Validation Epoch [104/300]:   0%|          | 0/29 [00:00<?, ?it/s]"
      ]
     },
     "metadata": {},
     "output_type": "display_data"
    },
    {
     "name": "stdout",
     "output_type": "stream",
     "text": [
      "Epoch [104/300] - Train Loss: 0.2141, Train Acc: 0.9466, Val Loss: 0.3387, Val Acc: 0.9009\n"
     ]
    },
    {
     "data": {
      "application/vnd.jupyter.widget-view+json": {
       "model_id": "76e022978fc34c0e80f48410358e9cd6",
       "version_major": 2,
       "version_minor": 0
      },
      "text/plain": [
       "Epoch [105/300]:   0%|          | 0/125 [00:00<?, ?it/s]"
      ]
     },
     "metadata": {},
     "output_type": "display_data"
    },
    {
     "data": {
      "application/vnd.jupyter.widget-view+json": {
       "model_id": "7f63db06570f48d7b2e0d989e12d179f",
       "version_major": 2,
       "version_minor": 0
      },
      "text/plain": [
       "Validation Epoch [105/300]:   0%|          | 0/29 [00:00<?, ?it/s]"
      ]
     },
     "metadata": {},
     "output_type": "display_data"
    },
    {
     "name": "stdout",
     "output_type": "stream",
     "text": [
      "Epoch [105/300] - Train Loss: 0.1805, Train Acc: 0.9514, Val Loss: 0.3669, Val Acc: 0.8943\n"
     ]
    },
    {
     "data": {
      "application/vnd.jupyter.widget-view+json": {
       "model_id": "3969940a9b504af3862f67f4cec3011c",
       "version_major": 2,
       "version_minor": 0
      },
      "text/plain": [
       "Epoch [106/300]:   0%|          | 0/125 [00:00<?, ?it/s]"
      ]
     },
     "metadata": {},
     "output_type": "display_data"
    },
    {
     "data": {
      "application/vnd.jupyter.widget-view+json": {
       "model_id": "6daff02b27714107886b53d4f2a76fe0",
       "version_major": 2,
       "version_minor": 0
      },
      "text/plain": [
       "Validation Epoch [106/300]:   0%|          | 0/29 [00:00<?, ?it/s]"
      ]
     },
     "metadata": {},
     "output_type": "display_data"
    }
   ],
   "source": [
    "# Initialize a variable to keep track of the lowest validation loss\n",
    "best_val_loss = float('inf')\n",
    "best_epoch = -1  # To track the epoch of the best model\n",
    "\n",
    "# --- 8. Training and Validation Loop ---\n",
    "for epoch in range(EPOCHS):\n",
    "    train_loss, train_acc = train_one_epoch(classification_model, train_loader, optimizer, epoch)\n",
    "    val_loss, val_acc = validate_one_epoch(classification_model, test_loader, epoch)\n",
    "    \n",
    "    # Step the scheduler\n",
    "    scheduler.step()\n",
    "    \n",
    "    # Log metrics to TensorBoard\n",
    "    writer.add_scalar(\"Train/Loss\", train_loss, epoch)\n",
    "    writer.add_scalar(\"Train/Accuracy\", train_acc, epoch)\n",
    "    writer.add_scalar(\"Validation/Loss\", val_loss, epoch)\n",
    "    writer.add_scalar(\"Validation/Accuracy\", val_acc, epoch)\n",
    "    writer.add_scalar(\"Learning_Rate\", scheduler.get_last_lr()[0], epoch)\n",
    "\n",
    "    # Print epoch stats\n",
    "    print(f\"Epoch [{epoch+1}/{EPOCHS}] - Train Loss: {train_loss:.4f}, Train Acc: {train_acc:.4f}, \"\n",
    "          f\"Val Loss: {val_loss:.4f}, Val Acc: {val_acc:.4f}\")\n",
    "\n",
    "    # Save checkpoint every 10 epochs\n",
    "    if (epoch + 1) % 10 == 0:\n",
    "        checkpoint_path = os.path.join(CHECKPOINT_DIR, f\"classification_epoch_{epoch+1}.pth\")\n",
    "        torch.save({\n",
    "            'epoch': epoch,\n",
    "            'model_state_dict': classification_model.state_dict(),\n",
    "            'optimizer_state_dict': optimizer.state_dict(),\n",
    "            'scheduler_state_dict': scheduler.state_dict()\n",
    "        }, checkpoint_path)\n",
    "\n",
    "        print(f\"Checkpoint saved at {checkpoint_path}\")\n",
    "\n",
    "    # Save the best model based on validation loss\n",
    "    if val_loss < best_val_loss:\n",
    "        best_val_loss = val_loss\n",
    "        best_epoch = epoch + 1  # Update to the current epoch (1-based index)\n",
    "        best_checkpoint_path = os.path.join(CHECKPOINT_DIR, f\"best_model_epoch_{best_epoch}.pth\")\n",
    "        \n",
    "        torch.save({\n",
    "            'epoch': epoch,\n",
    "            'model_state_dict': classification_model.state_dict(),\n",
    "            'optimizer_state_dict': optimizer.state_dict(),\n",
    "            'scheduler_state_dict': scheduler.state_dict()\n",
    "        }, best_checkpoint_path)\n",
    "\n",
    "        print(f\"New best model saved with Val Loss: {val_loss:.4f} at epoch {best_epoch}\")\n",
    "\n",
    "# Close TensorBoard writer\n",
    "writer.close()\n",
    "print(\"Training complete.\")\n"
   ]
  },
  {
   "cell_type": "code",
   "execution_count": 8,
   "metadata": {},
   "outputs": [],
   "source": [
    "from sklearn.metrics import accuracy_score, f1_score, confusion_matrix\n",
    "import matplotlib.pyplot as plt\n",
    "import seaborn as sns\n",
    "from collections import Counter\n",
    "import os\n",
    "\n",
    "# --- Load Classification Model Checkpoint ---\n",
    "def load_classification_checkpoint(model, checkpoint_path):\n",
    "    if os.path.isfile(checkpoint_path):\n",
    "        print(f\"Loading checkpoint from {checkpoint_path}\")\n",
    "        checkpoint = torch.load(checkpoint_path, map_location=DEVICE, weights_only=True)\n",
    "        model.load_state_dict(checkpoint['model_state_dict'])\n",
    "        print(\"Checkpoint loaded successfully.\")\n",
    "    else:\n",
    "        print(f\"Checkpoint not found at {checkpoint_path}\")\n",
    "\n",
    "\n",
    "# --- Evaluate Model on Test Set with Voting ---\n",
    "def evaluate_model_with_voting(model, loader, num_votes=10, class_names=None):\n",
    "    model.eval()\n",
    "    all_labels = []\n",
    "    all_predictions = []\n",
    "\n",
    "    with torch.no_grad():\n",
    "        for points, labels in tqdm(loader, desc=\"Evaluating Test Set with Voting\"):\n",
    "            points, labels = points.to(DEVICE), labels.to(DEVICE)\n",
    "            batch_size = points.size(0)\n",
    "            vote_predictions = []\n",
    "\n",
    "            for v in range(num_votes):\n",
    "                # Apply random augmentations to the points\n",
    "                augmented_points = apply_test_augmentations(points.clone())\n",
    "\n",
    "                # Forward pass\n",
    "                outputs = model(augmented_points)\n",
    "                _, predicted = outputs.max(1)\n",
    "                vote_predictions.append(predicted.cpu().numpy())\n",
    "\n",
    "            # Majority voting\n",
    "            vote_predictions = np.array(vote_predictions)  # Shape: (num_votes, batch_size)\n",
    "            final_predictions = []\n",
    "\n",
    "            for i in range(batch_size):\n",
    "                votes = vote_predictions[:, i]\n",
    "                most_common = Counter(votes).most_common(1)[0][0]\n",
    "                final_predictions.append(most_common)\n",
    "\n",
    "            all_labels.extend(labels.cpu().numpy())\n",
    "            all_predictions.extend(final_predictions)\n",
    "\n",
    "    # Calculate accuracy and F1 score\n",
    "    test_accuracy = accuracy_score(all_labels, all_predictions)\n",
    "    test_f1_score = f1_score(all_labels, all_predictions, average='weighted')\n",
    "\n",
    "    # Calculate and optionally display confusion matrix\n",
    "    conf_matrix = confusion_matrix(all_labels, all_predictions)\n",
    "\n",
    "    if class_names is not None:\n",
    "        plt.figure(figsize=(10, 8))\n",
    "        sns.heatmap(conf_matrix, annot=True, fmt='d', cmap='Blues', xticklabels=class_names, yticklabels=class_names)\n",
    "        plt.xlabel('Predicted')\n",
    "        plt.ylabel('Actual')\n",
    "        plt.title('Confusion Matrix')\n",
    "        plt.show()\n",
    "    else:\n",
    "        print(\"Confusion Matrix:\")\n",
    "        print(conf_matrix)\n",
    "\n",
    "    return test_accuracy, test_f1_score, conf_matrix\n",
    "\n",
    "def apply_test_augmentations(points):\n",
    "    \"\"\"Apply random rotations and jittering for test-time augmentation.\"\"\"\n",
    "    return points"
   ]
  },
  {
   "cell_type": "code",
   "execution_count": 9,
   "metadata": {},
   "outputs": [
    {
     "name": "stdout",
     "output_type": "stream",
     "text": [
      "\n",
      "Evaluating Model at Epoch 300...\n",
      "Loading checkpoint from ./checkpoints_modelnet10/PointRTD/CR_0.6/classification_epoch_300.pth\n",
      "Checkpoint loaded successfully.\n"
     ]
    },
    {
     "data": {
      "application/vnd.jupyter.widget-view+json": {
       "model_id": "c748a3e7ab7746a99d6a6601e1a984f3",
       "version_major": 2,
       "version_minor": 0
      },
      "text/plain": [
       "Evaluating Test Set with Voting:   0%|          | 0/29 [00:00<?, ?it/s]"
      ]
     },
     "metadata": {},
     "output_type": "display_data"
    },
    {
     "data": {
      "image/png": "[encoded data removed]",
      "text/plain": [
       "<Figure size 1000x800 with 2 Axes>"
      ]
     },
     "metadata": {},
     "output_type": "display_data"
    },
    {
     "name": "stdout",
     "output_type": "stream",
     "text": [
      "Accuracy: 0.9218061674008811; F1 Score: 0.9213814512569043;\n",
      "\n",
      "Evaluating Model at Epoch 250...\n",
      "Loading checkpoint from ./checkpoints_modelnet10/PointRTD/CR_0.6/classification_epoch_250.pth\n",
      "Checkpoint loaded successfully.\n"
     ]
    },
    {
     "data": {
      "application/vnd.jupyter.widget-view+json": {
       "model_id": "e95365f12dc74160a5b88c3636ad2acb",
       "version_major": 2,
       "version_minor": 0
      },
      "text/plain": [
       "Evaluating Test Set with Voting:   0%|          | 0/29 [00:00<?, ?it/s]"
      ]
     },
     "metadata": {},
     "output_type": "display_data"
    },
    {
     "data": {
      "image/png": "[encoded data removed]",
      "text/plain": [
       "<Figure size 1000x800 with 2 Axes>"
      ]
     },
     "metadata": {},
     "output_type": "display_data"
    },
    {
     "name": "stdout",
     "output_type": "stream",
     "text": [
      "Accuracy: 0.920704845814978; F1 Score: 0.9202684591298638;\n",
      "\n",
      "Evaluating Model at Epoch 200...\n",
      "Loading checkpoint from ./checkpoints_modelnet10/PointRTD/CR_0.6/classification_epoch_200.pth\n",
      "Checkpoint loaded successfully.\n"
     ]
    },
    {
     "data": {
      "application/vnd.jupyter.widget-view+json": {
       "model_id": "cbd07263dede45cf98b5f2ad979250c4",
       "version_major": 2,
       "version_minor": 0
      },
      "text/plain": [
       "Evaluating Test Set with Voting:   0%|          | 0/29 [00:00<?, ?it/s]"
      ]
     },
     "metadata": {},
     "output_type": "display_data"
    },
    {
     "data": {
      "image/png": "[encoded data removed]",
      "text/plain": [
       "<Figure size 1000x800 with 2 Axes>"
      ]
     },
     "metadata": {},
     "output_type": "display_data"
    },
    {
     "name": "stdout",
     "output_type": "stream",
     "text": [
      "Accuracy: 0.9229074889867841; F1 Score: 0.9224386487231817;\n",
      "\n",
      "Evaluating Model at Epoch 150...\n",
      "Loading checkpoint from ./checkpoints_modelnet10/PointRTD/CR_0.6/classification_epoch_150.pth\n",
      "Checkpoint loaded successfully.\n"
     ]
    },
    {
     "data": {
      "application/vnd.jupyter.widget-view+json": {
       "model_id": "c429964d1bd74206b7c180bc2afb5922",
       "version_major": 2,
       "version_minor": 0
      },
      "text/plain": [
       "Evaluating Test Set with Voting:   0%|          | 0/29 [00:00<?, ?it/s]"
      ]
     },
     "metadata": {},
     "output_type": "display_data"
    },
    {
     "data": {
      "image/png": "[encoded data removed]",
      "text/plain": [
       "<Figure size 1000x800 with 2 Axes>"
      ]
     },
     "metadata": {},
     "output_type": "display_data"
    },
    {
     "name": "stdout",
     "output_type": "stream",
     "text": [
      "Accuracy: 0.9118942731277533; F1 Score: 0.9109372573455856;\n",
      "\n",
      "Evaluating Model at Epoch 100...\n",
      "Loading checkpoint from ./checkpoints_modelnet10/PointRTD/CR_0.6/classification_epoch_100.pth\n",
      "Checkpoint loaded successfully.\n"
     ]
    },
    {
     "data": {
      "application/vnd.jupyter.widget-view+json": {
       "model_id": "a1907fa2eb22460293acafb422d97c01",
       "version_major": 2,
       "version_minor": 0
      },
      "text/plain": [
       "Evaluating Test Set with Voting:   0%|          | 0/29 [00:00<?, ?it/s]"
      ]
     },
     "metadata": {},
     "output_type": "display_data"
    },
    {
     "data": {
      "image/png": "[encoded data removed]",
      "text/plain": [
       "<Figure size 1000x800 with 2 Axes>"
      ]
     },
     "metadata": {},
     "output_type": "display_data"
    },
    {
     "name": "stdout",
     "output_type": "stream",
     "text": [
      "Accuracy: 0.9251101321585903; F1 Score: 0.9249507594000039;\n",
      "\n",
      "Evaluating Model at Epoch 50...\n",
      "Loading checkpoint from ./checkpoints_modelnet10/PointRTD/CR_0.6/classification_epoch_50.pth\n",
      "Checkpoint loaded successfully.\n"
     ]
    },
    {
     "data": {
      "application/vnd.jupyter.widget-view+json": {
       "model_id": "3a45139c7fa740459c84559a82a9aa13",
       "version_major": 2,
       "version_minor": 0
      },
      "text/plain": [
       "Evaluating Test Set with Voting:   0%|          | 0/29 [00:00<?, ?it/s]"
      ]
     },
     "metadata": {},
     "output_type": "display_data"
    },
    {
     "data": {
      "image/png": "[encoded data removed]",
      "text/plain": [
       "<Figure size 1000x800 with 2 Axes>"
      ]
     },
     "metadata": {},
     "output_type": "display_data"
    },
    {
     "name": "stdout",
     "output_type": "stream",
     "text": [
      "Accuracy: 0.9096916299559471; F1 Score: 0.9105906941549003;\n",
      "\n",
      "Evaluating Model at Epoch 10...\n",
      "Loading checkpoint from ./checkpoints_modelnet10/PointRTD/CR_0.6/classification_epoch_10.pth\n",
      "Checkpoint loaded successfully.\n"
     ]
    },
    {
     "data": {
      "application/vnd.jupyter.widget-view+json": {
       "model_id": "2a6b223dabc546c0accb316eff8eb525",
       "version_major": 2,
       "version_minor": 0
      },
      "text/plain": [
       "Evaluating Test Set with Voting:   0%|          | 0/29 [00:00<?, ?it/s]"
      ]
     },
     "metadata": {},
     "output_type": "display_data"
    },
    {
     "data": {
      "image/png": "[encoded data removed]",
      "text/plain": [
       "<Figure size 1000x800 with 2 Axes>"
      ]
     },
     "metadata": {},
     "output_type": "display_data"
    },
    {
     "name": "stdout",
     "output_type": "stream",
     "text": [
      "Accuracy: 0.8050660792951542; F1 Score: 0.8016774000587251;\n",
      "\n",
      "Evaluation Results:\n",
      "Epoch\tAccuracy\tF1 Score\n",
      "300\t0.9218\t\t0.9214\n",
      "250\t0.9207\t\t0.9203\n",
      "200\t0.9229\t\t0.9224\n",
      "150\t0.9119\t\t0.9109\n",
      "100\t0.9251\t\t0.9250\n",
      "50\t0.9097\t\t0.9106\n",
      "10\t0.8051\t\t0.8017\n"
     ]
    }
   ],
   "source": [
    "# --- Main Evaluation Loop ---\n",
    "checkpoint_epochs = [10, 50, 100, 150, 200, 250, 300]\n",
    "checkpoint_epochs.reverse()\n",
    "results = []\n",
    "\n",
    "class_names = ['bathtub', 'bed', 'chair', 'desk', 'dresser', 'monitor', 'night_stand', 'sofa', 'table', 'toilet']\n",
    "\n",
    "for epoch in checkpoint_epochs:\n",
    "    checkpoint_path = f\"./checkpoints_modelnet10/PointRTD/CR_{CORRUPTION_RATIO}/classification_epoch_{epoch}.pth\"\n",
    "    # checkpoint_path = f\"./checkpoints_modelnet10/PointRTD/CR_{CORRUPTION_RATIO}/best_model_epoch_106.pth\"\n",
    "    print(f\"\\nEvaluating Model at Epoch {epoch}...\")\n",
    "    \n",
    "    try:\n",
    "        load_classification_checkpoint(classification_model, checkpoint_path)\n",
    "        test_accuracy_voting, test_f1_score_voting, conf_matrix = evaluate_model_with_voting(\n",
    "            classification_model, test_loader, num_votes=10, class_names=class_names\n",
    "        )\n",
    "        print(f\"Accuracy: {test_accuracy_voting}; F1 Score: {test_f1_score_voting};\")\n",
    "        results.append((epoch, test_accuracy_voting, test_f1_score_voting))\n",
    "    except FileNotFoundError as e:\n",
    "        print(e)\n",
    "\n",
    "# --- Print Results ---\n",
    "print(\"\\nEvaluation Results:\")\n",
    "print(\"Epoch\\tAccuracy\\tF1 Score\")\n",
    "for epoch, acc, f1 in results:\n",
    "    print(f\"{epoch}\\t{acc:.4f}\\t\\t{f1:.4f}\")"
   ]
  },
  {
   "cell_type": "code",
   "execution_count": null,
   "metadata": {},
   "outputs": [],
   "source": []
  }
 ],
 "metadata": {
  "kernelspec": {
   "display_name": "pytorch3d",
   "language": "python",
   "name": "pytorch3d"
  },
  "language_info": {
   "codemirror_mode": {
    "name": "ipython",
    "version": 3
   },
   "file_extension": ".py",
   "mimetype": "text/x-python",
   "name": "python",
   "nbconvert_exporter": "python",
   "pygments_lexer": "ipython3",
   "version": "3.10.4"
  }
 },
 "nbformat": 4,
 "nbformat_minor": 4
}
